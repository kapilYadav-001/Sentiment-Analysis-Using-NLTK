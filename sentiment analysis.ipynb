{
 "metadata": {
  "language_info": {
   "codemirror_mode": {
    "name": "ipython",
    "version": 3
   },
   "file_extension": ".py",
   "mimetype": "text/x-python",
   "name": "python",
   "nbconvert_exporter": "python",
   "pygments_lexer": "ipython3",
   "version": "3.8.5"
  },
  "orig_nbformat": 4,
  "kernelspec": {
   "name": "python3",
   "display_name": "Python 3.8.5 64-bit ('base': conda)"
  },
  "interpreter": {
   "hash": "d862afd012e95032983128f7fd4d27e359bc69a4ee6e8634b060610de2918ea9"
  }
 },
 "nbformat": 4,
 "nbformat_minor": 2,
 "cells": [
  {
   "source": [
    "# importing necessary libraries"
   ],
   "cell_type": "markdown",
   "metadata": {}
  },
  {
   "cell_type": "code",
   "execution_count": 295,
   "metadata": {},
   "outputs": [],
   "source": [
    "import pandas as pd\n",
    "import seaborn as sns\n",
    "import matplotlib.pyplot as plt\n",
    "import nltk\n",
    "from sklearn.feature_extraction.text import CountVectorizer\n",
    "from sklearn.feature_extraction.text import TfidfVectorizer\n",
    "from sklearn.preprocessing import LabelBinarizer\n",
    "from nltk.corpus import stopwords\n",
    "from nltk.stem.porter import PorterStemmer\n",
    "from wordcloud import WordCloud,STOPWORDS\n",
    "from nltk.stem import WordNetLemmatizer\n",
    "from nltk.tokenize import word_tokenize,sent_tokenize\n",
    "from bs4 import BeautifulSoup\n",
    "import spacy\n",
    "import re,string,unicodedata\n",
    "from nltk.tokenize.toktok import ToktokTokenizer\n",
    "from nltk.stem import LancasterStemmer,WordNetLemmatizer\n",
    "from sklearn.linear_model import LogisticRegression,SGDClassifier\n",
    "from sklearn.naive_bayes import MultinomialNB\n",
    "from sklearn.svm import SVC\n",
    "from textblob import TextBlob\n",
    "from textblob import Word\n",
    "from sklearn.metrics import classification_report,confusion_matrix,accuracy_score\n"
   ]
  },
  {
   "cell_type": "code",
   "execution_count": 328,
   "metadata": {},
   "outputs": [
    {
     "output_type": "stream",
     "name": "stderr",
     "text": [
      "[nltk_data] Downloading package stopwords to\n[nltk_data]     C:\\Users\\cnctk\\AppData\\Roaming\\nltk_data...\n[nltk_data]   Package stopwords is already up-to-date!\n[nltk_data] Downloading package wordnet to\n[nltk_data]     C:\\Users\\cnctk\\AppData\\Roaming\\nltk_data...\n[nltk_data]   Package wordnet is already up-to-date!\n"
     ]
    }
   ],
   "source": [
    "\n",
    "from nltk.tokenize import word_tokenize\n",
    "from nltk import pos_tag\n",
    "nltk.download('stopwords')\n",
    "from nltk.corpus import stopwords\n",
    "nltk.download('wordnet')\n",
    "from nltk.corpus import wordnet"
   ]
  },
  {
   "source": [
    "# File importing in pandas DataFrame and data arrangement"
   ],
   "cell_type": "markdown",
   "metadata": {}
  },
  {
   "source": [
    "# data import from excel file\n",
    "data = pd.read_excel(r\"C:\\Users\\cnctk\\OneDrive\\Desktop\\project\\voo 2\\Data.xlsx\",dtype =str )\n",
    "df = pd.DataFrame(data)\n",
    "df.shape"
   ],
   "cell_type": "code",
   "metadata": {},
   "execution_count": 297,
   "outputs": [
    {
     "output_type": "execute_result",
     "data": {
      "text/plain": [
       "(6934, 6)"
      ]
     },
     "metadata": {},
     "execution_count": 297
    }
   ]
  },
  {
   "cell_type": "code",
   "execution_count": 298,
   "metadata": {},
   "outputs": [
    {
     "output_type": "stream",
     "name": "stdout",
     "text": [
      "(6894, 6)\n"
     ]
    }
   ],
   "source": [
    "# Removing duplicates\n",
    "df.drop_duplicates(keep='first',inplace = True)\n",
    "print(df.shape)\n"
   ]
  },
  {
   "cell_type": "code",
   "execution_count": 299,
   "metadata": {},
   "outputs": [
    {
     "output_type": "stream",
     "name": "stdout",
     "text": [
      "(150, 6)\n"
     ]
    }
   ],
   "source": [
    "# saving cancelled orders\n",
    "cancelled_orders = df.loc[df['Order Status']=='CANCELLED']\n",
    "print(cancelled_orders.shape)"
   ]
  },
  {
   "cell_type": "code",
   "execution_count": 300,
   "metadata": {},
   "outputs": [
    {
     "output_type": "stream",
     "name": "stdout",
     "text": [
      "(6744, 6)\n"
     ]
    }
   ],
   "source": [
    "# dropping the cancelled order\n",
    "df.drop(df[df['Order Status'] == 'CANCELLED'].index, inplace = True)\n",
    "\n",
    "print(df.shape)"
   ]
  },
  {
   "cell_type": "code",
   "execution_count": 301,
   "metadata": {},
   "outputs": [
    {
     "output_type": "stream",
     "name": "stdout",
     "text": [
      "(231, 6)\n"
     ]
    }
   ],
   "source": [
    "# Removing Blank entries\n",
    "df = df.dropna()\n",
    "print(df.shape)"
   ]
  },
  {
   "cell_type": "code",
   "execution_count": 302,
   "metadata": {},
   "outputs": [
    {
     "output_type": "stream",
     "name": "stdout",
     "text": [
      "          Order Id Order Status                                 Item Name  \\\n18     10701530888    DELIVERED         Homely Dal Tadka Thali with Sweet   \n19     10701530888    DELIVERED      Dal Tadka Rice Bowl with Butter Milk   \n33    106989449753    DELIVERED    Homely Chicken Masala Thali with Sweet   \n49    106762961007    DELIVERED     Homely Bhindi Masala Thali with Sweet   \n50    106762961007    DELIVERED                       Butter Milk(300 ml)   \n...            ...          ...                                       ...   \n6597  107269473678    DELIVERED  2 Aloo Onion Paratha, Curd & Pickle Meal   \n6598  107269473678    DELIVERED                             Bhindi Masala   \n6715  107276758050    DELIVERED            Set of Chapatis (4 - Chapatis)   \n6716  107276758050    DELIVERED                             Bhindi Masala   \n6864  108040595774    DELIVERED                       Veg & Cheese Panini   \n\n     Item Quantity      Rating  \\\n18               1  1 VERY BAD   \n19               1  1 VERY BAD   \n33               1  5 LOVED IT   \n49               1       2 BAD   \n50               1       2 BAD   \n...            ...         ...   \n6597             1   3 AVERAGE   \n6598             1   3 AVERAGE   \n6715             1   3 AVERAGE   \n6716             1   3 AVERAGE   \n6864             1  1 VERY BAD   \n\n                                               Feedback  \n18    I don't think it's delivery guy fault but pack...  \n19    I don't think it's delivery guy fault but pack...  \n33      I liked the quantity of the food and the taste.  \n49    Bhindi was very raw, butter milk had a foul smell  \n50    Bhindi was very raw, butter milk had a foul smell  \n...                                                 ...  \n6597  No sweet delivered, paratha was maida tandoori...  \n6598  No sweet delivered, paratha was maida tandoori...  \n6715  Not given adequate quantity of dish as said it...  \n6716  Not given adequate quantity of dish as said it...  \n6864                              Wrong items deluvered  \n\n[231 rows x 6 columns]\n"
     ]
    }
   ],
   "source": [
    "print(df)"
   ]
  },
  {
   "source": [
    "# Cleaning Data Using NLTK"
   ],
   "cell_type": "markdown",
   "metadata": {}
  },
  {
   "cell_type": "code",
   "execution_count": 303,
   "metadata": {
    "tags": []
   },
   "outputs": [
    {
     "output_type": "stream",
     "name": "stdout",
     "text": [
      "(145, 2)\n"
     ]
    }
   ],
   "source": [
    "# Extracting Dataset for label using ratings\n",
    "data_r = pd.DataFrame(df['Feedback'])\n",
    "data_r['rating'] = df['Rating']\n",
    "data_r.drop_duplicates(keep='first',inplace = True)\n",
    "#dara\n",
    "\n",
    "print(data_r.shape)"
   ]
  },
  {
   "cell_type": "code",
   "execution_count": 304,
   "metadata": {},
   "outputs": [],
   "source": [
    "# Getting rating(1-5) from rating column\n",
    "def getIntegers(string):\n",
    "        for x in string.split():\n",
    "             if x.isnumeric():\n",
    "                if int(x)<3:\n",
    "                    return 0\n",
    "                if int(x)>=3:\n",
    "                    return 1\n",
    "               \n",
    "\n",
    "data_r['label'] = df['Rating'].apply(getIntegers)\n"
   ]
  },
  {
   "cell_type": "code",
   "execution_count": 305,
   "metadata": {},
   "outputs": [
    {
     "output_type": "execute_result",
     "data": {
      "text/plain": [
       "                                               Feedback      rating  label\n",
       "18    I don't think it's delivery guy fault but pack...  1 VERY BAD      0\n",
       "33      I liked the quantity of the food and the taste.  5 LOVED IT      1\n",
       "49    Bhindi was very raw, butter milk had a foul smell       2 BAD      0\n",
       "75    One of the 3rd class restaurant. I ordered Egg...  1 VERY BAD      0\n",
       "107         Chicken bowl had only two pieces of chicken       2 BAD      0\n",
       "...                                                 ...         ...    ...\n",
       "6487                              Spicy and Tasty....??  5 LOVED IT      1\n",
       "6571  Paratas wer made of maida.. With spicy green c...  1 VERY BAD      0\n",
       "6597  No sweet delivered, paratha was maida tandoori...   3 AVERAGE      1\n",
       "6715  Not given adequate quantity of dish as said it...   3 AVERAGE      1\n",
       "6864                              Wrong items deluvered  1 VERY BAD      0\n",
       "\n",
       "[145 rows x 3 columns]"
      ],
      "text/html": "<div>\n<style scoped>\n    .dataframe tbody tr th:only-of-type {\n        vertical-align: middle;\n    }\n\n    .dataframe tbody tr th {\n        vertical-align: top;\n    }\n\n    .dataframe thead th {\n        text-align: right;\n    }\n</style>\n<table border=\"1\" class=\"dataframe\">\n  <thead>\n    <tr style=\"text-align: right;\">\n      <th></th>\n      <th>Feedback</th>\n      <th>rating</th>\n      <th>label</th>\n    </tr>\n  </thead>\n  <tbody>\n    <tr>\n      <th>18</th>\n      <td>I don't think it's delivery guy fault but pack...</td>\n      <td>1 VERY BAD</td>\n      <td>0</td>\n    </tr>\n    <tr>\n      <th>33</th>\n      <td>I liked the quantity of the food and the taste.</td>\n      <td>5 LOVED IT</td>\n      <td>1</td>\n    </tr>\n    <tr>\n      <th>49</th>\n      <td>Bhindi was very raw, butter milk had a foul smell</td>\n      <td>2 BAD</td>\n      <td>0</td>\n    </tr>\n    <tr>\n      <th>75</th>\n      <td>One of the 3rd class restaurant. I ordered Egg...</td>\n      <td>1 VERY BAD</td>\n      <td>0</td>\n    </tr>\n    <tr>\n      <th>107</th>\n      <td>Chicken bowl had only two pieces of chicken</td>\n      <td>2 BAD</td>\n      <td>0</td>\n    </tr>\n    <tr>\n      <th>...</th>\n      <td>...</td>\n      <td>...</td>\n      <td>...</td>\n    </tr>\n    <tr>\n      <th>6487</th>\n      <td>Spicy and Tasty....??</td>\n      <td>5 LOVED IT</td>\n      <td>1</td>\n    </tr>\n    <tr>\n      <th>6571</th>\n      <td>Paratas wer made of maida.. With spicy green c...</td>\n      <td>1 VERY BAD</td>\n      <td>0</td>\n    </tr>\n    <tr>\n      <th>6597</th>\n      <td>No sweet delivered, paratha was maida tandoori...</td>\n      <td>3 AVERAGE</td>\n      <td>1</td>\n    </tr>\n    <tr>\n      <th>6715</th>\n      <td>Not given adequate quantity of dish as said it...</td>\n      <td>3 AVERAGE</td>\n      <td>1</td>\n    </tr>\n    <tr>\n      <th>6864</th>\n      <td>Wrong items deluvered</td>\n      <td>1 VERY BAD</td>\n      <td>0</td>\n    </tr>\n  </tbody>\n</table>\n<p>145 rows × 3 columns</p>\n</div>"
     },
     "metadata": {},
     "execution_count": 305
    }
   ],
   "source": [
    "data_r"
   ]
  },
  {
   "cell_type": "code",
   "execution_count": 306,
   "metadata": {},
   "outputs": [],
   "source": [
    "# Data Cleaning removing unwanted data\n",
    "def unwanted(t):\n",
    "    t = re.sub('[^A-Za-z]+', ' ', t)\n",
    "    return t\n",
    "\n",
    "data_r['cleaned'] = data_r['Feedback'].apply(unwanted)"
   ]
  },
  {
   "cell_type": "code",
   "execution_count": 307,
   "metadata": {},
   "outputs": [
    {
     "output_type": "execute_result",
     "data": {
      "text/plain": [
       "                                               Feedback      rating  label  \\\n",
       "18    I don't think it's delivery guy fault but pack...  1 VERY BAD      0   \n",
       "33      I liked the quantity of the food and the taste.  5 LOVED IT      1   \n",
       "49    Bhindi was very raw, butter milk had a foul smell       2 BAD      0   \n",
       "75    One of the 3rd class restaurant. I ordered Egg...  1 VERY BAD      0   \n",
       "107         Chicken bowl had only two pieces of chicken       2 BAD      0   \n",
       "...                                                 ...         ...    ...   \n",
       "6487                              Spicy and Tasty....??  5 LOVED IT      1   \n",
       "6571  Paratas wer made of maida.. With spicy green c...  1 VERY BAD      0   \n",
       "6597  No sweet delivered, paratha was maida tandoori...   3 AVERAGE      1   \n",
       "6715  Not given adequate quantity of dish as said it...   3 AVERAGE      1   \n",
       "6864                              Wrong items deluvered  1 VERY BAD      0   \n",
       "\n",
       "                                                cleaned  \n",
       "18    I don t think it s delivery guy fault but pack...  \n",
       "33      I liked the quantity of the food and the taste   \n",
       "49     Bhindi was very raw butter milk had a foul smell  \n",
       "75    One of the rd class restaurant I ordered Egg M...  \n",
       "107         Chicken bowl had only two pieces of chicken  \n",
       "...                                                 ...  \n",
       "6487                                   Spicy and Tasty   \n",
       "6571  Paratas wer made of maida With spicy green chi...  \n",
       "6597  No sweet delivered paratha was maida tandoori ...  \n",
       "6715  Not given adequate quantity of dish as said it...  \n",
       "6864                              Wrong items deluvered  \n",
       "\n",
       "[145 rows x 4 columns]"
      ],
      "text/html": "<div>\n<style scoped>\n    .dataframe tbody tr th:only-of-type {\n        vertical-align: middle;\n    }\n\n    .dataframe tbody tr th {\n        vertical-align: top;\n    }\n\n    .dataframe thead th {\n        text-align: right;\n    }\n</style>\n<table border=\"1\" class=\"dataframe\">\n  <thead>\n    <tr style=\"text-align: right;\">\n      <th></th>\n      <th>Feedback</th>\n      <th>rating</th>\n      <th>label</th>\n      <th>cleaned</th>\n    </tr>\n  </thead>\n  <tbody>\n    <tr>\n      <th>18</th>\n      <td>I don't think it's delivery guy fault but pack...</td>\n      <td>1 VERY BAD</td>\n      <td>0</td>\n      <td>I don t think it s delivery guy fault but pack...</td>\n    </tr>\n    <tr>\n      <th>33</th>\n      <td>I liked the quantity of the food and the taste.</td>\n      <td>5 LOVED IT</td>\n      <td>1</td>\n      <td>I liked the quantity of the food and the taste</td>\n    </tr>\n    <tr>\n      <th>49</th>\n      <td>Bhindi was very raw, butter milk had a foul smell</td>\n      <td>2 BAD</td>\n      <td>0</td>\n      <td>Bhindi was very raw butter milk had a foul smell</td>\n    </tr>\n    <tr>\n      <th>75</th>\n      <td>One of the 3rd class restaurant. I ordered Egg...</td>\n      <td>1 VERY BAD</td>\n      <td>0</td>\n      <td>One of the rd class restaurant I ordered Egg M...</td>\n    </tr>\n    <tr>\n      <th>107</th>\n      <td>Chicken bowl had only two pieces of chicken</td>\n      <td>2 BAD</td>\n      <td>0</td>\n      <td>Chicken bowl had only two pieces of chicken</td>\n    </tr>\n    <tr>\n      <th>...</th>\n      <td>...</td>\n      <td>...</td>\n      <td>...</td>\n      <td>...</td>\n    </tr>\n    <tr>\n      <th>6487</th>\n      <td>Spicy and Tasty....??</td>\n      <td>5 LOVED IT</td>\n      <td>1</td>\n      <td>Spicy and Tasty</td>\n    </tr>\n    <tr>\n      <th>6571</th>\n      <td>Paratas wer made of maida.. With spicy green c...</td>\n      <td>1 VERY BAD</td>\n      <td>0</td>\n      <td>Paratas wer made of maida With spicy green chi...</td>\n    </tr>\n    <tr>\n      <th>6597</th>\n      <td>No sweet delivered, paratha was maida tandoori...</td>\n      <td>3 AVERAGE</td>\n      <td>1</td>\n      <td>No sweet delivered paratha was maida tandoori ...</td>\n    </tr>\n    <tr>\n      <th>6715</th>\n      <td>Not given adequate quantity of dish as said it...</td>\n      <td>3 AVERAGE</td>\n      <td>1</td>\n      <td>Not given adequate quantity of dish as said it...</td>\n    </tr>\n    <tr>\n      <th>6864</th>\n      <td>Wrong items deluvered</td>\n      <td>1 VERY BAD</td>\n      <td>0</td>\n      <td>Wrong items deluvered</td>\n    </tr>\n  </tbody>\n</table>\n<p>145 rows × 4 columns</p>\n</div>"
     },
     "metadata": {},
     "execution_count": 307
    }
   ],
   "source": [
    "data_r"
   ]
  },
  {
   "source": [
    "tokenize"
   ],
   "cell_type": "markdown",
   "metadata": {}
  },
  {
   "cell_type": "code",
   "execution_count": 308,
   "metadata": {},
   "outputs": [],
   "source": [
    "words = [w for w in nltk.corpus.state_union.words() if w.isalpha()]\n",
    "\n",
    "stopwords = nltk.corpus.stopwords.words(\"english\")\n",
    "\n",
    "words = [w for w in words if w.lower() not in stopwords]"
   ]
  },
  {
   "source": [
    "tokenize the word"
   ],
   "cell_type": "markdown",
   "metadata": {}
  },
  {
   "cell_type": "code",
   "execution_count": 309,
   "metadata": {},
   "outputs": [],
   "source": [
    "from nltk.tokenize import word_tokenize\n",
    "data_r['tokenized'] = data_r['cleaned'].apply(word_tokenize)\n"
   ]
  },
  {
   "cell_type": "code",
   "execution_count": 310,
   "metadata": {},
   "outputs": [
    {
     "output_type": "execute_result",
     "data": {
      "text/plain": [
       "                                               Feedback      rating  label  \\\n",
       "18    I don't think it's delivery guy fault but pack...  1 VERY BAD      0   \n",
       "33      I liked the quantity of the food and the taste.  5 LOVED IT      1   \n",
       "49    Bhindi was very raw, butter milk had a foul smell       2 BAD      0   \n",
       "75    One of the 3rd class restaurant. I ordered Egg...  1 VERY BAD      0   \n",
       "107         Chicken bowl had only two pieces of chicken       2 BAD      0   \n",
       "...                                                 ...         ...    ...   \n",
       "6487                              Spicy and Tasty....??  5 LOVED IT      1   \n",
       "6571  Paratas wer made of maida.. With spicy green c...  1 VERY BAD      0   \n",
       "6597  No sweet delivered, paratha was maida tandoori...   3 AVERAGE      1   \n",
       "6715  Not given adequate quantity of dish as said it...   3 AVERAGE      1   \n",
       "6864                              Wrong items deluvered  1 VERY BAD      0   \n",
       "\n",
       "                                                cleaned  \\\n",
       "18    I don t think it s delivery guy fault but pack...   \n",
       "33      I liked the quantity of the food and the taste    \n",
       "49     Bhindi was very raw butter milk had a foul smell   \n",
       "75    One of the rd class restaurant I ordered Egg M...   \n",
       "107         Chicken bowl had only two pieces of chicken   \n",
       "...                                                 ...   \n",
       "6487                                   Spicy and Tasty    \n",
       "6571  Paratas wer made of maida With spicy green chi...   \n",
       "6597  No sweet delivered paratha was maida tandoori ...   \n",
       "6715  Not given adequate quantity of dish as said it...   \n",
       "6864                              Wrong items deluvered   \n",
       "\n",
       "                                              tokenized  \\\n",
       "18    [I, don, t, think, it, s, delivery, guy, fault...   \n",
       "33    [I, liked, the, quantity, of, the, food, and, ...   \n",
       "49    [Bhindi, was, very, raw, butter, milk, had, a,...   \n",
       "75    [One, of, the, rd, class, restaurant, I, order...   \n",
       "107   [Chicken, bowl, had, only, two, pieces, of, ch...   \n",
       "...                                                 ...   \n",
       "6487                                [Spicy, and, Tasty]   \n",
       "6571  [Paratas, wer, made, of, maida, With, spicy, g...   \n",
       "6597  [No, sweet, delivered, paratha, was, maida, ta...   \n",
       "6715  [Not, given, adequate, quantity, of, dish, as,...   \n",
       "6864                          [Wrong, items, deluvered]   \n",
       "\n",
       "                                                pos_tag  \n",
       "18    [(I, PRP), (don, VBP), (t, JJ), (think, VBP), ...  \n",
       "33    [(I, PRP), (liked, VBD), (the, DT), (quantity,...  \n",
       "49    [(Bhindi, NNP), (was, VBD), (very, RB), (raw, ...  \n",
       "75    [(One, CD), (of, IN), (the, DT), (rd, JJ), (cl...  \n",
       "107   [(Chicken, NNP), (bowl, NN), (had, VBD), (only...  \n",
       "...                                                 ...  \n",
       "6487             [(Spicy, NN), (and, CC), (Tasty, NNP)]  \n",
       "6571  [(Paratas, NNS), (wer, JJR), (made, VBN), (of,...  \n",
       "6597  [(No, DT), (sweet, JJ), (delivered, VBD), (par...  \n",
       "6715  [(Not, RB), (given, VBN), (adequate, JJ), (qua...  \n",
       "6864      [(Wrong, JJ), (items, NNS), (deluvered, VBD)]  \n",
       "\n",
       "[145 rows x 6 columns]"
      ],
      "text/html": "<div>\n<style scoped>\n    .dataframe tbody tr th:only-of-type {\n        vertical-align: middle;\n    }\n\n    .dataframe tbody tr th {\n        vertical-align: top;\n    }\n\n    .dataframe thead th {\n        text-align: right;\n    }\n</style>\n<table border=\"1\" class=\"dataframe\">\n  <thead>\n    <tr style=\"text-align: right;\">\n      <th></th>\n      <th>Feedback</th>\n      <th>rating</th>\n      <th>label</th>\n      <th>cleaned</th>\n      <th>tokenized</th>\n      <th>pos_tag</th>\n    </tr>\n  </thead>\n  <tbody>\n    <tr>\n      <th>18</th>\n      <td>I don't think it's delivery guy fault but pack...</td>\n      <td>1 VERY BAD</td>\n      <td>0</td>\n      <td>I don t think it s delivery guy fault but pack...</td>\n      <td>[I, don, t, think, it, s, delivery, guy, fault...</td>\n      <td>[(I, PRP), (don, VBP), (t, JJ), (think, VBP), ...</td>\n    </tr>\n    <tr>\n      <th>33</th>\n      <td>I liked the quantity of the food and the taste.</td>\n      <td>5 LOVED IT</td>\n      <td>1</td>\n      <td>I liked the quantity of the food and the taste</td>\n      <td>[I, liked, the, quantity, of, the, food, and, ...</td>\n      <td>[(I, PRP), (liked, VBD), (the, DT), (quantity,...</td>\n    </tr>\n    <tr>\n      <th>49</th>\n      <td>Bhindi was very raw, butter milk had a foul smell</td>\n      <td>2 BAD</td>\n      <td>0</td>\n      <td>Bhindi was very raw butter milk had a foul smell</td>\n      <td>[Bhindi, was, very, raw, butter, milk, had, a,...</td>\n      <td>[(Bhindi, NNP), (was, VBD), (very, RB), (raw, ...</td>\n    </tr>\n    <tr>\n      <th>75</th>\n      <td>One of the 3rd class restaurant. I ordered Egg...</td>\n      <td>1 VERY BAD</td>\n      <td>0</td>\n      <td>One of the rd class restaurant I ordered Egg M...</td>\n      <td>[One, of, the, rd, class, restaurant, I, order...</td>\n      <td>[(One, CD), (of, IN), (the, DT), (rd, JJ), (cl...</td>\n    </tr>\n    <tr>\n      <th>107</th>\n      <td>Chicken bowl had only two pieces of chicken</td>\n      <td>2 BAD</td>\n      <td>0</td>\n      <td>Chicken bowl had only two pieces of chicken</td>\n      <td>[Chicken, bowl, had, only, two, pieces, of, ch...</td>\n      <td>[(Chicken, NNP), (bowl, NN), (had, VBD), (only...</td>\n    </tr>\n    <tr>\n      <th>...</th>\n      <td>...</td>\n      <td>...</td>\n      <td>...</td>\n      <td>...</td>\n      <td>...</td>\n      <td>...</td>\n    </tr>\n    <tr>\n      <th>6487</th>\n      <td>Spicy and Tasty....??</td>\n      <td>5 LOVED IT</td>\n      <td>1</td>\n      <td>Spicy and Tasty</td>\n      <td>[Spicy, and, Tasty]</td>\n      <td>[(Spicy, NN), (and, CC), (Tasty, NNP)]</td>\n    </tr>\n    <tr>\n      <th>6571</th>\n      <td>Paratas wer made of maida.. With spicy green c...</td>\n      <td>1 VERY BAD</td>\n      <td>0</td>\n      <td>Paratas wer made of maida With spicy green chi...</td>\n      <td>[Paratas, wer, made, of, maida, With, spicy, g...</td>\n      <td>[(Paratas, NNS), (wer, JJR), (made, VBN), (of,...</td>\n    </tr>\n    <tr>\n      <th>6597</th>\n      <td>No sweet delivered, paratha was maida tandoori...</td>\n      <td>3 AVERAGE</td>\n      <td>1</td>\n      <td>No sweet delivered paratha was maida tandoori ...</td>\n      <td>[No, sweet, delivered, paratha, was, maida, ta...</td>\n      <td>[(No, DT), (sweet, JJ), (delivered, VBD), (par...</td>\n    </tr>\n    <tr>\n      <th>6715</th>\n      <td>Not given adequate quantity of dish as said it...</td>\n      <td>3 AVERAGE</td>\n      <td>1</td>\n      <td>Not given adequate quantity of dish as said it...</td>\n      <td>[Not, given, adequate, quantity, of, dish, as,...</td>\n      <td>[(Not, RB), (given, VBN), (adequate, JJ), (qua...</td>\n    </tr>\n    <tr>\n      <th>6864</th>\n      <td>Wrong items deluvered</td>\n      <td>1 VERY BAD</td>\n      <td>0</td>\n      <td>Wrong items deluvered</td>\n      <td>[Wrong, items, deluvered]</td>\n      <td>[(Wrong, JJ), (items, NNS), (deluvered, VBD)]</td>\n    </tr>\n  </tbody>\n</table>\n<p>145 rows × 6 columns</p>\n</div>"
     },
     "metadata": {},
     "execution_count": 310
    }
   ],
   "source": [
    "data_r['pos_tag']= data_r['tokenized'].apply(pos_tag)\n",
    "data_r"
   ]
  },
  {
   "cell_type": "code",
   "execution_count": 311,
   "metadata": {},
   "outputs": [
    {
     "output_type": "execute_result",
     "data": {
      "text/plain": [
       "                                               Feedback      rating  label  \\\n",
       "18    I don't think it's delivery guy fault but pack...  1 VERY BAD      0   \n",
       "33      I liked the quantity of the food and the taste.  5 LOVED IT      1   \n",
       "49    Bhindi was very raw, butter milk had a foul smell       2 BAD      0   \n",
       "75    One of the 3rd class restaurant. I ordered Egg...  1 VERY BAD      0   \n",
       "107         Chicken bowl had only two pieces of chicken       2 BAD      0   \n",
       "...                                                 ...         ...    ...   \n",
       "6487                              Spicy and Tasty....??  5 LOVED IT      1   \n",
       "6571  Paratas wer made of maida.. With spicy green c...  1 VERY BAD      0   \n",
       "6597  No sweet delivered, paratha was maida tandoori...   3 AVERAGE      1   \n",
       "6715  Not given adequate quantity of dish as said it...   3 AVERAGE      1   \n",
       "6864                              Wrong items deluvered  1 VERY BAD      0   \n",
       "\n",
       "                                                cleaned  \\\n",
       "18    I don t think it s delivery guy fault but pack...   \n",
       "33      I liked the quantity of the food and the taste    \n",
       "49     Bhindi was very raw butter milk had a foul smell   \n",
       "75    One of the rd class restaurant I ordered Egg M...   \n",
       "107         Chicken bowl had only two pieces of chicken   \n",
       "...                                                 ...   \n",
       "6487                                   Spicy and Tasty    \n",
       "6571  Paratas wer made of maida With spicy green chi...   \n",
       "6597  No sweet delivered paratha was maida tandoori ...   \n",
       "6715  Not given adequate quantity of dish as said it...   \n",
       "6864                              Wrong items deluvered   \n",
       "\n",
       "                                              tokenized  \\\n",
       "18    [I, don, t, think, it, s, delivery, guy, fault...   \n",
       "33    [I, liked, the, quantity, of, the, food, and, ...   \n",
       "49    [Bhindi, was, very, raw, butter, milk, had, a,...   \n",
       "75    [One, of, the, rd, class, restaurant, I, order...   \n",
       "107   [Chicken, bowl, had, only, two, pieces, of, ch...   \n",
       "...                                                 ...   \n",
       "6487                                [Spicy, and, Tasty]   \n",
       "6571  [Paratas, wer, made, of, maida, With, spicy, g...   \n",
       "6597  [No, sweet, delivered, paratha, was, maida, ta...   \n",
       "6715  [Not, given, adequate, quantity, of, dish, as,...   \n",
       "6864                          [Wrong, items, deluvered]   \n",
       "\n",
       "                                                pos_tag  \\\n",
       "18    [(I, PRP), (don, VBP), (t, JJ), (think, VBP), ...   \n",
       "33    [(I, PRP), (liked, VBD), (the, DT), (quantity,...   \n",
       "49    [(Bhindi, NNP), (was, VBD), (very, RB), (raw, ...   \n",
       "75    [(One, CD), (of, IN), (the, DT), (rd, JJ), (cl...   \n",
       "107   [(Chicken, NNP), (bowl, NN), (had, VBD), (only...   \n",
       "...                                                 ...   \n",
       "6487             [(Spicy, NN), (and, CC), (Tasty, NNP)]   \n",
       "6571  [(Paratas, NNS), (wer, JJR), (made, VBN), (of,...   \n",
       "6597  [(No, DT), (sweet, JJ), (delivered, VBD), (par...   \n",
       "6715  [(Not, RB), (given, VBN), (adequate, JJ), (qua...   \n",
       "6864      [(Wrong, JJ), (items, NNS), (deluvered, VBD)]   \n",
       "\n",
       "                                              stopwords  \n",
       "18    [(think, v), (delivery, n), (guy, n), (fault, ...  \n",
       "33    [(liked, v), (quantity, n), (food, n), (taste,...  \n",
       "49    [(Bhindi, n), (raw, a), (butter, n), (milk, n)...  \n",
       "75    [(One, None), (rd, a), (class, n), (restaurant...  \n",
       "107   [(Chicken, n), (bowl, n), (two, None), (pieces...  \n",
       "...                                                 ...  \n",
       "6487                           [(Spicy, n), (Tasty, n)]  \n",
       "6571  [(Paratas, n), (wer, a), (made, v), (maida, n)...  \n",
       "6597  [(sweet, a), (delivered, v), (paratha, n), (ma...  \n",
       "6715  [(given, v), (adequate, a), (quantity, n), (di...  \n",
       "6864           [(Wrong, a), (items, n), (deluvered, v)]  \n",
       "\n",
       "[145 rows x 7 columns]"
      ],
      "text/html": "<div>\n<style scoped>\n    .dataframe tbody tr th:only-of-type {\n        vertical-align: middle;\n    }\n\n    .dataframe tbody tr th {\n        vertical-align: top;\n    }\n\n    .dataframe thead th {\n        text-align: right;\n    }\n</style>\n<table border=\"1\" class=\"dataframe\">\n  <thead>\n    <tr style=\"text-align: right;\">\n      <th></th>\n      <th>Feedback</th>\n      <th>rating</th>\n      <th>label</th>\n      <th>cleaned</th>\n      <th>tokenized</th>\n      <th>pos_tag</th>\n      <th>stopwords</th>\n    </tr>\n  </thead>\n  <tbody>\n    <tr>\n      <th>18</th>\n      <td>I don't think it's delivery guy fault but pack...</td>\n      <td>1 VERY BAD</td>\n      <td>0</td>\n      <td>I don t think it s delivery guy fault but pack...</td>\n      <td>[I, don, t, think, it, s, delivery, guy, fault...</td>\n      <td>[(I, PRP), (don, VBP), (t, JJ), (think, VBP), ...</td>\n      <td>[(think, v), (delivery, n), (guy, n), (fault, ...</td>\n    </tr>\n    <tr>\n      <th>33</th>\n      <td>I liked the quantity of the food and the taste.</td>\n      <td>5 LOVED IT</td>\n      <td>1</td>\n      <td>I liked the quantity of the food and the taste</td>\n      <td>[I, liked, the, quantity, of, the, food, and, ...</td>\n      <td>[(I, PRP), (liked, VBD), (the, DT), (quantity,...</td>\n      <td>[(liked, v), (quantity, n), (food, n), (taste,...</td>\n    </tr>\n    <tr>\n      <th>49</th>\n      <td>Bhindi was very raw, butter milk had a foul smell</td>\n      <td>2 BAD</td>\n      <td>0</td>\n      <td>Bhindi was very raw butter milk had a foul smell</td>\n      <td>[Bhindi, was, very, raw, butter, milk, had, a,...</td>\n      <td>[(Bhindi, NNP), (was, VBD), (very, RB), (raw, ...</td>\n      <td>[(Bhindi, n), (raw, a), (butter, n), (milk, n)...</td>\n    </tr>\n    <tr>\n      <th>75</th>\n      <td>One of the 3rd class restaurant. I ordered Egg...</td>\n      <td>1 VERY BAD</td>\n      <td>0</td>\n      <td>One of the rd class restaurant I ordered Egg M...</td>\n      <td>[One, of, the, rd, class, restaurant, I, order...</td>\n      <td>[(One, CD), (of, IN), (the, DT), (rd, JJ), (cl...</td>\n      <td>[(One, None), (rd, a), (class, n), (restaurant...</td>\n    </tr>\n    <tr>\n      <th>107</th>\n      <td>Chicken bowl had only two pieces of chicken</td>\n      <td>2 BAD</td>\n      <td>0</td>\n      <td>Chicken bowl had only two pieces of chicken</td>\n      <td>[Chicken, bowl, had, only, two, pieces, of, ch...</td>\n      <td>[(Chicken, NNP), (bowl, NN), (had, VBD), (only...</td>\n      <td>[(Chicken, n), (bowl, n), (two, None), (pieces...</td>\n    </tr>\n    <tr>\n      <th>...</th>\n      <td>...</td>\n      <td>...</td>\n      <td>...</td>\n      <td>...</td>\n      <td>...</td>\n      <td>...</td>\n      <td>...</td>\n    </tr>\n    <tr>\n      <th>6487</th>\n      <td>Spicy and Tasty....??</td>\n      <td>5 LOVED IT</td>\n      <td>1</td>\n      <td>Spicy and Tasty</td>\n      <td>[Spicy, and, Tasty]</td>\n      <td>[(Spicy, NN), (and, CC), (Tasty, NNP)]</td>\n      <td>[(Spicy, n), (Tasty, n)]</td>\n    </tr>\n    <tr>\n      <th>6571</th>\n      <td>Paratas wer made of maida.. With spicy green c...</td>\n      <td>1 VERY BAD</td>\n      <td>0</td>\n      <td>Paratas wer made of maida With spicy green chi...</td>\n      <td>[Paratas, wer, made, of, maida, With, spicy, g...</td>\n      <td>[(Paratas, NNS), (wer, JJR), (made, VBN), (of,...</td>\n      <td>[(Paratas, n), (wer, a), (made, v), (maida, n)...</td>\n    </tr>\n    <tr>\n      <th>6597</th>\n      <td>No sweet delivered, paratha was maida tandoori...</td>\n      <td>3 AVERAGE</td>\n      <td>1</td>\n      <td>No sweet delivered paratha was maida tandoori ...</td>\n      <td>[No, sweet, delivered, paratha, was, maida, ta...</td>\n      <td>[(No, DT), (sweet, JJ), (delivered, VBD), (par...</td>\n      <td>[(sweet, a), (delivered, v), (paratha, n), (ma...</td>\n    </tr>\n    <tr>\n      <th>6715</th>\n      <td>Not given adequate quantity of dish as said it...</td>\n      <td>3 AVERAGE</td>\n      <td>1</td>\n      <td>Not given adequate quantity of dish as said it...</td>\n      <td>[Not, given, adequate, quantity, of, dish, as,...</td>\n      <td>[(Not, RB), (given, VBN), (adequate, JJ), (qua...</td>\n      <td>[(given, v), (adequate, a), (quantity, n), (di...</td>\n    </tr>\n    <tr>\n      <th>6864</th>\n      <td>Wrong items deluvered</td>\n      <td>1 VERY BAD</td>\n      <td>0</td>\n      <td>Wrong items deluvered</td>\n      <td>[Wrong, items, deluvered]</td>\n      <td>[(Wrong, JJ), (items, NNS), (deluvered, VBD)]</td>\n      <td>[(Wrong, a), (items, n), (deluvered, v)]</td>\n    </tr>\n  </tbody>\n</table>\n<p>145 rows × 7 columns</p>\n</div>"
     },
     "metadata": {},
     "execution_count": 311
    }
   ],
   "source": [
    "posdict = {'J':wordnet.ADJ, 'V':wordnet.VERB, 'N':wordnet.NOUN, 'R':wordnet.ADV}\n",
    "#lst =[]\n",
    "#unwanted = nltk.corpus.stopwords.words(\"english\")\n",
    "\n",
    "def stopwords_data(t):\n",
    "    lst =[]\n",
    "    for word, tag in t:\n",
    "            if word.lower() not in set(nltk.corpus.stopwords.words(\"english\")):\n",
    "                lst.append(tuple([word, posdict.get(tag[0])]))\n",
    "    return lst\n",
    "data_r['stopwords']= data_r['pos_tag'].apply(stopwords_data)\n",
    "data_r"
   ]
  },
  {
   "source": [
    "lemmatization"
   ],
   "cell_type": "markdown",
   "metadata": {}
  },
  {
   "cell_type": "code",
   "execution_count": 312,
   "metadata": {},
   "outputs": [
    {
     "output_type": "execute_result",
     "data": {
      "text/plain": [
       "                                               Feedback      rating  label  \\\n",
       "18    I don't think it's delivery guy fault but pack...  1 VERY BAD      0   \n",
       "33      I liked the quantity of the food and the taste.  5 LOVED IT      1   \n",
       "49    Bhindi was very raw, butter milk had a foul smell       2 BAD      0   \n",
       "75    One of the 3rd class restaurant. I ordered Egg...  1 VERY BAD      0   \n",
       "107         Chicken bowl had only two pieces of chicken       2 BAD      0   \n",
       "...                                                 ...         ...    ...   \n",
       "6487                              Spicy and Tasty....??  5 LOVED IT      1   \n",
       "6571  Paratas wer made of maida.. With spicy green c...  1 VERY BAD      0   \n",
       "6597  No sweet delivered, paratha was maida tandoori...   3 AVERAGE      1   \n",
       "6715  Not given adequate quantity of dish as said it...   3 AVERAGE      1   \n",
       "6864                              Wrong items deluvered  1 VERY BAD      0   \n",
       "\n",
       "                                                cleaned  \\\n",
       "18    I don t think it s delivery guy fault but pack...   \n",
       "33      I liked the quantity of the food and the taste    \n",
       "49     Bhindi was very raw butter milk had a foul smell   \n",
       "75    One of the rd class restaurant I ordered Egg M...   \n",
       "107         Chicken bowl had only two pieces of chicken   \n",
       "...                                                 ...   \n",
       "6487                                   Spicy and Tasty    \n",
       "6571  Paratas wer made of maida With spicy green chi...   \n",
       "6597  No sweet delivered paratha was maida tandoori ...   \n",
       "6715  Not given adequate quantity of dish as said it...   \n",
       "6864                              Wrong items deluvered   \n",
       "\n",
       "                                              tokenized  \\\n",
       "18    [I, don, t, think, it, s, delivery, guy, fault...   \n",
       "33    [I, liked, the, quantity, of, the, food, and, ...   \n",
       "49    [Bhindi, was, very, raw, butter, milk, had, a,...   \n",
       "75    [One, of, the, rd, class, restaurant, I, order...   \n",
       "107   [Chicken, bowl, had, only, two, pieces, of, ch...   \n",
       "...                                                 ...   \n",
       "6487                                [Spicy, and, Tasty]   \n",
       "6571  [Paratas, wer, made, of, maida, With, spicy, g...   \n",
       "6597  [No, sweet, delivered, paratha, was, maida, ta...   \n",
       "6715  [Not, given, adequate, quantity, of, dish, as,...   \n",
       "6864                          [Wrong, items, deluvered]   \n",
       "\n",
       "                                                pos_tag  \\\n",
       "18    [(I, PRP), (don, VBP), (t, JJ), (think, VBP), ...   \n",
       "33    [(I, PRP), (liked, VBD), (the, DT), (quantity,...   \n",
       "49    [(Bhindi, NNP), (was, VBD), (very, RB), (raw, ...   \n",
       "75    [(One, CD), (of, IN), (the, DT), (rd, JJ), (cl...   \n",
       "107   [(Chicken, NNP), (bowl, NN), (had, VBD), (only...   \n",
       "...                                                 ...   \n",
       "6487             [(Spicy, NN), (and, CC), (Tasty, NNP)]   \n",
       "6571  [(Paratas, NNS), (wer, JJR), (made, VBN), (of,...   \n",
       "6597  [(No, DT), (sweet, JJ), (delivered, VBD), (par...   \n",
       "6715  [(Not, RB), (given, VBN), (adequate, JJ), (qua...   \n",
       "6864      [(Wrong, JJ), (items, NNS), (deluvered, VBD)]   \n",
       "\n",
       "                                              stopwords  \\\n",
       "18    [(think, v), (delivery, n), (guy, n), (fault, ...   \n",
       "33    [(liked, v), (quantity, n), (food, n), (taste,...   \n",
       "49    [(Bhindi, n), (raw, a), (butter, n), (milk, n)...   \n",
       "75    [(One, None), (rd, a), (class, n), (restaurant...   \n",
       "107   [(Chicken, n), (bowl, n), (two, None), (pieces...   \n",
       "...                                                 ...   \n",
       "6487                           [(Spicy, n), (Tasty, n)]   \n",
       "6571  [(Paratas, n), (wer, a), (made, v), (maida, n)...   \n",
       "6597  [(sweet, a), (delivered, v), (paratha, n), (ma...   \n",
       "6715  [(given, v), (adequate, a), (quantity, n), (di...   \n",
       "6864           [(Wrong, a), (items, n), (deluvered, v)]   \n",
       "\n",
       "                                                  Lemma  \n",
       "18      think delivery guy fault packet break due le...  \n",
       "33                             like quantity food taste  \n",
       "49                    Bhindi raw butter milk foul smell  \n",
       "75      One rd class restaurant order Egg Masala sen...  \n",
       "107                      Chicken bowl two piece chicken  \n",
       "...                                                 ...  \n",
       "6487                                        Spicy Tasty  \n",
       "6571    Paratas wer make maida spicy green chilli ca...  \n",
       "6597    sweet deliver paratha maida tandoori look li...  \n",
       "6715            give adequate quantity dish say provide  \n",
       "6864                               Wrong item deluvered  \n",
       "\n",
       "[145 rows x 8 columns]"
      ],
      "text/html": "<div>\n<style scoped>\n    .dataframe tbody tr th:only-of-type {\n        vertical-align: middle;\n    }\n\n    .dataframe tbody tr th {\n        vertical-align: top;\n    }\n\n    .dataframe thead th {\n        text-align: right;\n    }\n</style>\n<table border=\"1\" class=\"dataframe\">\n  <thead>\n    <tr style=\"text-align: right;\">\n      <th></th>\n      <th>Feedback</th>\n      <th>rating</th>\n      <th>label</th>\n      <th>cleaned</th>\n      <th>tokenized</th>\n      <th>pos_tag</th>\n      <th>stopwords</th>\n      <th>Lemma</th>\n    </tr>\n  </thead>\n  <tbody>\n    <tr>\n      <th>18</th>\n      <td>I don't think it's delivery guy fault but pack...</td>\n      <td>1 VERY BAD</td>\n      <td>0</td>\n      <td>I don t think it s delivery guy fault but pack...</td>\n      <td>[I, don, t, think, it, s, delivery, guy, fault...</td>\n      <td>[(I, PRP), (don, VBP), (t, JJ), (think, VBP), ...</td>\n      <td>[(think, v), (delivery, n), (guy, n), (fault, ...</td>\n      <td>think delivery guy fault packet break due le...</td>\n    </tr>\n    <tr>\n      <th>33</th>\n      <td>I liked the quantity of the food and the taste.</td>\n      <td>5 LOVED IT</td>\n      <td>1</td>\n      <td>I liked the quantity of the food and the taste</td>\n      <td>[I, liked, the, quantity, of, the, food, and, ...</td>\n      <td>[(I, PRP), (liked, VBD), (the, DT), (quantity,...</td>\n      <td>[(liked, v), (quantity, n), (food, n), (taste,...</td>\n      <td>like quantity food taste</td>\n    </tr>\n    <tr>\n      <th>49</th>\n      <td>Bhindi was very raw, butter milk had a foul smell</td>\n      <td>2 BAD</td>\n      <td>0</td>\n      <td>Bhindi was very raw butter milk had a foul smell</td>\n      <td>[Bhindi, was, very, raw, butter, milk, had, a,...</td>\n      <td>[(Bhindi, NNP), (was, VBD), (very, RB), (raw, ...</td>\n      <td>[(Bhindi, n), (raw, a), (butter, n), (milk, n)...</td>\n      <td>Bhindi raw butter milk foul smell</td>\n    </tr>\n    <tr>\n      <th>75</th>\n      <td>One of the 3rd class restaurant. I ordered Egg...</td>\n      <td>1 VERY BAD</td>\n      <td>0</td>\n      <td>One of the rd class restaurant I ordered Egg M...</td>\n      <td>[One, of, the, rd, class, restaurant, I, order...</td>\n      <td>[(One, CD), (of, IN), (the, DT), (rd, JJ), (cl...</td>\n      <td>[(One, None), (rd, a), (class, n), (restaurant...</td>\n      <td>One rd class restaurant order Egg Masala sen...</td>\n    </tr>\n    <tr>\n      <th>107</th>\n      <td>Chicken bowl had only two pieces of chicken</td>\n      <td>2 BAD</td>\n      <td>0</td>\n      <td>Chicken bowl had only two pieces of chicken</td>\n      <td>[Chicken, bowl, had, only, two, pieces, of, ch...</td>\n      <td>[(Chicken, NNP), (bowl, NN), (had, VBD), (only...</td>\n      <td>[(Chicken, n), (bowl, n), (two, None), (pieces...</td>\n      <td>Chicken bowl two piece chicken</td>\n    </tr>\n    <tr>\n      <th>...</th>\n      <td>...</td>\n      <td>...</td>\n      <td>...</td>\n      <td>...</td>\n      <td>...</td>\n      <td>...</td>\n      <td>...</td>\n      <td>...</td>\n    </tr>\n    <tr>\n      <th>6487</th>\n      <td>Spicy and Tasty....??</td>\n      <td>5 LOVED IT</td>\n      <td>1</td>\n      <td>Spicy and Tasty</td>\n      <td>[Spicy, and, Tasty]</td>\n      <td>[(Spicy, NN), (and, CC), (Tasty, NNP)]</td>\n      <td>[(Spicy, n), (Tasty, n)]</td>\n      <td>Spicy Tasty</td>\n    </tr>\n    <tr>\n      <th>6571</th>\n      <td>Paratas wer made of maida.. With spicy green c...</td>\n      <td>1 VERY BAD</td>\n      <td>0</td>\n      <td>Paratas wer made of maida With spicy green chi...</td>\n      <td>[Paratas, wer, made, of, maida, With, spicy, g...</td>\n      <td>[(Paratas, NNS), (wer, JJR), (made, VBN), (of,...</td>\n      <td>[(Paratas, n), (wer, a), (made, v), (maida, n)...</td>\n      <td>Paratas wer make maida spicy green chilli ca...</td>\n    </tr>\n    <tr>\n      <th>6597</th>\n      <td>No sweet delivered, paratha was maida tandoori...</td>\n      <td>3 AVERAGE</td>\n      <td>1</td>\n      <td>No sweet delivered paratha was maida tandoori ...</td>\n      <td>[No, sweet, delivered, paratha, was, maida, ta...</td>\n      <td>[(No, DT), (sweet, JJ), (delivered, VBD), (par...</td>\n      <td>[(sweet, a), (delivered, v), (paratha, n), (ma...</td>\n      <td>sweet deliver paratha maida tandoori look li...</td>\n    </tr>\n    <tr>\n      <th>6715</th>\n      <td>Not given adequate quantity of dish as said it...</td>\n      <td>3 AVERAGE</td>\n      <td>1</td>\n      <td>Not given adequate quantity of dish as said it...</td>\n      <td>[Not, given, adequate, quantity, of, dish, as,...</td>\n      <td>[(Not, RB), (given, VBN), (adequate, JJ), (qua...</td>\n      <td>[(given, v), (adequate, a), (quantity, n), (di...</td>\n      <td>give adequate quantity dish say provide</td>\n    </tr>\n    <tr>\n      <th>6864</th>\n      <td>Wrong items deluvered</td>\n      <td>1 VERY BAD</td>\n      <td>0</td>\n      <td>Wrong items deluvered</td>\n      <td>[Wrong, items, deluvered]</td>\n      <td>[(Wrong, JJ), (items, NNS), (deluvered, VBD)]</td>\n      <td>[(Wrong, a), (items, n), (deluvered, v)]</td>\n      <td>Wrong item deluvered</td>\n    </tr>\n  </tbody>\n</table>\n<p>145 rows × 8 columns</p>\n</div>"
     },
     "metadata": {},
     "execution_count": 312
    }
   ],
   "source": [
    "from nltk.stem import WordNetLemmatizer\n",
    "\n",
    "wordnet_lemmatizer = WordNetLemmatizer()\n",
    "\n",
    "def lemmatize(data):\n",
    "    lemma_rew = \" \"\n",
    "\n",
    "    for word, pos in data:\n",
    "        if not pos:\n",
    "            lemma = word\n",
    "            lemma_rew = lemma_rew + \" \" + lemma\n",
    "        else:\n",
    "            lemma = wordnet_lemmatizer.lemmatize(word, pos=pos)\n",
    "            lemma_rew = lemma_rew + \" \" + lemma\n",
    "            \n",
    "    return lemma_rew\n",
    "\n",
    "data_r['Lemma'] = data_r['stopwords'].apply(lemmatize)\n",
    "data_r"
   ]
  },
  {
   "cell_type": "code",
   "execution_count": 313,
   "metadata": {},
   "outputs": [],
   "source": [
    "final_data = pd.DataFrame(data_r[['Feedback', 'Lemma','label']])"
   ]
  },
  {
   "source": [
    "# sentiment analysis using TextBlob"
   ],
   "cell_type": "markdown",
   "metadata": {}
  },
  {
   "cell_type": "code",
   "execution_count": 314,
   "metadata": {},
   "outputs": [],
   "source": [
    "from textblob import TextBlob\n",
    "# function to calculate subjectivity\n",
    "def getSubjectivity(review):\n",
    "    return TextBlob(review).sentiment.subjectivity\n",
    "    # function to calculate polarity\n",
    "def getPolarity(review):\n",
    "    return TextBlob(review).sentiment.polarity\n",
    "\n",
    "# function to analyze the reviews\n",
    "def analysis(score):\n",
    "    if score < 0:\n",
    "       return 'not happy'\n",
    "    \n",
    "    else:\n",
    "        return 'happy'"
   ]
  },
  {
   "cell_type": "code",
   "execution_count": 315,
   "metadata": {},
   "outputs": [
    {
     "output_type": "execute_result",
     "data": {
      "text/plain": [
       "                                              Feedback  \\\n",
       "18   I don't think it's delivery guy fault but pack...   \n",
       "33     I liked the quantity of the food and the taste.   \n",
       "49   Bhindi was very raw, butter milk had a foul smell   \n",
       "75   One of the 3rd class restaurant. I ordered Egg...   \n",
       "107        Chicken bowl had only two pieces of chicken   \n",
       "\n",
       "                                                 Lemma  label  Subjectivity  \\\n",
       "18     think delivery guy fault packet break due le...      0      0.375000   \n",
       "33                            like quantity food taste      1      0.000000   \n",
       "49                   Bhindi raw butter milk foul smell      0      0.461538   \n",
       "75     One rd class restaurant order Egg Masala sen...      0      0.300000   \n",
       "107                     Chicken bowl two piece chicken      0      0.950000   \n",
       "\n",
       "     Polarity Sentiment_Analysis  \n",
       "18  -0.125000          not happy  \n",
       "33   0.000000              happy  \n",
       "49  -0.230769          not happy  \n",
       "75  -0.200000          not happy  \n",
       "107 -0.600000          not happy  "
      ],
      "text/html": "<div>\n<style scoped>\n    .dataframe tbody tr th:only-of-type {\n        vertical-align: middle;\n    }\n\n    .dataframe tbody tr th {\n        vertical-align: top;\n    }\n\n    .dataframe thead th {\n        text-align: right;\n    }\n</style>\n<table border=\"1\" class=\"dataframe\">\n  <thead>\n    <tr style=\"text-align: right;\">\n      <th></th>\n      <th>Feedback</th>\n      <th>Lemma</th>\n      <th>label</th>\n      <th>Subjectivity</th>\n      <th>Polarity</th>\n      <th>Sentiment_Analysis</th>\n    </tr>\n  </thead>\n  <tbody>\n    <tr>\n      <th>18</th>\n      <td>I don't think it's delivery guy fault but pack...</td>\n      <td>think delivery guy fault packet break due le...</td>\n      <td>0</td>\n      <td>0.375000</td>\n      <td>-0.125000</td>\n      <td>not happy</td>\n    </tr>\n    <tr>\n      <th>33</th>\n      <td>I liked the quantity of the food and the taste.</td>\n      <td>like quantity food taste</td>\n      <td>1</td>\n      <td>0.000000</td>\n      <td>0.000000</td>\n      <td>happy</td>\n    </tr>\n    <tr>\n      <th>49</th>\n      <td>Bhindi was very raw, butter milk had a foul smell</td>\n      <td>Bhindi raw butter milk foul smell</td>\n      <td>0</td>\n      <td>0.461538</td>\n      <td>-0.230769</td>\n      <td>not happy</td>\n    </tr>\n    <tr>\n      <th>75</th>\n      <td>One of the 3rd class restaurant. I ordered Egg...</td>\n      <td>One rd class restaurant order Egg Masala sen...</td>\n      <td>0</td>\n      <td>0.300000</td>\n      <td>-0.200000</td>\n      <td>not happy</td>\n    </tr>\n    <tr>\n      <th>107</th>\n      <td>Chicken bowl had only two pieces of chicken</td>\n      <td>Chicken bowl two piece chicken</td>\n      <td>0</td>\n      <td>0.950000</td>\n      <td>-0.600000</td>\n      <td>not happy</td>\n    </tr>\n  </tbody>\n</table>\n</div>"
     },
     "metadata": {},
     "execution_count": 315
    }
   ],
   "source": [
    "final_data['Subjectivity'] = final_data['Lemma'].apply(getSubjectivity) \n",
    "final_data['Polarity'] = final_data['Lemma'].apply(getPolarity) \n",
    "final_data['Sentiment_Analysis'] = final_data['Polarity'].apply(analysis)\n",
    "final_data.head()"
   ]
  },
  {
   "cell_type": "code",
   "execution_count": 316,
   "metadata": {},
   "outputs": [],
   "source": [
    "final_data = final_data.reset_index()"
   ]
  },
  {
   "cell_type": "code",
   "execution_count": 317,
   "metadata": {},
   "outputs": [
    {
     "output_type": "execute_result",
     "data": {
      "text/plain": [
       "                                              Feedback  \\\n",
       "0    I don't think it's delivery guy fault but pack...   \n",
       "1      I liked the quantity of the food and the taste.   \n",
       "2    Bhindi was very raw, butter milk had a foul smell   \n",
       "3    One of the 3rd class restaurant. I ordered Egg...   \n",
       "4          Chicken bowl had only two pieces of chicken   \n",
       "..                                                 ...   \n",
       "140                              Spicy and Tasty....??   \n",
       "141  Paratas wer made of maida.. With spicy green c...   \n",
       "142  No sweet delivered, paratha was maida tandoori...   \n",
       "143  Not given adequate quantity of dish as said it...   \n",
       "144                              Wrong items deluvered   \n",
       "\n",
       "                                                 Lemma  label  Subjectivity  \\\n",
       "0      think delivery guy fault packet break due le...      0      0.375000   \n",
       "1                             like quantity food taste      1      0.000000   \n",
       "2                    Bhindi raw butter milk foul smell      0      0.461538   \n",
       "3      One rd class restaurant order Egg Masala sen...      0      0.300000   \n",
       "4                       Chicken bowl two piece chicken      0      0.950000   \n",
       "..                                                 ...    ...           ...   \n",
       "140                                        Spicy Tasty      1      0.000000   \n",
       "141    Paratas wer make maida spicy green chilli ca...      0      0.253333   \n",
       "142    sweet deliver paratha maida tandoori look li...      1      0.525000   \n",
       "143            give adequate quantity dish say provide      1      0.333333   \n",
       "144                               Wrong item deluvered      0      0.900000   \n",
       "\n",
       "     Polarity Sentiment_Analysis  \n",
       "0   -0.125000          not happy  \n",
       "1    0.000000              happy  \n",
       "2   -0.230769          not happy  \n",
       "3   -0.200000          not happy  \n",
       "4   -0.600000          not happy  \n",
       "..        ...                ...  \n",
       "140  0.000000              happy  \n",
       "141  0.266667              happy  \n",
       "142  0.275000              happy  \n",
       "143  0.333333              happy  \n",
       "144 -0.500000          not happy  \n",
       "\n",
       "[145 rows x 6 columns]"
      ],
      "text/html": "<div>\n<style scoped>\n    .dataframe tbody tr th:only-of-type {\n        vertical-align: middle;\n    }\n\n    .dataframe tbody tr th {\n        vertical-align: top;\n    }\n\n    .dataframe thead th {\n        text-align: right;\n    }\n</style>\n<table border=\"1\" class=\"dataframe\">\n  <thead>\n    <tr style=\"text-align: right;\">\n      <th></th>\n      <th>Feedback</th>\n      <th>Lemma</th>\n      <th>label</th>\n      <th>Subjectivity</th>\n      <th>Polarity</th>\n      <th>Sentiment_Analysis</th>\n    </tr>\n  </thead>\n  <tbody>\n    <tr>\n      <th>0</th>\n      <td>I don't think it's delivery guy fault but pack...</td>\n      <td>think delivery guy fault packet break due le...</td>\n      <td>0</td>\n      <td>0.375000</td>\n      <td>-0.125000</td>\n      <td>not happy</td>\n    </tr>\n    <tr>\n      <th>1</th>\n      <td>I liked the quantity of the food and the taste.</td>\n      <td>like quantity food taste</td>\n      <td>1</td>\n      <td>0.000000</td>\n      <td>0.000000</td>\n      <td>happy</td>\n    </tr>\n    <tr>\n      <th>2</th>\n      <td>Bhindi was very raw, butter milk had a foul smell</td>\n      <td>Bhindi raw butter milk foul smell</td>\n      <td>0</td>\n      <td>0.461538</td>\n      <td>-0.230769</td>\n      <td>not happy</td>\n    </tr>\n    <tr>\n      <th>3</th>\n      <td>One of the 3rd class restaurant. I ordered Egg...</td>\n      <td>One rd class restaurant order Egg Masala sen...</td>\n      <td>0</td>\n      <td>0.300000</td>\n      <td>-0.200000</td>\n      <td>not happy</td>\n    </tr>\n    <tr>\n      <th>4</th>\n      <td>Chicken bowl had only two pieces of chicken</td>\n      <td>Chicken bowl two piece chicken</td>\n      <td>0</td>\n      <td>0.950000</td>\n      <td>-0.600000</td>\n      <td>not happy</td>\n    </tr>\n    <tr>\n      <th>...</th>\n      <td>...</td>\n      <td>...</td>\n      <td>...</td>\n      <td>...</td>\n      <td>...</td>\n      <td>...</td>\n    </tr>\n    <tr>\n      <th>140</th>\n      <td>Spicy and Tasty....??</td>\n      <td>Spicy Tasty</td>\n      <td>1</td>\n      <td>0.000000</td>\n      <td>0.000000</td>\n      <td>happy</td>\n    </tr>\n    <tr>\n      <th>141</th>\n      <td>Paratas wer made of maida.. With spicy green c...</td>\n      <td>Paratas wer make maida spicy green chilli ca...</td>\n      <td>0</td>\n      <td>0.253333</td>\n      <td>0.266667</td>\n      <td>happy</td>\n    </tr>\n    <tr>\n      <th>142</th>\n      <td>No sweet delivered, paratha was maida tandoori...</td>\n      <td>sweet deliver paratha maida tandoori look li...</td>\n      <td>1</td>\n      <td>0.525000</td>\n      <td>0.275000</td>\n      <td>happy</td>\n    </tr>\n    <tr>\n      <th>143</th>\n      <td>Not given adequate quantity of dish as said it...</td>\n      <td>give adequate quantity dish say provide</td>\n      <td>1</td>\n      <td>0.333333</td>\n      <td>0.333333</td>\n      <td>happy</td>\n    </tr>\n    <tr>\n      <th>144</th>\n      <td>Wrong items deluvered</td>\n      <td>Wrong item deluvered</td>\n      <td>0</td>\n      <td>0.900000</td>\n      <td>-0.500000</td>\n      <td>not happy</td>\n    </tr>\n  </tbody>\n</table>\n<p>145 rows × 6 columns</p>\n</div>"
     },
     "metadata": {},
     "execution_count": 317
    }
   ],
   "source": [
    "final_data.drop(['index'],axis=1,inplace=True)\n",
    "final_data"
   ]
  },
  {
   "cell_type": "code",
   "execution_count": 318,
   "metadata": {},
   "outputs": [],
   "source": [
    "final_data.to_csv('Sentiment Analysis Main.csv')"
   ]
  },
  {
   "source": [
    "# sentiment analysis using other method bag of words tf-idf "
   ],
   "cell_type": "markdown",
   "metadata": {}
  },
  {
   "cell_type": "code",
   "execution_count": 349,
   "metadata": {},
   "outputs": [],
   "source": [
    "senti_nb = pd.DataFrame(final_data[['Feedback','label']])\n",
    "def labelr(t):\n",
    "    if t>0:\n",
    "        return 'Happy'\n",
    "    else:\n",
    "        return 'Not Happy'\n",
    "senti_nb['label'] = senti_nb['label'].apply(labelr)"
   ]
  },
  {
   "cell_type": "code",
   "execution_count": 350,
   "metadata": {},
   "outputs": [],
   "source": [
    "senti_nb = senti_nb.reset_index()\n",
    "#senti_nb.drop(['level_0','index'],axis=1)"
   ]
  },
  {
   "cell_type": "code",
   "execution_count": 351,
   "metadata": {},
   "outputs": [
    {
     "output_type": "execute_result",
     "data": {
      "text/plain": [
       "     index                                           Feedback      label\n",
       "0        0  I don't think it's delivery guy fault but pack...  Not Happy\n",
       "1        1    I liked the quantity of the food and the taste.      Happy\n",
       "2        2  Bhindi was very raw, butter milk had a foul smell  Not Happy\n",
       "3        3  One of the 3rd class restaurant. I ordered Egg...  Not Happy\n",
       "4        4        Chicken bowl had only two pieces of chicken  Not Happy\n",
       "..     ...                                                ...        ...\n",
       "140    140                              Spicy and Tasty....??      Happy\n",
       "141    141  Paratas wer made of maida.. With spicy green c...  Not Happy\n",
       "142    142  No sweet delivered, paratha was maida tandoori...      Happy\n",
       "143    143  Not given adequate quantity of dish as said it...      Happy\n",
       "144    144                              Wrong items deluvered  Not Happy\n",
       "\n",
       "[145 rows x 3 columns]"
      ],
      "text/html": "<div>\n<style scoped>\n    .dataframe tbody tr th:only-of-type {\n        vertical-align: middle;\n    }\n\n    .dataframe tbody tr th {\n        vertical-align: top;\n    }\n\n    .dataframe thead th {\n        text-align: right;\n    }\n</style>\n<table border=\"1\" class=\"dataframe\">\n  <thead>\n    <tr style=\"text-align: right;\">\n      <th></th>\n      <th>index</th>\n      <th>Feedback</th>\n      <th>label</th>\n    </tr>\n  </thead>\n  <tbody>\n    <tr>\n      <th>0</th>\n      <td>0</td>\n      <td>I don't think it's delivery guy fault but pack...</td>\n      <td>Not Happy</td>\n    </tr>\n    <tr>\n      <th>1</th>\n      <td>1</td>\n      <td>I liked the quantity of the food and the taste.</td>\n      <td>Happy</td>\n    </tr>\n    <tr>\n      <th>2</th>\n      <td>2</td>\n      <td>Bhindi was very raw, butter milk had a foul smell</td>\n      <td>Not Happy</td>\n    </tr>\n    <tr>\n      <th>3</th>\n      <td>3</td>\n      <td>One of the 3rd class restaurant. I ordered Egg...</td>\n      <td>Not Happy</td>\n    </tr>\n    <tr>\n      <th>4</th>\n      <td>4</td>\n      <td>Chicken bowl had only two pieces of chicken</td>\n      <td>Not Happy</td>\n    </tr>\n    <tr>\n      <th>...</th>\n      <td>...</td>\n      <td>...</td>\n      <td>...</td>\n    </tr>\n    <tr>\n      <th>140</th>\n      <td>140</td>\n      <td>Spicy and Tasty....??</td>\n      <td>Happy</td>\n    </tr>\n    <tr>\n      <th>141</th>\n      <td>141</td>\n      <td>Paratas wer made of maida.. With spicy green c...</td>\n      <td>Not Happy</td>\n    </tr>\n    <tr>\n      <th>142</th>\n      <td>142</td>\n      <td>No sweet delivered, paratha was maida tandoori...</td>\n      <td>Happy</td>\n    </tr>\n    <tr>\n      <th>143</th>\n      <td>143</td>\n      <td>Not given adequate quantity of dish as said it...</td>\n      <td>Happy</td>\n    </tr>\n    <tr>\n      <th>144</th>\n      <td>144</td>\n      <td>Wrong items deluvered</td>\n      <td>Not Happy</td>\n    </tr>\n  </tbody>\n</table>\n<p>145 rows × 3 columns</p>\n</div>"
     },
     "metadata": {},
     "execution_count": 351
    }
   ],
   "source": [
    "senti_nb"
   ]
  },
  {
   "source": [
    "splitting dataset into train and test"
   ],
   "cell_type": "markdown",
   "metadata": {}
  },
  {
   "cell_type": "code",
   "execution_count": 352,
   "metadata": {},
   "outputs": [
    {
     "output_type": "stream",
     "name": "stdout",
     "text": [
      "(116,) (116,)\n(29,) (29,)\n"
     ]
    }
   ],
   "source": [
    "\n",
    "\n",
    "train_reviews=senti_nb.Feedback[:116]\n",
    "train_sentiments=senti_nb.label[:116]\n",
    "\n",
    "test_reviews=senti_nb.Feedback[116:]\n",
    "test_sentiments=senti_nb.label[116:]\n",
    "print(train_reviews.shape,train_sentiments.shape)\n",
    "print(test_reviews.shape,test_sentiments.shape)"
   ]
  },
  {
   "cell_type": "code",
   "execution_count": 353,
   "metadata": {},
   "outputs": [],
   "source": [
    "#Tokenization of text\n",
    "tokenizer=ToktokTokenizer()\n",
    "#Setting English stopwords\n",
    "stopword_list=nltk.corpus.stopwords.words('english')"
   ]
  },
  {
   "cell_type": "code",
   "execution_count": 354,
   "metadata": {},
   "outputs": [],
   "source": [
    "#Removing the html strips\n",
    "def strip_html(text):\n",
    "    soup = BeautifulSoup(text, \"html.parser\")\n",
    "    return soup.get_text()\n",
    "\n",
    "#Removing the square brackets\n",
    "def remove_between_square_brackets(text):\n",
    "    return re.sub('\\[[^]]*\\]', '', text)\n",
    "\n",
    "#Removing the noisy text\n",
    "def denoise_text(text):\n",
    "    text = strip_html(text)\n",
    "    text = remove_between_square_brackets(text)\n",
    "    return text\n",
    "#Apply function on review column\n",
    "senti_nb['Feedback']=senti_nb['Feedback'].apply(denoise_text)"
   ]
  },
  {
   "cell_type": "code",
   "execution_count": 324,
   "metadata": {},
   "outputs": [],
   "source": [
    "#Define function for removing special characters\n",
    "def remove_special_characters(text, remove_digits=True):\n",
    "    pattern=r'[^a-zA-z0-9\\s]'\n",
    "    text=re.sub(pattern,'',text)\n",
    "    return text\n",
    "#Apply function on review column\n",
    "senti_nb['Feedback']=senti_nb['Feedback'].apply(remove_special_characters)"
   ]
  },
  {
   "cell_type": "code",
   "execution_count": 355,
   "metadata": {},
   "outputs": [],
   "source": [
    "#Stemming the text\n",
    "def simple_stemmer(text):\n",
    "    ps=nltk.porter.PorterStemmer()\n",
    "    text= ' '.join([ps.stem(word) for word in text.split()])\n",
    "    return text\n",
    "#Apply function on review column\n",
    "senti_nb['Feedback']=senti_nb['Feedback'].apply(simple_stemmer)"
   ]
  },
  {
   "cell_type": "code",
   "execution_count": 329,
   "metadata": {},
   "outputs": [
    {
     "output_type": "execute_result",
     "data": {
      "text/plain": [
       "     index                                           Feedback  label\n",
       "0        0  dont think deliveri guy fault packet wa broken...  Happy\n",
       "1        1                            like quantiti food tast  Happy\n",
       "2        2          bhindi wa veri raw butter milk foul smell  Happy\n",
       "3        3  one 3rd class restaur order egg masala sent eg...  Happy\n",
       "4        4                 chicken bowl onli two piec chicken  Happy\n",
       "..     ...                                                ...    ...\n",
       "140    140                                        spici tasti  Happy\n",
       "141    141  parata wer made maida spici green chilli call ...  Happy\n",
       "142    142  sweet deliv paratha wa maida tandoori look lik...  Happy\n",
       "143    143              given adequ quantiti dish said provid  Happy\n",
       "144    144                                   wrong item deluv  Happy\n",
       "\n",
       "[145 rows x 3 columns]"
      ],
      "text/html": "<div>\n<style scoped>\n    .dataframe tbody tr th:only-of-type {\n        vertical-align: middle;\n    }\n\n    .dataframe tbody tr th {\n        vertical-align: top;\n    }\n\n    .dataframe thead th {\n        text-align: right;\n    }\n</style>\n<table border=\"1\" class=\"dataframe\">\n  <thead>\n    <tr style=\"text-align: right;\">\n      <th></th>\n      <th>index</th>\n      <th>Feedback</th>\n      <th>label</th>\n    </tr>\n  </thead>\n  <tbody>\n    <tr>\n      <th>0</th>\n      <td>0</td>\n      <td>dont think deliveri guy fault packet wa broken...</td>\n      <td>Happy</td>\n    </tr>\n    <tr>\n      <th>1</th>\n      <td>1</td>\n      <td>like quantiti food tast</td>\n      <td>Happy</td>\n    </tr>\n    <tr>\n      <th>2</th>\n      <td>2</td>\n      <td>bhindi wa veri raw butter milk foul smell</td>\n      <td>Happy</td>\n    </tr>\n    <tr>\n      <th>3</th>\n      <td>3</td>\n      <td>one 3rd class restaur order egg masala sent eg...</td>\n      <td>Happy</td>\n    </tr>\n    <tr>\n      <th>4</th>\n      <td>4</td>\n      <td>chicken bowl onli two piec chicken</td>\n      <td>Happy</td>\n    </tr>\n    <tr>\n      <th>...</th>\n      <td>...</td>\n      <td>...</td>\n      <td>...</td>\n    </tr>\n    <tr>\n      <th>140</th>\n      <td>140</td>\n      <td>spici tasti</td>\n      <td>Happy</td>\n    </tr>\n    <tr>\n      <th>141</th>\n      <td>141</td>\n      <td>parata wer made maida spici green chilli call ...</td>\n      <td>Happy</td>\n    </tr>\n    <tr>\n      <th>142</th>\n      <td>142</td>\n      <td>sweet deliv paratha wa maida tandoori look lik...</td>\n      <td>Happy</td>\n    </tr>\n    <tr>\n      <th>143</th>\n      <td>143</td>\n      <td>given adequ quantiti dish said provid</td>\n      <td>Happy</td>\n    </tr>\n    <tr>\n      <th>144</th>\n      <td>144</td>\n      <td>wrong item deluv</td>\n      <td>Happy</td>\n    </tr>\n  </tbody>\n</table>\n<p>145 rows × 3 columns</p>\n</div>"
     },
     "metadata": {},
     "execution_count": 329
    }
   ],
   "source": [
    "\n",
    "stop=set(stopwords.words('english'))\n",
    "\n",
    "#removing the stopwords\n",
    "def remove_stopwords(text, is_lower_case=False):\n",
    "    tokens = tokenizer.tokenize(text)\n",
    "    tokens = [token.strip() for token in tokens]\n",
    "    if is_lower_case:\n",
    "        filtered_tokens = [token for token in tokens if token not in stopword_list]\n",
    "    else:\n",
    "        filtered_tokens = [token for token in tokens if token.lower() not in stopword_list]\n",
    "    filtered_text = ' '.join(filtered_tokens)    \n",
    "    return filtered_text\n",
    "#Apply function on review column\n",
    "senti_nb['Feedback']=senti_nb['Feedback'].apply(remove_stopwords)\n",
    "senti_nb"
   ]
  },
  {
   "cell_type": "code",
   "execution_count": 356,
   "metadata": {},
   "outputs": [
    {
     "output_type": "stream",
     "name": "stdout",
     "text": [
      "0      i don't think it' deliveri guy fault but packe...\n1         i like the quantiti of the food and the taste.\n2       bhindi wa veri raw, butter milk had a foul smell\n3      one of the 3rd class restaurant. i order egg m...\n4              chicken bowl had onli two piec of chicken\n5                            the phulka wa semi-coocked.\n6                         look like a fake copi of voosh\n7      the bhindi sabji had too much onion and tomato...\n8                                   quintyti is not good\n9      no gobi in alo gobi and it wa too much spicy. ...\n10           butter milk wa not provided. sweet wa stale\n11     did not get the butter milk with this..got onl...\n12                       bad rotisseri and hair in sabji\n13             love thi thali. food wa realli delicious.\n14     gobi paratha wa so spici that i'm have to thro...\n15       pleas add option to add extra phulka with thali\n16                  paneer stale and stinky. unaeatable.\n17     not up to expect seem like chicken is old and ...\n18     rice is not good ,curri quantiti is too low ,n...\n19                  sabji and dal quantiti are veri less\n20                                            awesome!!!\n21                           sabji quantiti is veri less\n22                raita is missing. dal tast is not good\n23                                i got onli one paratha\n24                                    veri less quantiti\n25     bhai sahab chotu gulab jamun thaa but swad a h...\n26     he wa commun properli and misbehaviour ing wit...\n27                            vada and ghee dosa is miss\n28                                                  kudo\n29     food item wa veri weird, didn't tast like it s...\n30            not so good, and the quantiti wa less too.\n31                   old batteri is used, food smell bad\n32     everyth in the thali wa either bad in tast or ...\n33     i order for veg and i got chicken . veri worst...\n34                          onli aata, minimum stuffing!\n35     polit food wa cold. dal wa veri watery. didn't...\n36     my worst food experience. everyth uncooked. th...\n37     all the item wa miss and the restaur peopl tal...\n38     veri tasty, thank you so much guys, your food ...\n39           it wa burn and stuf wa veri less not worthi\n40                                          horribl tast\n41                                                  tast\n42                   bad and bendi fri alreadi bad smell\n43     it wa not egg masala.. too spicy.. no salad wa...\n44                                    dal wa spilt entir\n45     food wa tasti and just right quantity. good pa...\n46     food qualiti is too bad, no hygien maintained,...\n47                                             item miss\n48                                    wrong product sent\n49                                            worst tast\n50     the tast wa sour and bhindi had extra salt in ...\n51                                            check chat\n52      awsome?? i like the tast and neatli packed. good\n53     1 st time when i order tast wa good so i repea...\n54                                veri satisfactori meal\n55                                        amaz food tast\n56                                              bad food\n57                                            spoon miss\n58       the restaur sell bad qualiti and bad tast food.\n59                   courteou punctual well spoken polit\n60                                            worst dosa\n61     onion dosa wa extra spicy..pleas reduc green c...\n62                   idili not as good as they should be\n63     there wa soda(sodium bicarbonate) in both rice...\n64     like that chit of paper with polit & ador ques...\n65     incomplet order, 70% of the order miss veri un...\n66     refus deliveri sinc it wa a replac order that ...\n67                      it wa spoil and veri hard to eat\n68                              no butter milk wa there.\n69     dal didn't tast good. paneer wa good. quantiti...\n70     food is spoil and i total thrown it away. i di...\n71                         bhindi wa uncook in some part\n72           don't order ani combo pack, will spill out.\n73                              tomato chutney wa awesom\n74     thi is a deliveri onli restaurant. i have orde...\n75                                          food wa amaz\n76                                           excel thali\n77     too much oil. spill oil everywher also tear pa...\n78                                          healthi food\n79                             miss item. chickpea salad\n80                                  chicken wasn't fresh\n81     didn?t ask too mani question on how to reach m...\n82     she give onli 2 small peac of chiken i fill ca...\n83                       portion of sabji should increas\n84     sabji wa veri poor quantiti and oily. salad wa...\n85                     dal and sanju should be serv more\n86                         stale food, smelly, item miss\n87                                 not juicy, dri patty!\n88     the pati wa veri dri and the burger as a whole...\n89     worst packaging. good burger. need more combos...\n90                        best burger i'v had in sometim\n91                 in the name of burger am get sandwich\n92     the patti is veri huge and it is too crunchi w...\n93             chicken patti in the burger wa veri thick\n94                                               horribl\n95     food didn't realli seem fresh and wasn't well ...\n96     the gravi were leak from the packaging, they n...\n97     worst ever. you can make peopl sick with thi f...\n98     realli bad taste, everyth tast baad and stale ...\n99                                                pathet\n100                                  servic is just wow.\n101       i got paneer masala without paneer. realli bad\n102                     the worst restaur in bangalor ??\n103    it wa way to less.. onli 5-6 small chuka of pa...\n104    paratha size wa okay but tast wa not good.. i ...\n105                             tast and smell were wors\n106                                              love it\n107                           small portions,averag tast\n108                       burnt, hard and salty. horribl\n109               aloo sabzi wa spoilt and dal wa wateri\n110           veri worst. have deliv onli half the order\n111                 no proper stuf and tast wa not good.\n112              it wa extra spicy, which i did not like\n113    could not eat sambar and raita due to lack of ...\n114    disappoint by chicken ,and quantity,,,3 piec ,...\n115                               polit and humbl person\n"
     ]
    },
    {
     "output_type": "execute_result",
     "data": {
      "text/plain": [
       "WordList(['0', 'i', 'do', \"n't\", 'think', 'it', 'deliveri', 'guy', 'fault', 'but', 'packe', '1', 'i', 'like', 'the', 'quantiti', 'of', 'the', 'food', 'and', 'the', 'taste', '2', 'bhindi', 'wa', 'veri', 'raw', 'butter', 'milk', 'had', 'a', 'foul', 'smell', '3', 'one', 'of', 'the', '3rd', 'class', 'restaurant', 'i', 'order', 'egg', 'm', '4', 'chicken', 'bowl', 'had', 'onli', 'two', 'piec', 'of', 'chicken', '5', 'the', 'phulka', 'wa', 'semi-coocked', '6', 'look', 'like', 'a', 'fake', 'copi', 'of', 'voosh', '7', 'the', 'bhindi', 'sabji', 'had', 'too', 'much', 'onion', 'and', 'tomato', '8', 'quintyti', 'is', 'not', 'good', '9', 'no', 'gobi', 'in', 'alo', 'gobi', 'and', 'it', 'wa', 'too', 'much', 'spicy', '10', 'butter', 'milk', 'wa', 'not', 'provided', 'sweet', 'wa', 'stale', '11', 'did', 'not', 'get', 'the', 'butter', 'milk', 'with', 'this', 'got', 'onl', '12', 'bad', 'rotisseri', 'and', 'hair', 'in', 'sabji', '13', 'love', 'thi', 'thali', 'food', 'wa', 'realli', 'delicious', '14', 'gobi', 'paratha', 'wa', 'so', 'spici', 'that', 'i', \"'m\", 'have', 'to', 'thro', '15', 'pleas', 'add', 'option', 'to', 'add', 'extra', 'phulka', 'with', 'thali', '16', 'paneer', 'stale', 'and', 'stinky', 'unaeatable', '17', 'not', 'up', 'to', 'expect', 'seem', 'like', 'chicken', 'is', 'old', 'and', '18', 'rice', 'is', 'not', 'good', 'curri', 'quantiti', 'is', 'too', 'low', 'n', '19', 'sabji', 'and', 'dal', 'quantiti', 'are', 'veri', 'less', '20', 'awesome', '21', 'sabji', 'quantiti', 'is', 'veri', 'less', '22', 'raita', 'is', 'missing', 'dal', 'tast', 'is', 'not', 'good', '23', 'i', 'got', 'onli', 'one', 'paratha', '24', 'veri', 'less', 'quantiti', '25', 'bhai', 'sahab', 'chotu', 'gulab', 'jamun', 'thaa', 'but', 'swad', 'a', 'h', '26', 'he', 'wa', 'commun', 'properli', 'and', 'misbehaviour', 'ing', 'wit', '27', 'vada', 'and', 'ghee', 'dosa', 'is', 'miss', '28', 'kudo', '29', 'food', 'item', 'wa', 'veri', 'weird', 'did', \"n't\", 'tast', 'like', 'it', 's', '30', 'not', 'so', 'good', 'and', 'the', 'quantiti', 'wa', 'less', 'too', '31', 'old', 'batteri', 'is', 'used', 'food', 'smell', 'bad', '32', 'everyth', 'in', 'the', 'thali', 'wa', 'either', 'bad', 'in', 'tast', 'or', '33', 'i', 'order', 'for', 'veg', 'and', 'i', 'got', 'chicken', 'veri', 'worst', '34', 'onli', 'aata', 'minimum', 'stuffing', '35', 'polit', 'food', 'wa', 'cold', 'dal', 'wa', 'veri', 'watery', 'did', \"n't\", '36', 'my', 'worst', 'food', 'experience', 'everyth', 'uncooked', 'th', '37', 'all', 'the', 'item', 'wa', 'miss', 'and', 'the', 'restaur', 'peopl', 'tal', '38', 'veri', 'tasty', 'thank', 'you', 'so', 'much', 'guys', 'your', 'food', '39', 'it', 'wa', 'burn', 'and', 'stuf', 'wa', 'veri', 'less', 'not', 'worthi', '40', 'horribl', 'tast', '41', 'tast', '42', 'bad', 'and', 'bendi', 'fri', 'alreadi', 'bad', 'smell', '43', 'it', 'wa', 'not', 'egg', 'masala', 'too', 'spicy', 'no', 'salad', 'wa', '44', 'dal', 'wa', 'spilt', 'entir', '45', 'food', 'wa', 'tasti', 'and', 'just', 'right', 'quantity', 'good', 'pa', '46', 'food', 'qualiti', 'is', 'too', 'bad', 'no', 'hygien', 'maintained', '47', 'item', 'miss', '48', 'wrong', 'product', 'sent', '49', 'worst', 'tast', '50', 'the', 'tast', 'wa', 'sour', 'and', 'bhindi', 'had', 'extra', 'salt', 'in', '51', 'check', 'chat', '52', 'awsome', 'i', 'like', 'the', 'tast', 'and', 'neatli', 'packed', 'good', '53', '1', 'st', 'time', 'when', 'i', 'order', 'tast', 'wa', 'good', 'so', 'i', 'repea', '54', 'veri', 'satisfactori', 'meal', '55', 'amaz', 'food', 'tast', '56', 'bad', 'food', '57', 'spoon', 'miss', '58', 'the', 'restaur', 'sell', 'bad', 'qualiti', 'and', 'bad', 'tast', 'food', '59', 'courteou', 'punctual', 'well', 'spoken', 'polit', '60', 'worst', 'dosa', '61', 'onion', 'dosa', 'wa', 'extra', 'spicy', 'pleas', 'reduc', 'green', 'c', '62', 'idili', 'not', 'as', 'good', 'as', 'they', 'should', 'be', '63', 'there', 'wa', 'soda', 'sodium', 'bicarbonate', 'in', 'both', 'rice', '64', 'like', 'that', 'chit', 'of', 'paper', 'with', 'polit', 'ador', 'ques', '65', 'incomplet', 'order', '70', 'of', 'the', 'order', 'miss', 'veri', 'un', '66', 'refus', 'deliveri', 'sinc', 'it', 'wa', 'a', 'replac', 'order', 'that', '67', 'it', 'wa', 'spoil', 'and', 'veri', 'hard', 'to', 'eat', '68', 'no', 'butter', 'milk', 'wa', 'there', '69', 'dal', 'did', \"n't\", 'tast', 'good', 'paneer', 'wa', 'good', 'quantiti', '70', 'food', 'is', 'spoil', 'and', 'i', 'total', 'thrown', 'it', 'away', 'i', 'di', '71', 'bhindi', 'wa', 'uncook', 'in', 'some', 'part', '72', 'do', \"n't\", 'order', 'ani', 'combo', 'pack', 'will', 'spill', 'out', '73', 'tomato', 'chutney', 'wa', 'awesom', '74', 'thi', 'is', 'a', 'deliveri', 'onli', 'restaurant', 'i', 'have', 'orde', '75', 'food', 'wa', 'amaz', '76', 'excel', 'thali', '77', 'too', 'much', 'oil', 'spill', 'oil', 'everywher', 'also', 'tear', 'pa', '78', 'healthi', 'food', '79', 'miss', 'item', 'chickpea', 'salad', '80', 'chicken', 'was', \"n't\", 'fresh', '81', 'didn', 't', 'ask', 'too', 'mani', 'question', 'on', 'how', 'to', 'reach', 'm', '82', 'she', 'give', 'onli', '2', 'small', 'peac', 'of', 'chiken', 'i', 'fill', 'ca', '83', 'portion', 'of', 'sabji', 'should', 'increas', '84', 'sabji', 'wa', 'veri', 'poor', 'quantiti', 'and', 'oily', 'salad', 'wa', '85', 'dal', 'and', 'sanju', 'should', 'be', 'serv', 'more', '86', 'stale', 'food', 'smelly', 'item', 'miss', '87', 'not', 'juicy', 'dri', 'patty', '88', 'the', 'pati', 'wa', 'veri', 'dri', 'and', 'the', 'burger', 'as', 'a', 'whole', '89', 'worst', 'packaging', 'good', 'burger', 'need', 'more', 'combos', '90', 'best', 'burger', 'i', 'v', 'had', 'in', 'sometim', '91', 'in', 'the', 'name', 'of', 'burger', 'am', 'get', 'sandwich', '92', 'the', 'patti', 'is', 'veri', 'huge', 'and', 'it', 'is', 'too', 'crunchi', 'w', '93', 'chicken', 'patti', 'in', 'the', 'burger', 'wa', 'veri', 'thick', '94', 'horribl', '95', 'food', 'did', \"n't\", 'realli', 'seem', 'fresh', 'and', 'was', \"n't\", 'well', '96', 'the', 'gravi', 'were', 'leak', 'from', 'the', 'packaging', 'they', 'n', '97', 'worst', 'ever', 'you', 'can', 'make', 'peopl', 'sick', 'with', 'thi', 'f', '98', 'realli', 'bad', 'taste', 'everyth', 'tast', 'baad', 'and', 'stale', '99', 'pathet', '100', 'servic', 'is', 'just', 'wow', '101', 'i', 'got', 'paneer', 'masala', 'without', 'paneer', 'realli', 'bad', '102', 'the', 'worst', 'restaur', 'in', 'bangalor', '103', 'it', 'wa', 'way', 'to', 'less', 'onli', '5-6', 'small', 'chuka', 'of', 'pa', '104', 'paratha', 'size', 'wa', 'okay', 'but', 'tast', 'wa', 'not', 'good', 'i', '105', 'tast', 'and', 'smell', 'were', 'wors', '106', 'love', 'it', '107', 'small', 'portions', 'averag', 'tast', '108', 'burnt', 'hard', 'and', 'salty', 'horribl', '109', 'aloo', 'sabzi', 'wa', 'spoilt', 'and', 'dal', 'wa', 'wateri', '110', 'veri', 'worst', 'have', 'deliv', 'onli', 'half', 'the', 'order', '111', 'no', 'proper', 'stuf', 'and', 'tast', 'wa', 'not', 'good', '112', 'it', 'wa', 'extra', 'spicy', 'which', 'i', 'did', 'not', 'like', '113', 'could', 'not', 'eat', 'sambar', 'and', 'raita', 'due', 'to', 'lack', 'of', '114', 'disappoint', 'by', 'chicken', 'and', 'quantity', '3', 'piec', '115', 'polit', 'and', 'humbl', 'person'])"
      ]
     },
     "metadata": {},
     "execution_count": 356
    }
   ],
   "source": [
    "#normalized train reviews\n",
    "norm_train_reviews = senti_nb.Feedback[:116]\n",
    "norm_train_reviews[0]\n",
    "#convert dataframe to string\n",
    "norm_train_string=norm_train_reviews.to_string()\n",
    "print(norm_train_string)\n",
    "#Spelling correction using Textblob\n",
    "norm_train_spelling=TextBlob(norm_train_string)\n",
    "norm_train_spelling.correct()\n",
    "#Tokenization using Textblob\n",
    "norm_train_words=norm_train_spelling.words\n",
    "norm_train_words"
   ]
  },
  {
   "cell_type": "code",
   "execution_count": 187,
   "metadata": {},
   "outputs": [
    {
     "output_type": "stream",
     "name": "stdout",
     "text": [
      "116    one worst order grave use carrier last much a...\n117                   burri deal that wa very very less\n118                              order wa complete differ\n119    order earlier place quality quantity wa much b...\n120    wa tafa martha instead plain chapathi dont li...\n121                        awesom complete meal great job\n122    manner wa old stock even saber given cauliflo...\n123    like last grave wa very less amount white rice...\n124                                     super speed kind\n125    the second time order the restful seem like i...\n126    worst last everted give food like jail food...\n127    food little oil 2 improve pack food last good q...\n128                                           worst food\n129    quantity food wa very very less children home eat\n130    sweet wa james wa size pea ridiculouspan wa fr...\n131    order take deal ha much water wa hungry food ...\n132                                 absolute horrible food\n133                             worst ever paper nasal\n134                                    wa tactless food\n135                sweet wa spoils very very spice bhaji\n136    pack paper cover charge steel box pack charge worth\n137                                   place over over\n138                                                 hope\n139    order wa cancel beau food packet parcel prove...\n140                                          spice taste\n141    part her made maid spice green chill call ...\n142    sweet devil martha wa maid tandoori look like...\n143                given adieu quantity dish said proved\n144                                     wrong item delay\n"
     ]
    },
    {
     "output_type": "execute_result",
     "data": {
      "text/plain": [
       "WordList(['116', 'one', 'worst', 'order', 'gravi', 'use', 'carrier', 'tast', 'much', 'av', '117', 'curri', 'daal', 'thali', 'wa', 'veri', 'veri', 'less', '118', 'order', 'wa', 'complet', 'differ', '119', 'order', 'earlier', 'place', 'qualiti', 'quantiti', 'wa', 'much', 'b', '120', 'wa', 'tawa', 'paratha', 'instead', 'plain', 'chapathi', 'dont', 'li', '121', 'awesom', 'complet', 'meal', 'great', 'job', '122', 'panneer', 'wa', 'old', 'stock', 'even', 'sabji', 'given', 'cauliflo', '123', 'like', 'tast', 'gravi', 'wa', 'veri', 'less', 'amount', 'white', 'rice', '124', 'super', 'speed', 'kind', '125', 'thi', 'second', 'time', 'order', 'thi', 'restaur', 'seem', 'like', 'gi', '126', 'worst', 'tast', 'everthey', 'give', 'food', 'like', 'jail', 'foodri', '127', 'food', 'littl', 'oili', '2', 'improv', 'pack', 'food', 'tast', 'good', 'q', '128', 'worst', 'food', '129', 'quantiti', 'food', 'wa', 'veri', 'veri', 'less', 'children', 'home', 'eat', '130', 'sweet', 'wa', 'jamun', 'wa', 'size', 'pea', 'ridiculouspan', 'wa', 'fr', '131', 'order', 'tadka', 'daal', 'ha', 'much', 'water', 'wa', 'hungri', 'food', '132', 'absolut', 'horribl', 'food', '133', 'worst', 'ever', 'paneer', 'masala', '134', 'wa', 'tasteless', 'food', '135', 'sweet', 'wa', 'spoilt', 'veri', 'veri', 'spici', 'bhaji', '136', 'pack', 'paper', 'cover', 'charg', 'steel', 'box', 'pack', 'charg', 'worth', '137', 'place', 'overr', 'overpr', '138', 'hipe', '139', 'order', 'wa', 'cancel', 'becau', 'food', 'packet', 'parcel', 'prope', '140', 'spici', 'tasti', '141', 'parata', 'wer', 'made', 'maida', 'spici', 'green', 'chilli', 'call', '142', 'sweet', 'deliv', 'paratha', 'wa', 'maida', 'tandoori', 'look', 'lik', '143', 'given', 'adequ', 'quantiti', 'dish', 'said', 'provid', '144', 'wrong', 'item', 'deluv'])"
      ]
     },
     "metadata": {},
     "execution_count": 187
    }
   ],
   "source": [
    "#Normalized test reviews\n",
    "norm_test_reviews=senti_nb.Feedback[116:]\n",
    "norm_test_reviews[116]\n",
    "##convert dataframe to string\n",
    "norm_test_string=norm_test_reviews.to_string()\n",
    "#spelling correction using Textblob\n",
    "norm_test_spelling=TextBlob(norm_test_string)\n",
    "print(norm_test_spelling.correct())\n",
    "#Tokenization using Textblob\n",
    "norm_test_words=norm_test_spelling.words\n",
    "norm_test_words"
   ]
  },
  {
   "source": [
    "Bags of words model"
   ],
   "cell_type": "markdown",
   "metadata": {}
  },
  {
   "cell_type": "code",
   "execution_count": 357,
   "metadata": {},
   "outputs": [
    {
     "output_type": "stream",
     "name": "stdout",
     "text": [
      "BOW_cv_train: (116, 2170)\nBOW_cv_test: (29, 2170)\n"
     ]
    }
   ],
   "source": [
    "#Count vectorizer for bag of words\n",
    "cv=CountVectorizer(min_df=0,max_df=1,binary=False,ngram_range=(1,3))\n",
    "#transformed train reviews\n",
    "cv_train_reviews=cv.fit_transform(norm_train_reviews)\n",
    "#transformed test reviews\n",
    "cv_test_reviews=cv.transform(norm_test_reviews)\n",
    "\n",
    "print('BOW_cv_train:',cv_train_reviews.shape)\n",
    "print('BOW_cv_test:',cv_test_reviews.shape)\n",
    "#vocab=cv.get_feature_names()-toget feature names"
   ]
  },
  {
   "source": [
    "Term Frequency-Inverse Document Frequency model (TFIDF)"
   ],
   "cell_type": "markdown",
   "metadata": {}
  },
  {
   "cell_type": "code",
   "execution_count": 358,
   "metadata": {},
   "outputs": [
    {
     "output_type": "stream",
     "name": "stdout",
     "text": [
      "Tfidf_train: (116, 2170)\nTfidf_test: (29, 2170)\n"
     ]
    }
   ],
   "source": [
    "#Tfidf vectorizer\n",
    "tv=TfidfVectorizer(min_df=0,max_df=1,use_idf=True,ngram_range=(1,3))\n",
    "#transformed train reviews\n",
    "tv_train_reviews=tv.fit_transform(norm_train_reviews)\n",
    "#transformed test reviews\n",
    "tv_test_reviews=tv.transform(norm_test_reviews)\n",
    "print('Tfidf_train:',tv_train_reviews.shape)\n",
    "print('Tfidf_test:',tv_test_reviews.shape)"
   ]
  },
  {
   "source": [
    "Labeling the sentiment text"
   ],
   "cell_type": "markdown",
   "metadata": {}
  },
  {
   "cell_type": "code",
   "execution_count": 359,
   "metadata": {},
   "outputs": [
    {
     "output_type": "stream",
     "name": "stdout",
     "text": [
      "[[1]\n [0]\n [1]\n [1]\n [1]\n [0]\n [1]\n [0]\n [1]\n [1]\n [1]\n [1]\n [1]\n [0]\n [1]\n [0]\n [1]\n [1]\n [1]\n [1]\n [0]\n [1]\n [1]\n [1]\n [1]\n [0]\n [1]\n [1]\n [0]\n [1]\n [1]\n [1]\n [1]\n [1]\n [1]\n [1]\n [1]\n [1]\n [0]\n [1]\n [1]\n [0]\n [1]\n [1]\n [0]\n [0]\n [1]\n [1]\n [0]\n [1]\n [1]\n [1]\n [0]\n [1]\n [0]\n [0]\n [1]\n [0]\n [1]\n [0]\n [1]\n [0]\n [0]\n [1]\n [0]\n [1]\n [1]\n [0]\n [0]\n [0]\n [1]\n [0]\n [1]\n [0]\n [0]\n [0]\n [0]\n [1]\n [0]\n [1]\n [0]\n [0]\n [1]\n [0]\n [1]\n [0]\n [1]\n [1]\n [1]\n [0]\n [0]\n [1]\n [0]\n [0]\n [1]\n [0]\n [0]\n [1]\n [1]\n [1]\n [0]\n [1]\n [1]\n [0]\n [1]\n [1]\n [0]\n [0]\n [1]\n [1]\n [1]\n [1]\n [0]\n [0]\n [1]\n [0]\n [1]\n [0]\n [1]\n [1]\n [0]\n [0]\n [0]\n [0]\n [0]\n [1]\n [1]\n [0]\n [1]\n [1]\n [1]\n [1]\n [1]\n [1]\n [1]\n [1]\n [1]\n [0]\n [0]\n [1]\n [0]\n [1]\n [0]\n [0]\n [1]]\n"
     ]
    }
   ],
   "source": [
    "#labeling the sentient data\n",
    "lb=LabelBinarizer()\n",
    "#transformed sentiment data\n",
    "sentiment_data=lb.fit_transform(senti_nb['label'])\n",
    "print(sentiment_data)"
   ]
  },
  {
   "source": [
    "Split the sentiment tdata"
   ],
   "cell_type": "markdown",
   "metadata": {}
  },
  {
   "cell_type": "code",
   "execution_count": 360,
   "metadata": {},
   "outputs": [
    {
     "output_type": "stream",
     "name": "stdout",
     "text": [
      "[[1]\n [0]\n [1]\n [1]\n [1]\n [0]\n [1]\n [0]\n [1]\n [1]\n [1]\n [1]\n [1]\n [0]\n [1]\n [0]\n [1]\n [1]\n [1]\n [1]\n [0]\n [1]\n [1]\n [1]\n [1]\n [0]\n [1]\n [1]\n [0]\n [1]\n [1]\n [1]\n [1]\n [1]\n [1]\n [1]\n [1]\n [1]\n [0]\n [1]\n [1]\n [0]\n [1]\n [1]\n [0]\n [0]\n [1]\n [1]\n [0]\n [1]\n [1]\n [1]\n [0]\n [1]\n [0]\n [0]\n [1]\n [0]\n [1]\n [0]\n [1]\n [0]\n [0]\n [1]\n [0]\n [1]\n [1]\n [0]\n [0]\n [0]\n [1]\n [0]\n [1]\n [0]\n [0]\n [0]\n [0]\n [1]\n [0]\n [1]\n [0]\n [0]\n [1]\n [0]\n [1]\n [0]\n [1]\n [1]\n [1]\n [0]\n [0]\n [1]\n [0]\n [0]\n [1]\n [0]\n [0]\n [1]\n [1]\n [1]\n [0]\n [1]\n [1]\n [0]\n [1]\n [1]\n [0]\n [0]\n [1]\n [1]\n [1]\n [1]\n [0]\n [0]\n [1]\n [0]]\n[[1]\n [0]\n [1]\n [1]\n [0]\n [0]\n [0]\n [0]\n [0]\n [1]\n [1]\n [0]\n [1]\n [1]\n [1]\n [1]\n [1]\n [1]\n [1]\n [1]\n [1]\n [0]\n [0]\n [1]\n [0]\n [1]\n [0]\n [0]\n [1]]\n"
     ]
    }
   ],
   "source": [
    "#Spliting the sentiment data\n",
    "train_sentiments=sentiment_data[:116]\n",
    "test_sentiments=sentiment_data[116:]\n",
    "print(train_sentiments)\n",
    "print(test_sentiments)"
   ]
  },
  {
   "cell_type": "code",
   "execution_count": 361,
   "metadata": {},
   "outputs": [],
   "source": [
    "def output(t):\n",
    "    for i in t:\n",
    "        if i==1:\n",
    "            return \"Happy\"\n",
    "        else:\n",
    "            return \"Not Happy\""
   ]
  },
  {
   "source": [
    "Modelling the dataset"
   ],
   "cell_type": "markdown",
   "metadata": {}
  },
  {
   "cell_type": "code",
   "execution_count": 362,
   "metadata": {},
   "outputs": [
    {
     "output_type": "stream",
     "name": "stdout",
     "text": [
      "LogisticRegression(C=1, max_iter=500, random_state=42)\nLogisticRegression(C=1, max_iter=500, random_state=42)\n"
     ]
    }
   ],
   "source": [
    "#training the model\n",
    "lr=LogisticRegression(penalty='l2',max_iter=500,C=1,random_state=42)\n",
    "#Fitting the model for Bag of words\n",
    "lr_bow=lr.fit(cv_train_reviews,train_sentiments.ravel())\n",
    "print(lr_bow)\n",
    "#Fitting the model for tfidf features\n",
    "lr_tfidf=lr.fit(tv_train_reviews,train_sentiments.ravel())\n",
    "print(lr_tfidf)"
   ]
  },
  {
   "source": [
    "Logistic regression model performane on test dataset"
   ],
   "cell_type": "markdown",
   "metadata": {}
  },
  {
   "cell_type": "code",
   "execution_count": 363,
   "metadata": {},
   "outputs": [
    {
     "output_type": "stream",
     "name": "stdout",
     "text": [
      "[1 1 1 1 1 1 1 1 1 1 1 0 1 1 1 1 1 1 1 1 1 1 1 1 1 1 1 1 1]\n[1 1 1 1 1 1 1 1 1 1 1 1 1 1 1 1 1 1 1 1 1 1 1 1 1 1 1 1 1]\n"
     ]
    }
   ],
   "source": [
    "#Predicting the model for bag of words\n",
    "lr_bow_predict=lr.predict(cv_test_reviews)\n",
    "print(lr_bow_predict)\n",
    "##Predicting the model for tfidf features\n",
    "lr_tfidf_predict=lr.predict(tv_test_reviews)\n",
    "print(lr_tfidf_predict)"
   ]
  },
  {
   "cell_type": "code",
   "execution_count": 364,
   "metadata": {},
   "outputs": [],
   "source": [
    "sentiment_Analysis_LogisticRegression = pd.DataFrame()\n",
    "sentiment_Analysis_LogisticRegression[\"Feedback\"] =senti_nb.Feedback[116:]\n",
    "sentiment_Analysis_LogisticRegression[\"Sentiments_BOG\"] = output(lr_bow_predict)\n",
    "sentiment_Analysis_LogisticRegression[\"Sentiments_TFIDF\"] = output(lr_tfidf_predict)"
   ]
  },
  {
   "cell_type": "code",
   "execution_count": 365,
   "metadata": {},
   "outputs": [],
   "source": [
    "sentiment_Analysis_LogisticRegression.to_csv('sentiment_Analysis_LogisticRegression.csv')"
   ]
  },
  {
   "source": [
    "Accuracy of the model"
   ],
   "cell_type": "markdown",
   "metadata": {}
  },
  {
   "cell_type": "code",
   "execution_count": 366,
   "metadata": {},
   "outputs": [
    {
     "output_type": "stream",
     "name": "stdout",
     "text": [
      "lr_bow_score : 0.6206896551724138\nlr_tfidf_score : 0.5862068965517241\n"
     ]
    }
   ],
   "source": [
    "#Accuracy score for bag of words\n",
    "lr_bow_score=accuracy_score(test_sentiments,lr_bow_predict)\n",
    "print(\"lr_bow_score :\",lr_bow_score)\n",
    "#Accuracy score for tfidf features\n",
    "lr_tfidf_score=accuracy_score(test_sentiments,lr_tfidf_predict)\n",
    "print(\"lr_tfidf_score :\",lr_tfidf_score)"
   ]
  },
  {
   "source": [
    "Print the classification report"
   ],
   "cell_type": "markdown",
   "metadata": {}
  },
  {
   "cell_type": "code",
   "execution_count": 367,
   "metadata": {},
   "outputs": [
    {
     "output_type": "stream",
     "name": "stdout",
     "text": [
      "              precision    recall  f1-score   support\n",
      "\n",
      "    Positive       1.00      0.08      0.15        12\n",
      "    Negative       0.61      1.00      0.76        17\n",
      "\n",
      "    accuracy                           0.62        29\n",
      "   macro avg       0.80      0.54      0.45        29\n",
      "weighted avg       0.77      0.62      0.51        29\n",
      "\n",
      "              precision    recall  f1-score   support\n",
      "\n",
      "    Positive       0.00      0.00      0.00        12\n",
      "    Negative       0.59      1.00      0.74        17\n",
      "\n",
      "    accuracy                           0.59        29\n",
      "   macro avg       0.29      0.50      0.37        29\n",
      "weighted avg       0.34      0.59      0.43        29\n",
      "\n",
      "C:\\Users\\cnctk\\anaconda3\\lib\\site-packages\\sklearn\\metrics\\_classification.py:1248: UndefinedMetricWarning: Precision and F-score are ill-defined and being set to 0.0 in labels with no predicted samples. Use `zero_division` parameter to control this behavior.\n",
      "  _warn_prf(average, modifier, msg_start, len(result))\n",
      "C:\\Users\\cnctk\\anaconda3\\lib\\site-packages\\sklearn\\metrics\\_classification.py:1248: UndefinedMetricWarning: Precision and F-score are ill-defined and being set to 0.0 in labels with no predicted samples. Use `zero_division` parameter to control this behavior.\n",
      "  _warn_prf(average, modifier, msg_start, len(result))\n",
      "C:\\Users\\cnctk\\anaconda3\\lib\\site-packages\\sklearn\\metrics\\_classification.py:1248: UndefinedMetricWarning: Precision and F-score are ill-defined and being set to 0.0 in labels with no predicted samples. Use `zero_division` parameter to control this behavior.\n",
      "  _warn_prf(average, modifier, msg_start, len(result))\n"
     ]
    }
   ],
   "source": [
    "#Classification report for bag of words \n",
    "lr_bow_report=classification_report(test_sentiments,lr_bow_predict,target_names=['Positive','Negative'])\n",
    "print(lr_bow_report)\n",
    "\n",
    "#Classification report for tfidf features\n",
    "lr_tfidf_report=classification_report(test_sentiments,lr_tfidf_predict,target_names=['Positive','Negative'])\n",
    "print(lr_tfidf_report)"
   ]
  },
  {
   "source": [
    "Confusion matrix"
   ],
   "cell_type": "markdown",
   "metadata": {}
  },
  {
   "cell_type": "code",
   "execution_count": 368,
   "metadata": {},
   "outputs": [
    {
     "output_type": "stream",
     "name": "stdout",
     "text": [
      "[[17  0]\n [11  1]]\n[[17  0]\n [12  0]]\n"
     ]
    }
   ],
   "source": [
    "#confusion matrix for bag of words\n",
    "cm_bow=confusion_matrix(test_sentiments,lr_bow_predict,labels=[1,0])\n",
    "print(cm_bow)\n",
    "#confusion matrix for tfidf features\n",
    "cm_tfidf=confusion_matrix(test_sentiments,lr_tfidf_predict,labels=[1,0])\n",
    "print(cm_tfidf)"
   ]
  },
  {
   "source": [
    "Linear support vector machines for bag of words and tfidf features"
   ],
   "cell_type": "markdown",
   "metadata": {}
  },
  {
   "cell_type": "code",
   "execution_count": 369,
   "metadata": {},
   "outputs": [
    {
     "output_type": "stream",
     "name": "stdout",
     "text": [
      "SGDClassifier(max_iter=500, random_state=42)\nSGDClassifier(max_iter=500, random_state=42)\n"
     ]
    }
   ],
   "source": [
    "#training the linear svm\n",
    "svm=SGDClassifier(loss='hinge',max_iter=500,random_state=42)\n",
    "#fitting the svm for bag of words\n",
    "svm_bow=svm.fit(cv_train_reviews,train_sentiments.ravel())\n",
    "print(svm_bow)\n",
    "#fitting the svm for tfidf features\n",
    "svm_tfidf=svm.fit(tv_train_reviews,train_sentiments.ravel())\n",
    "print(svm_tfidf)"
   ]
  },
  {
   "source": [
    "Model performance on test data"
   ],
   "cell_type": "markdown",
   "metadata": {}
  },
  {
   "cell_type": "code",
   "execution_count": 370,
   "metadata": {},
   "outputs": [
    {
     "output_type": "stream",
     "name": "stdout",
     "text": [
      "[0 1 1 1 0 0 1 1 1 1 1 0 1 1 1 1 1 1 1 1 1 1 1 1 0 0 1 1 0]\n[0 1 1 1 0 0 1 1 1 1 1 0 1 1 1 1 1 1 1 1 1 1 1 1 0 1 1 1 0]\n"
     ]
    }
   ],
   "source": [
    "#Predicting the model for bag of words\n",
    "svm_bow_predict=svm.predict(cv_test_reviews)\n",
    "print(svm_bow_predict)\n",
    "#Predicting the model for tfidf features\n",
    "svm_tfidf_predict=svm.predict(tv_test_reviews)\n",
    "print(svm_tfidf_predict)"
   ]
  },
  {
   "cell_type": "code",
   "execution_count": 371,
   "metadata": {},
   "outputs": [],
   "source": [
    "sentiment_Analysis_svm = pd.DataFrame()\n",
    "sentiment_Analysis_svm[\"Feedback\"] =senti_nb.Feedback[116:]\n",
    "sentiment_Analysis_svm[\"Sentiments_svm\"] = output(svm_bow_predict)\n",
    "sentiment_Analysis_svm[\"Sentiments_svm\"] = output(svm_tfidf_predict)"
   ]
  },
  {
   "cell_type": "code",
   "execution_count": 372,
   "metadata": {},
   "outputs": [],
   "source": [
    "sentiment_Analysis_svm.to_csv('sentiment_Analysis_svm.csv')"
   ]
  },
  {
   "source": [
    "Accuracy of the model"
   ],
   "cell_type": "markdown",
   "metadata": {}
  },
  {
   "cell_type": "code",
   "execution_count": 373,
   "metadata": {},
   "outputs": [
    {
     "output_type": "stream",
     "name": "stdout",
     "text": [
      "svm_bow_score : 0.6206896551724138\nsvm_tfidf_score : 0.6551724137931034\n"
     ]
    }
   ],
   "source": [
    "#Accuracy score for bag of words\n",
    "svm_bow_score=accuracy_score(test_sentiments,svm_bow_predict)\n",
    "print(\"svm_bow_score :\",svm_bow_score)\n",
    "#Accuracy score for tfidf features\n",
    "svm_tfidf_score=accuracy_score(test_sentiments,svm_tfidf_predict)\n",
    "print(\"svm_tfidf_score :\",svm_tfidf_score)"
   ]
  },
  {
   "source": [
    "Print the classification report"
   ],
   "cell_type": "markdown",
   "metadata": {}
  },
  {
   "cell_type": "code",
   "execution_count": 374,
   "metadata": {},
   "outputs": [
    {
     "output_type": "stream",
     "name": "stdout",
     "text": [
      "              precision    recall  f1-score   support\n\n    Positive       0.57      0.33      0.42        12\n    Negative       0.64      0.82      0.72        17\n\n    accuracy                           0.62        29\n   macro avg       0.60      0.58      0.57        29\nweighted avg       0.61      0.62      0.60        29\n\n              precision    recall  f1-score   support\n\n    Positive       0.67      0.33      0.44        12\n    Negative       0.65      0.88      0.75        17\n\n    accuracy                           0.66        29\n   macro avg       0.66      0.61      0.60        29\nweighted avg       0.66      0.66      0.62        29\n\n"
     ]
    }
   ],
   "source": [
    "#Classification report for bag of words \n",
    "svm_bow_report=classification_report(test_sentiments,svm_bow_predict,target_names=['Positive','Negative'])\n",
    "print(svm_bow_report)\n",
    "#Classification report for tfidf features\n",
    "svm_tfidf_report=classification_report(test_sentiments,svm_tfidf_predict,target_names=['Positive','Negative'])\n",
    "print(svm_tfidf_report)"
   ]
  },
  {
   "source": [
    "Plot the confusion matrix"
   ],
   "cell_type": "markdown",
   "metadata": {}
  },
  {
   "cell_type": "code",
   "execution_count": 375,
   "metadata": {},
   "outputs": [
    {
     "output_type": "stream",
     "name": "stdout",
     "text": [
      "[[14  3]\n [ 8  4]]\n[[15  2]\n [ 8  4]]\n"
     ]
    }
   ],
   "source": [
    "#confusion matrix for bag of words\n",
    "cm_bow=confusion_matrix(test_sentiments,svm_bow_predict,labels=[1,0])\n",
    "print(cm_bow)\n",
    "#confusion matrix for tfidf features\n",
    "cm_tfidf=confusion_matrix(test_sentiments,svm_tfidf_predict,labels=[1,0])\n",
    "print(cm_tfidf)\n"
   ]
  },
  {
   "source": [
    "Multinomial Naive Bayes for bag of words and tfidf features"
   ],
   "cell_type": "markdown",
   "metadata": {}
  },
  {
   "cell_type": "code",
   "execution_count": 376,
   "metadata": {},
   "outputs": [
    {
     "output_type": "stream",
     "name": "stdout",
     "text": [
      "MultinomialNB()\nMultinomialNB()\n"
     ]
    }
   ],
   "source": [
    "#training the model\n",
    "mnb=MultinomialNB()\n",
    "#fitting the svm for bag of words\n",
    "mnb_bow=mnb.fit(cv_train_reviews,train_sentiments.ravel())\n",
    "print(mnb_bow)\n",
    "#fitting the svm for tfidf features\n",
    "mnb_tfidf=mnb.fit(tv_train_reviews,train_sentiments.ravel())\n",
    "print(mnb_tfidf)"
   ]
  },
  {
   "source": [
    "Model performance on test data"
   ],
   "cell_type": "markdown",
   "metadata": {}
  },
  {
   "cell_type": "code",
   "execution_count": 206,
   "metadata": {},
   "outputs": [
    {
     "output_type": "stream",
     "name": "stdout",
     "text": [
      "[1 1 1 1 1 1 1 1 1 1 1 1 1 1 1 1 1 1 1 1 1 1 1 1 1 0 1 1 0]\n[1 1 1 1 1 1 1 1 1 1 1 1 1 1 1 1 1 1 1 1 1 1 1 1 1 1 1 1 0]\n"
     ]
    }
   ],
   "source": [
    "#Predicting the model for bag of words\n",
    "mnb_bow_predict=mnb.predict(cv_test_reviews)\n",
    "print(mnb_bow_predict)\n",
    "#Predicting the model for tfidf features\n",
    "mnb_tfidf_predict=mnb.predict(tv_test_reviews)\n",
    "print(mnb_tfidf_predict)"
   ]
  },
  {
   "cell_type": "code",
   "execution_count": 377,
   "metadata": {},
   "outputs": [],
   "source": [
    "sentiment_Analysis_NaiveB = pd.DataFrame()\n",
    "sentiment_Analysis_NaiveB[\"Feedback\"] =senti_nb.Feedback[116:]\n",
    "sentiment_Analysis_NaiveB[\"Sentiments_NaiveB\"] = output(mnb_bow_predict)\n",
    "sentiment_Analysis_NaiveB[\"Sentiments_NaiveB\"] = output(mnb_tfidf_predict)"
   ]
  },
  {
   "cell_type": "code",
   "execution_count": 378,
   "metadata": {},
   "outputs": [],
   "source": [
    "sentiment_Analysis_NaiveB.to_csv('sentiment_Analysis_NaiveB.csv')"
   ]
  },
  {
   "source": [
    "Accuracy of the model"
   ],
   "cell_type": "markdown",
   "metadata": {}
  },
  {
   "cell_type": "code",
   "execution_count": 379,
   "metadata": {},
   "outputs": [
    {
     "output_type": "stream",
     "name": "stdout",
     "text": [
      "mnb_bow_score : 0.5172413793103449\nmnb_tfidf_score : 0.5517241379310345\n"
     ]
    }
   ],
   "source": [
    "#Accuracy score for bag of words\n",
    "mnb_bow_score=accuracy_score(test_sentiments,mnb_bow_predict)\n",
    "print(\"mnb_bow_score :\",mnb_bow_score)\n",
    "#Accuracy score for tfidf features\n",
    "mnb_tfidf_score=accuracy_score(test_sentiments,mnb_tfidf_predict)\n",
    "print(\"mnb_tfidf_score :\",mnb_tfidf_score)"
   ]
  },
  {
   "source": [
    "Print the classification report"
   ],
   "cell_type": "markdown",
   "metadata": {}
  },
  {
   "cell_type": "code",
   "execution_count": 380,
   "metadata": {},
   "outputs": [
    {
     "output_type": "stream",
     "name": "stdout",
     "text": [
      "              precision    recall  f1-score   support\n\n    Positive       0.00      0.00      0.00        12\n    Negative       0.56      0.88      0.68        17\n\n    accuracy                           0.52        29\n   macro avg       0.28      0.44      0.34        29\nweighted avg       0.33      0.52      0.40        29\n\n              precision    recall  f1-score   support\n\n    Positive       0.00      0.00      0.00        12\n    Negative       0.57      0.94      0.71        17\n\n    accuracy                           0.55        29\n   macro avg       0.29      0.47      0.36        29\nweighted avg       0.33      0.55      0.42        29\n\n"
     ]
    }
   ],
   "source": [
    "#Classification report for bag of words \n",
    "mnb_bow_report=classification_report(test_sentiments,mnb_bow_predict,target_names=['Positive','Negative'])\n",
    "print(mnb_bow_report)\n",
    "#Classification report for tfidf features\n",
    "mnb_tfidf_report=classification_report(test_sentiments,mnb_tfidf_predict,target_names=['Positive','Negative'])\n",
    "print(mnb_tfidf_report)"
   ]
  },
  {
   "source": [
    "Plot the confusion matrix"
   ],
   "cell_type": "markdown",
   "metadata": {}
  },
  {
   "cell_type": "code",
   "execution_count": 381,
   "metadata": {},
   "outputs": [
    {
     "output_type": "stream",
     "name": "stdout",
     "text": [
      "[[15  2]\n [12  0]]\n[[16  1]\n [12  0]]\n"
     ]
    }
   ],
   "source": [
    "#confusion matrix for bag of words\n",
    "cm_bow=confusion_matrix(test_sentiments,mnb_bow_predict,labels=[1,0])\n",
    "print(cm_bow)\n",
    "#confusion matrix for tfidf features\n",
    "cm_tfidf=confusion_matrix(test_sentiments,mnb_tfidf_predict,labels=[1,0])\n",
    "print(cm_tfidf)"
   ]
  },
  {
   "source": [
    "Word cloud for positive review words"
   ],
   "cell_type": "markdown",
   "metadata": {}
  },
  {
   "cell_type": "code",
   "execution_count": 382,
   "metadata": {},
   "outputs": [
    {
     "output_type": "execute_result",
     "data": {
      "text/plain": [
       "<function matplotlib.pyplot.show(close=None, block=None)>"
      ]
     },
     "metadata": {},
     "execution_count": 382
    },
    {
     "output_type": "display_data",
     "data": {
      "text/plain": "<Figure size 720x720 with 1 Axes>",
      "image/svg+xml": "<?xml version=\"1.0\" encoding=\"utf-8\" standalone=\"no\"?>\r\n<!DOCTYPE svg PUBLIC \"-//W3C//DTD SVG 1.1//EN\"\r\n  \"http://www.w3.org/Graphics/SVG/1.1/DTD/svg11.dtd\">\r\n<!-- Created with matplotlib (https://matplotlib.org/) -->\r\n<svg height=\"313.598344pt\" version=\"1.1\" viewBox=\"0 0 598.4875 313.598344\" width=\"598.4875pt\" xmlns=\"http://www.w3.org/2000/svg\" xmlns:xlink=\"http://www.w3.org/1999/xlink\">\r\n <metadata>\r\n  <rdf:RDF xmlns:cc=\"http://creativecommons.org/ns#\" xmlns:dc=\"http://purl.org/dc/elements/1.1/\" xmlns:rdf=\"http://www.w3.org/1999/02/22-rdf-syntax-ns#\">\r\n   <cc:Work>\r\n    <dc:type rdf:resource=\"http://purl.org/dc/dcmitype/StillImage\"/>\r\n    <dc:date>2021-07-07T16:42:31.641001</dc:date>\r\n    <dc:format>image/svg+xml</dc:format>\r\n    <dc:creator>\r\n     <cc:Agent>\r\n      <dc:title>Matplotlib v3.3.4, https://matplotlib.org/</dc:title>\r\n     </cc:Agent>\r\n    </dc:creator>\r\n   </cc:Work>\r\n  </rdf:RDF>\r\n </metadata>\r\n <defs>\r\n  <style type=\"text/css\">*{stroke-linecap:butt;stroke-linejoin:round;}</style>\r\n </defs>\r\n <g id=\"figure_1\">\r\n  <g id=\"patch_1\">\r\n   <path d=\"M 0 313.598344 \r\nL 598.4875 313.598344 \r\nL 598.4875 0 \r\nL 0 0 \r\nz\r\n\" style=\"fill:none;\"/>\r\n  </g>\r\n  <g id=\"axes_1\">\r\n   <g id=\"patch_2\">\r\n    <path d=\"M 33.2875 289.720219 \r\nL 591.2875 289.720219 \r\nL 591.2875 10.720219 \r\nL 33.2875 10.720219 \r\nz\r\n\" style=\"fill:#ffffff;\"/>\r\n   </g>\r\n   <g clip-path=\"url(#pebb7f73439)\">\r\n    <image height=\"279\" id=\"image99ff415c7e\" transform=\"scale(1 -1)translate(0 -279)\" width=\"558\" x=\"33.2875\" xlink:href=\"data:image/png;base64,\r\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\" y=\"-10.720219\"/>\r\n   </g>\r\n   <g id=\"matplotlib.axis_1\">\r\n    <g id=\"xtick_1\">\r\n     <g id=\"line2d_1\">\r\n      <defs>\r\n       <path d=\"M 0 0 \r\nL 0 3.5 \r\n\" id=\"maef2e86311\" style=\"stroke:#000000;stroke-width:0.8;\"/>\r\n      </defs>\r\n      <g>\r\n       <use style=\"stroke:#000000;stroke-width:0.8;\" x=\"33.5665\" xlink:href=\"#maef2e86311\" y=\"289.720219\"/>\r\n      </g>\r\n     </g>\r\n     <g id=\"text_1\">\r\n      <!-- 0 -->\r\n      <g transform=\"translate(30.38525 304.318656)scale(0.1 -0.1)\">\r\n       <defs>\r\n        <path d=\"M 31.78125 66.40625 \r\nQ 24.171875 66.40625 20.328125 58.90625 \r\nQ 16.5 51.421875 16.5 36.375 \r\nQ 16.5 21.390625 20.328125 13.890625 \r\nQ 24.171875 6.390625 31.78125 6.390625 \r\nQ 39.453125 6.390625 43.28125 13.890625 \r\nQ 47.125 21.390625 47.125 36.375 \r\nQ 47.125 51.421875 43.28125 58.90625 \r\nQ 39.453125 66.40625 31.78125 66.40625 \r\nz\r\nM 31.78125 74.21875 \r\nQ 44.046875 74.21875 50.515625 64.515625 \r\nQ 56.984375 54.828125 56.984375 36.375 \r\nQ 56.984375 17.96875 50.515625 8.265625 \r\nQ 44.046875 -1.421875 31.78125 -1.421875 \r\nQ 19.53125 -1.421875 13.0625 8.265625 \r\nQ 6.59375 17.96875 6.59375 36.375 \r\nQ 6.59375 54.828125 13.0625 64.515625 \r\nQ 19.53125 74.21875 31.78125 74.21875 \r\nz\r\n\" id=\"DejaVuSans-48\"/>\r\n       </defs>\r\n       <use xlink:href=\"#DejaVuSans-48\"/>\r\n      </g>\r\n     </g>\r\n    </g>\r\n    <g id=\"xtick_2\">\r\n     <g id=\"line2d_2\">\r\n      <g>\r\n       <use style=\"stroke:#000000;stroke-width:0.8;\" x=\"145.1665\" xlink:href=\"#maef2e86311\" y=\"289.720219\"/>\r\n      </g>\r\n     </g>\r\n     <g id=\"text_2\">\r\n      <!-- 200 -->\r\n      <g transform=\"translate(135.62275 304.318656)scale(0.1 -0.1)\">\r\n       <defs>\r\n        <path d=\"M 19.1875 8.296875 \r\nL 53.609375 8.296875 \r\nL 53.609375 0 \r\nL 7.328125 0 \r\nL 7.328125 8.296875 \r\nQ 12.9375 14.109375 22.625 23.890625 \r\nQ 32.328125 33.6875 34.8125 36.53125 \r\nQ 39.546875 41.84375 41.421875 45.53125 \r\nQ 43.3125 49.21875 43.3125 52.78125 \r\nQ 43.3125 58.59375 39.234375 62.25 \r\nQ 35.15625 65.921875 28.609375 65.921875 \r\nQ 23.96875 65.921875 18.8125 64.3125 \r\nQ 13.671875 62.703125 7.8125 59.421875 \r\nL 7.8125 69.390625 \r\nQ 13.765625 71.78125 18.9375 73 \r\nQ 24.125 74.21875 28.421875 74.21875 \r\nQ 39.75 74.21875 46.484375 68.546875 \r\nQ 53.21875 62.890625 53.21875 53.421875 \r\nQ 53.21875 48.921875 51.53125 44.890625 \r\nQ 49.859375 40.875 45.40625 35.40625 \r\nQ 44.1875 33.984375 37.640625 27.21875 \r\nQ 31.109375 20.453125 19.1875 8.296875 \r\nz\r\n\" id=\"DejaVuSans-50\"/>\r\n       </defs>\r\n       <use xlink:href=\"#DejaVuSans-50\"/>\r\n       <use x=\"63.623047\" xlink:href=\"#DejaVuSans-48\"/>\r\n       <use x=\"127.246094\" xlink:href=\"#DejaVuSans-48\"/>\r\n      </g>\r\n     </g>\r\n    </g>\r\n    <g id=\"xtick_3\">\r\n     <g id=\"line2d_3\">\r\n      <g>\r\n       <use style=\"stroke:#000000;stroke-width:0.8;\" x=\"256.7665\" xlink:href=\"#maef2e86311\" y=\"289.720219\"/>\r\n      </g>\r\n     </g>\r\n     <g id=\"text_3\">\r\n      <!-- 400 -->\r\n      <g transform=\"translate(247.22275 304.318656)scale(0.1 -0.1)\">\r\n       <defs>\r\n        <path d=\"M 37.796875 64.3125 \r\nL 12.890625 25.390625 \r\nL 37.796875 25.390625 \r\nz\r\nM 35.203125 72.90625 \r\nL 47.609375 72.90625 \r\nL 47.609375 25.390625 \r\nL 58.015625 25.390625 \r\nL 58.015625 17.1875 \r\nL 47.609375 17.1875 \r\nL 47.609375 0 \r\nL 37.796875 0 \r\nL 37.796875 17.1875 \r\nL 4.890625 17.1875 \r\nL 4.890625 26.703125 \r\nz\r\n\" id=\"DejaVuSans-52\"/>\r\n       </defs>\r\n       <use xlink:href=\"#DejaVuSans-52\"/>\r\n       <use x=\"63.623047\" xlink:href=\"#DejaVuSans-48\"/>\r\n       <use x=\"127.246094\" xlink:href=\"#DejaVuSans-48\"/>\r\n      </g>\r\n     </g>\r\n    </g>\r\n    <g id=\"xtick_4\">\r\n     <g id=\"line2d_4\">\r\n      <g>\r\n       <use style=\"stroke:#000000;stroke-width:0.8;\" x=\"368.3665\" xlink:href=\"#maef2e86311\" y=\"289.720219\"/>\r\n      </g>\r\n     </g>\r\n     <g id=\"text_4\">\r\n      <!-- 600 -->\r\n      <g transform=\"translate(358.82275 304.318656)scale(0.1 -0.1)\">\r\n       <defs>\r\n        <path d=\"M 33.015625 40.375 \r\nQ 26.375 40.375 22.484375 35.828125 \r\nQ 18.609375 31.296875 18.609375 23.390625 \r\nQ 18.609375 15.53125 22.484375 10.953125 \r\nQ 26.375 6.390625 33.015625 6.390625 \r\nQ 39.65625 6.390625 43.53125 10.953125 \r\nQ 47.40625 15.53125 47.40625 23.390625 \r\nQ 47.40625 31.296875 43.53125 35.828125 \r\nQ 39.65625 40.375 33.015625 40.375 \r\nz\r\nM 52.59375 71.296875 \r\nL 52.59375 62.3125 \r\nQ 48.875 64.0625 45.09375 64.984375 \r\nQ 41.3125 65.921875 37.59375 65.921875 \r\nQ 27.828125 65.921875 22.671875 59.328125 \r\nQ 17.53125 52.734375 16.796875 39.40625 \r\nQ 19.671875 43.65625 24.015625 45.921875 \r\nQ 28.375 48.1875 33.59375 48.1875 \r\nQ 44.578125 48.1875 50.953125 41.515625 \r\nQ 57.328125 34.859375 57.328125 23.390625 \r\nQ 57.328125 12.15625 50.6875 5.359375 \r\nQ 44.046875 -1.421875 33.015625 -1.421875 \r\nQ 20.359375 -1.421875 13.671875 8.265625 \r\nQ 6.984375 17.96875 6.984375 36.375 \r\nQ 6.984375 53.65625 15.1875 63.9375 \r\nQ 23.390625 74.21875 37.203125 74.21875 \r\nQ 40.921875 74.21875 44.703125 73.484375 \r\nQ 48.484375 72.75 52.59375 71.296875 \r\nz\r\n\" id=\"DejaVuSans-54\"/>\r\n       </defs>\r\n       <use xlink:href=\"#DejaVuSans-54\"/>\r\n       <use x=\"63.623047\" xlink:href=\"#DejaVuSans-48\"/>\r\n       <use x=\"127.246094\" xlink:href=\"#DejaVuSans-48\"/>\r\n      </g>\r\n     </g>\r\n    </g>\r\n    <g id=\"xtick_5\">\r\n     <g id=\"line2d_5\">\r\n      <g>\r\n       <use style=\"stroke:#000000;stroke-width:0.8;\" x=\"479.9665\" xlink:href=\"#maef2e86311\" y=\"289.720219\"/>\r\n      </g>\r\n     </g>\r\n     <g id=\"text_5\">\r\n      <!-- 800 -->\r\n      <g transform=\"translate(470.42275 304.318656)scale(0.1 -0.1)\">\r\n       <defs>\r\n        <path d=\"M 31.78125 34.625 \r\nQ 24.75 34.625 20.71875 30.859375 \r\nQ 16.703125 27.09375 16.703125 20.515625 \r\nQ 16.703125 13.921875 20.71875 10.15625 \r\nQ 24.75 6.390625 31.78125 6.390625 \r\nQ 38.8125 6.390625 42.859375 10.171875 \r\nQ 46.921875 13.96875 46.921875 20.515625 \r\nQ 46.921875 27.09375 42.890625 30.859375 \r\nQ 38.875 34.625 31.78125 34.625 \r\nz\r\nM 21.921875 38.8125 \r\nQ 15.578125 40.375 12.03125 44.71875 \r\nQ 8.5 49.078125 8.5 55.328125 \r\nQ 8.5 64.0625 14.71875 69.140625 \r\nQ 20.953125 74.21875 31.78125 74.21875 \r\nQ 42.671875 74.21875 48.875 69.140625 \r\nQ 55.078125 64.0625 55.078125 55.328125 \r\nQ 55.078125 49.078125 51.53125 44.71875 \r\nQ 48 40.375 41.703125 38.8125 \r\nQ 48.828125 37.15625 52.796875 32.3125 \r\nQ 56.78125 27.484375 56.78125 20.515625 \r\nQ 56.78125 9.90625 50.3125 4.234375 \r\nQ 43.84375 -1.421875 31.78125 -1.421875 \r\nQ 19.734375 -1.421875 13.25 4.234375 \r\nQ 6.78125 9.90625 6.78125 20.515625 \r\nQ 6.78125 27.484375 10.78125 32.3125 \r\nQ 14.796875 37.15625 21.921875 38.8125 \r\nz\r\nM 18.3125 54.390625 \r\nQ 18.3125 48.734375 21.84375 45.5625 \r\nQ 25.390625 42.390625 31.78125 42.390625 \r\nQ 38.140625 42.390625 41.71875 45.5625 \r\nQ 45.3125 48.734375 45.3125 54.390625 \r\nQ 45.3125 60.0625 41.71875 63.234375 \r\nQ 38.140625 66.40625 31.78125 66.40625 \r\nQ 25.390625 66.40625 21.84375 63.234375 \r\nQ 18.3125 60.0625 18.3125 54.390625 \r\nz\r\n\" id=\"DejaVuSans-56\"/>\r\n       </defs>\r\n       <use xlink:href=\"#DejaVuSans-56\"/>\r\n       <use x=\"63.623047\" xlink:href=\"#DejaVuSans-48\"/>\r\n       <use x=\"127.246094\" xlink:href=\"#DejaVuSans-48\"/>\r\n      </g>\r\n     </g>\r\n    </g>\r\n   </g>\r\n   <g id=\"matplotlib.axis_2\">\r\n    <g id=\"ytick_1\">\r\n     <g id=\"line2d_6\">\r\n      <defs>\r\n       <path d=\"M 0 0 \r\nL -3.5 0 \r\n\" id=\"me3ba34b99c\" style=\"stroke:#000000;stroke-width:0.8;\"/>\r\n      </defs>\r\n      <g>\r\n       <use style=\"stroke:#000000;stroke-width:0.8;\" x=\"33.2875\" xlink:href=\"#me3ba34b99c\" y=\"10.999219\"/>\r\n      </g>\r\n     </g>\r\n     <g id=\"text_6\">\r\n      <!-- 0 -->\r\n      <g transform=\"translate(19.925 14.798437)scale(0.1 -0.1)\">\r\n       <use xlink:href=\"#DejaVuSans-48\"/>\r\n      </g>\r\n     </g>\r\n    </g>\r\n    <g id=\"ytick_2\">\r\n     <g id=\"line2d_7\">\r\n      <g>\r\n       <use style=\"stroke:#000000;stroke-width:0.8;\" x=\"33.2875\" xlink:href=\"#me3ba34b99c\" y=\"66.799219\"/>\r\n      </g>\r\n     </g>\r\n     <g id=\"text_7\">\r\n      <!-- 100 -->\r\n      <g transform=\"translate(7.2 70.598437)scale(0.1 -0.1)\">\r\n       <defs>\r\n        <path d=\"M 12.40625 8.296875 \r\nL 28.515625 8.296875 \r\nL 28.515625 63.921875 \r\nL 10.984375 60.40625 \r\nL 10.984375 69.390625 \r\nL 28.421875 72.90625 \r\nL 38.28125 72.90625 \r\nL 38.28125 8.296875 \r\nL 54.390625 8.296875 \r\nL 54.390625 0 \r\nL 12.40625 0 \r\nz\r\n\" id=\"DejaVuSans-49\"/>\r\n       </defs>\r\n       <use xlink:href=\"#DejaVuSans-49\"/>\r\n       <use x=\"63.623047\" xlink:href=\"#DejaVuSans-48\"/>\r\n       <use x=\"127.246094\" xlink:href=\"#DejaVuSans-48\"/>\r\n      </g>\r\n     </g>\r\n    </g>\r\n    <g id=\"ytick_3\">\r\n     <g id=\"line2d_8\">\r\n      <g>\r\n       <use style=\"stroke:#000000;stroke-width:0.8;\" x=\"33.2875\" xlink:href=\"#me3ba34b99c\" y=\"122.599219\"/>\r\n      </g>\r\n     </g>\r\n     <g id=\"text_8\">\r\n      <!-- 200 -->\r\n      <g transform=\"translate(7.2 126.398437)scale(0.1 -0.1)\">\r\n       <use xlink:href=\"#DejaVuSans-50\"/>\r\n       <use x=\"63.623047\" xlink:href=\"#DejaVuSans-48\"/>\r\n       <use x=\"127.246094\" xlink:href=\"#DejaVuSans-48\"/>\r\n      </g>\r\n     </g>\r\n    </g>\r\n    <g id=\"ytick_4\">\r\n     <g id=\"line2d_9\">\r\n      <g>\r\n       <use style=\"stroke:#000000;stroke-width:0.8;\" x=\"33.2875\" xlink:href=\"#me3ba34b99c\" y=\"178.399219\"/>\r\n      </g>\r\n     </g>\r\n     <g id=\"text_9\">\r\n      <!-- 300 -->\r\n      <g transform=\"translate(7.2 182.198437)scale(0.1 -0.1)\">\r\n       <defs>\r\n        <path d=\"M 40.578125 39.3125 \r\nQ 47.65625 37.796875 51.625 33 \r\nQ 55.609375 28.21875 55.609375 21.1875 \r\nQ 55.609375 10.40625 48.1875 4.484375 \r\nQ 40.765625 -1.421875 27.09375 -1.421875 \r\nQ 22.515625 -1.421875 17.65625 -0.515625 \r\nQ 12.796875 0.390625 7.625 2.203125 \r\nL 7.625 11.71875 \r\nQ 11.71875 9.328125 16.59375 8.109375 \r\nQ 21.484375 6.890625 26.8125 6.890625 \r\nQ 36.078125 6.890625 40.9375 10.546875 \r\nQ 45.796875 14.203125 45.796875 21.1875 \r\nQ 45.796875 27.640625 41.28125 31.265625 \r\nQ 36.765625 34.90625 28.71875 34.90625 \r\nL 20.21875 34.90625 \r\nL 20.21875 43.015625 \r\nL 29.109375 43.015625 \r\nQ 36.375 43.015625 40.234375 45.921875 \r\nQ 44.09375 48.828125 44.09375 54.296875 \r\nQ 44.09375 59.90625 40.109375 62.90625 \r\nQ 36.140625 65.921875 28.71875 65.921875 \r\nQ 24.65625 65.921875 20.015625 65.03125 \r\nQ 15.375 64.15625 9.8125 62.3125 \r\nL 9.8125 71.09375 \r\nQ 15.4375 72.65625 20.34375 73.4375 \r\nQ 25.25 74.21875 29.59375 74.21875 \r\nQ 40.828125 74.21875 47.359375 69.109375 \r\nQ 53.90625 64.015625 53.90625 55.328125 \r\nQ 53.90625 49.265625 50.4375 45.09375 \r\nQ 46.96875 40.921875 40.578125 39.3125 \r\nz\r\n\" id=\"DejaVuSans-51\"/>\r\n       </defs>\r\n       <use xlink:href=\"#DejaVuSans-51\"/>\r\n       <use x=\"63.623047\" xlink:href=\"#DejaVuSans-48\"/>\r\n       <use x=\"127.246094\" xlink:href=\"#DejaVuSans-48\"/>\r\n      </g>\r\n     </g>\r\n    </g>\r\n    <g id=\"ytick_5\">\r\n     <g id=\"line2d_10\">\r\n      <g>\r\n       <use style=\"stroke:#000000;stroke-width:0.8;\" x=\"33.2875\" xlink:href=\"#me3ba34b99c\" y=\"234.199219\"/>\r\n      </g>\r\n     </g>\r\n     <g id=\"text_10\">\r\n      <!-- 400 -->\r\n      <g transform=\"translate(7.2 237.998437)scale(0.1 -0.1)\">\r\n       <use xlink:href=\"#DejaVuSans-52\"/>\r\n       <use x=\"63.623047\" xlink:href=\"#DejaVuSans-48\"/>\r\n       <use x=\"127.246094\" xlink:href=\"#DejaVuSans-48\"/>\r\n      </g>\r\n     </g>\r\n    </g>\r\n   </g>\r\n   <g id=\"patch_3\">\r\n    <path d=\"M 33.2875 289.720219 \r\nL 33.2875 10.720219 \r\n\" style=\"fill:none;stroke:#000000;stroke-linecap:square;stroke-linejoin:miter;stroke-width:0.8;\"/>\r\n   </g>\r\n   <g id=\"patch_4\">\r\n    <path d=\"M 591.2875 289.720219 \r\nL 591.2875 10.720219 \r\n\" style=\"fill:none;stroke:#000000;stroke-linecap:square;stroke-linejoin:miter;stroke-width:0.8;\"/>\r\n   </g>\r\n   <g id=\"patch_5\">\r\n    <path d=\"M 33.2875 289.720219 \r\nL 591.2875 289.720219 \r\n\" style=\"fill:none;stroke:#000000;stroke-linecap:square;stroke-linejoin:miter;stroke-width:0.8;\"/>\r\n   </g>\r\n   <g id=\"patch_6\">\r\n    <path d=\"M 33.2875 10.720219 \r\nL 591.2875 10.720219 \r\n\" style=\"fill:none;stroke:#000000;stroke-linecap:square;stroke-linejoin:miter;stroke-width:0.8;\"/>\r\n   </g>\r\n  </g>\r\n </g>\r\n <defs>\r\n  <clipPath id=\"pebb7f73439\">\r\n   <rect height=\"279\" width=\"558\" x=\"33.2875\" y=\"10.720219\"/>\r\n  </clipPath>\r\n </defs>\r\n</svg>\r\n",
      "image/png": "[encoded data removed]"
     },
     "metadata": {
      "needs_background": "light"
     }
    }
   ],
   "source": [
    "#word cloud for positive review words\n",
    "plt.figure(figsize=(10,10))\n",
    "positive_text=norm_train_reviews[0]\n",
    "WC=WordCloud(width=1000,height=500,max_words=500,min_font_size=5)\n",
    "positive_words=WC.generate(positive_text)\n",
    "plt.imshow(positive_words,interpolation='bilinear')\n",
    "plt.show"
   ]
  },
  {
   "source": [
    "Word cloud for negative review words"
   ],
   "cell_type": "markdown",
   "metadata": {}
  },
  {
   "cell_type": "code",
   "execution_count": 216,
   "metadata": {},
   "outputs": [
    {
     "output_type": "execute_result",
     "data": {
      "text/plain": [
       "<function matplotlib.pyplot.show(close=None, block=None)>"
      ]
     },
     "metadata": {},
     "execution_count": 216
    },
    {
     "output_type": "display_data",
     "data": {
      "text/plain": "<Figure size 720x720 with 1 Axes>",
      "image/svg+xml": "<?xml version=\"1.0\" encoding=\"utf-8\" standalone=\"no\"?>\r\n<!DOCTYPE svg PUBLIC \"-//W3C//DTD SVG 1.1//EN\"\r\n  \"http://www.w3.org/Graphics/SVG/1.1/DTD/svg11.dtd\">\r\n<!-- Created with matplotlib (https://matplotlib.org/) -->\r\n<svg height=\"313.598344pt\" version=\"1.1\" viewBox=\"0 0 598.4875 313.598344\" width=\"598.4875pt\" xmlns=\"http://www.w3.org/2000/svg\" xmlns:xlink=\"http://www.w3.org/1999/xlink\">\r\n <metadata>\r\n  <rdf:RDF xmlns:cc=\"http://creativecommons.org/ns#\" xmlns:dc=\"http://purl.org/dc/elements/1.1/\" xmlns:rdf=\"http://www.w3.org/1999/02/22-rdf-syntax-ns#\">\r\n   <cc:Work>\r\n    <dc:type rdf:resource=\"http://purl.org/dc/dcmitype/StillImage\"/>\r\n    <dc:date>2021-07-07T14:01:51.707056</dc:date>\r\n    <dc:format>image/svg+xml</dc:format>\r\n    <dc:creator>\r\n     <cc:Agent>\r\n      <dc:title>Matplotlib v3.3.4, https://matplotlib.org/</dc:title>\r\n     </cc:Agent>\r\n    </dc:creator>\r\n   </cc:Work>\r\n  </rdf:RDF>\r\n </metadata>\r\n <defs>\r\n  <style type=\"text/css\">*{stroke-linecap:butt;stroke-linejoin:round;}</style>\r\n </defs>\r\n <g id=\"figure_1\">\r\n  <g id=\"patch_1\">\r\n   <path d=\"M 0 313.598344 \r\nL 598.4875 313.598344 \r\nL 598.4875 0 \r\nL 0 0 \r\nz\r\n\" style=\"fill:none;\"/>\r\n  </g>\r\n  <g id=\"axes_1\">\r\n   <g id=\"patch_2\">\r\n    <path d=\"M 33.2875 289.720219 \r\nL 591.2875 289.720219 \r\nL 591.2875 10.720219 \r\nL 33.2875 10.720219 \r\nz\r\n\" style=\"fill:#ffffff;\"/>\r\n   </g>\r\n   <g clip-path=\"url(#pb57178ebe2)\">\r\n    <image height=\"279\" id=\"image0982cbb38c\" transform=\"scale(1 -1)translate(0 -279)\" width=\"558\" x=\"33.2875\" xlink:href=\"data:image/png;base64,\r\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\" y=\"-10.720219\"/>\r\n   </g>\r\n   <g id=\"matplotlib.axis_1\">\r\n    <g id=\"xtick_1\">\r\n     <g id=\"line2d_1\">\r\n      <defs>\r\n       <path d=\"M 0 0 \r\nL 0 3.5 \r\n\" id=\"me2ac0fff0b\" style=\"stroke:#000000;stroke-width:0.8;\"/>\r\n      </defs>\r\n      <g>\r\n       <use style=\"stroke:#000000;stroke-width:0.8;\" x=\"33.5665\" xlink:href=\"#me2ac0fff0b\" y=\"289.720219\"/>\r\n      </g>\r\n     </g>\r\n     <g id=\"text_1\">\r\n      <!-- 0 -->\r\n      <g transform=\"translate(30.38525 304.318656)scale(0.1 -0.1)\">\r\n       <defs>\r\n        <path d=\"M 31.78125 66.40625 \r\nQ 24.171875 66.40625 20.328125 58.90625 \r\nQ 16.5 51.421875 16.5 36.375 \r\nQ 16.5 21.390625 20.328125 13.890625 \r\nQ 24.171875 6.390625 31.78125 6.390625 \r\nQ 39.453125 6.390625 43.28125 13.890625 \r\nQ 47.125 21.390625 47.125 36.375 \r\nQ 47.125 51.421875 43.28125 58.90625 \r\nQ 39.453125 66.40625 31.78125 66.40625 \r\nz\r\nM 31.78125 74.21875 \r\nQ 44.046875 74.21875 50.515625 64.515625 \r\nQ 56.984375 54.828125 56.984375 36.375 \r\nQ 56.984375 17.96875 50.515625 8.265625 \r\nQ 44.046875 -1.421875 31.78125 -1.421875 \r\nQ 19.53125 -1.421875 13.0625 8.265625 \r\nQ 6.59375 17.96875 6.59375 36.375 \r\nQ 6.59375 54.828125 13.0625 64.515625 \r\nQ 19.53125 74.21875 31.78125 74.21875 \r\nz\r\n\" id=\"DejaVuSans-48\"/>\r\n       </defs>\r\n       <use xlink:href=\"#DejaVuSans-48\"/>\r\n      </g>\r\n     </g>\r\n    </g>\r\n    <g id=\"xtick_2\">\r\n     <g id=\"line2d_2\">\r\n      <g>\r\n       <use style=\"stroke:#000000;stroke-width:0.8;\" x=\"145.1665\" xlink:href=\"#me2ac0fff0b\" y=\"289.720219\"/>\r\n      </g>\r\n     </g>\r\n     <g id=\"text_2\">\r\n      <!-- 200 -->\r\n      <g transform=\"translate(135.62275 304.318656)scale(0.1 -0.1)\">\r\n       <defs>\r\n        <path d=\"M 19.1875 8.296875 \r\nL 53.609375 8.296875 \r\nL 53.609375 0 \r\nL 7.328125 0 \r\nL 7.328125 8.296875 \r\nQ 12.9375 14.109375 22.625 23.890625 \r\nQ 32.328125 33.6875 34.8125 36.53125 \r\nQ 39.546875 41.84375 41.421875 45.53125 \r\nQ 43.3125 49.21875 43.3125 52.78125 \r\nQ 43.3125 58.59375 39.234375 62.25 \r\nQ 35.15625 65.921875 28.609375 65.921875 \r\nQ 23.96875 65.921875 18.8125 64.3125 \r\nQ 13.671875 62.703125 7.8125 59.421875 \r\nL 7.8125 69.390625 \r\nQ 13.765625 71.78125 18.9375 73 \r\nQ 24.125 74.21875 28.421875 74.21875 \r\nQ 39.75 74.21875 46.484375 68.546875 \r\nQ 53.21875 62.890625 53.21875 53.421875 \r\nQ 53.21875 48.921875 51.53125 44.890625 \r\nQ 49.859375 40.875 45.40625 35.40625 \r\nQ 44.1875 33.984375 37.640625 27.21875 \r\nQ 31.109375 20.453125 19.1875 8.296875 \r\nz\r\n\" id=\"DejaVuSans-50\"/>\r\n       </defs>\r\n       <use xlink:href=\"#DejaVuSans-50\"/>\r\n       <use x=\"63.623047\" xlink:href=\"#DejaVuSans-48\"/>\r\n       <use x=\"127.246094\" xlink:href=\"#DejaVuSans-48\"/>\r\n      </g>\r\n     </g>\r\n    </g>\r\n    <g id=\"xtick_3\">\r\n     <g id=\"line2d_3\">\r\n      <g>\r\n       <use style=\"stroke:#000000;stroke-width:0.8;\" x=\"256.7665\" xlink:href=\"#me2ac0fff0b\" y=\"289.720219\"/>\r\n      </g>\r\n     </g>\r\n     <g id=\"text_3\">\r\n      <!-- 400 -->\r\n      <g transform=\"translate(247.22275 304.318656)scale(0.1 -0.1)\">\r\n       <defs>\r\n        <path d=\"M 37.796875 64.3125 \r\nL 12.890625 25.390625 \r\nL 37.796875 25.390625 \r\nz\r\nM 35.203125 72.90625 \r\nL 47.609375 72.90625 \r\nL 47.609375 25.390625 \r\nL 58.015625 25.390625 \r\nL 58.015625 17.1875 \r\nL 47.609375 17.1875 \r\nL 47.609375 0 \r\nL 37.796875 0 \r\nL 37.796875 17.1875 \r\nL 4.890625 17.1875 \r\nL 4.890625 26.703125 \r\nz\r\n\" id=\"DejaVuSans-52\"/>\r\n       </defs>\r\n       <use xlink:href=\"#DejaVuSans-52\"/>\r\n       <use x=\"63.623047\" xlink:href=\"#DejaVuSans-48\"/>\r\n       <use x=\"127.246094\" xlink:href=\"#DejaVuSans-48\"/>\r\n      </g>\r\n     </g>\r\n    </g>\r\n    <g id=\"xtick_4\">\r\n     <g id=\"line2d_4\">\r\n      <g>\r\n       <use style=\"stroke:#000000;stroke-width:0.8;\" x=\"368.3665\" xlink:href=\"#me2ac0fff0b\" y=\"289.720219\"/>\r\n      </g>\r\n     </g>\r\n     <g id=\"text_4\">\r\n      <!-- 600 -->\r\n      <g transform=\"translate(358.82275 304.318656)scale(0.1 -0.1)\">\r\n       <defs>\r\n        <path d=\"M 33.015625 40.375 \r\nQ 26.375 40.375 22.484375 35.828125 \r\nQ 18.609375 31.296875 18.609375 23.390625 \r\nQ 18.609375 15.53125 22.484375 10.953125 \r\nQ 26.375 6.390625 33.015625 6.390625 \r\nQ 39.65625 6.390625 43.53125 10.953125 \r\nQ 47.40625 15.53125 47.40625 23.390625 \r\nQ 47.40625 31.296875 43.53125 35.828125 \r\nQ 39.65625 40.375 33.015625 40.375 \r\nz\r\nM 52.59375 71.296875 \r\nL 52.59375 62.3125 \r\nQ 48.875 64.0625 45.09375 64.984375 \r\nQ 41.3125 65.921875 37.59375 65.921875 \r\nQ 27.828125 65.921875 22.671875 59.328125 \r\nQ 17.53125 52.734375 16.796875 39.40625 \r\nQ 19.671875 43.65625 24.015625 45.921875 \r\nQ 28.375 48.1875 33.59375 48.1875 \r\nQ 44.578125 48.1875 50.953125 41.515625 \r\nQ 57.328125 34.859375 57.328125 23.390625 \r\nQ 57.328125 12.15625 50.6875 5.359375 \r\nQ 44.046875 -1.421875 33.015625 -1.421875 \r\nQ 20.359375 -1.421875 13.671875 8.265625 \r\nQ 6.984375 17.96875 6.984375 36.375 \r\nQ 6.984375 53.65625 15.1875 63.9375 \r\nQ 23.390625 74.21875 37.203125 74.21875 \r\nQ 40.921875 74.21875 44.703125 73.484375 \r\nQ 48.484375 72.75 52.59375 71.296875 \r\nz\r\n\" id=\"DejaVuSans-54\"/>\r\n       </defs>\r\n       <use xlink:href=\"#DejaVuSans-54\"/>\r\n       <use x=\"63.623047\" xlink:href=\"#DejaVuSans-48\"/>\r\n       <use x=\"127.246094\" xlink:href=\"#DejaVuSans-48\"/>\r\n      </g>\r\n     </g>\r\n    </g>\r\n    <g id=\"xtick_5\">\r\n     <g id=\"line2d_5\">\r\n      <g>\r\n       <use style=\"stroke:#000000;stroke-width:0.8;\" x=\"479.9665\" xlink:href=\"#me2ac0fff0b\" y=\"289.720219\"/>\r\n      </g>\r\n     </g>\r\n     <g id=\"text_5\">\r\n      <!-- 800 -->\r\n      <g transform=\"translate(470.42275 304.318656)scale(0.1 -0.1)\">\r\n       <defs>\r\n        <path d=\"M 31.78125 34.625 \r\nQ 24.75 34.625 20.71875 30.859375 \r\nQ 16.703125 27.09375 16.703125 20.515625 \r\nQ 16.703125 13.921875 20.71875 10.15625 \r\nQ 24.75 6.390625 31.78125 6.390625 \r\nQ 38.8125 6.390625 42.859375 10.171875 \r\nQ 46.921875 13.96875 46.921875 20.515625 \r\nQ 46.921875 27.09375 42.890625 30.859375 \r\nQ 38.875 34.625 31.78125 34.625 \r\nz\r\nM 21.921875 38.8125 \r\nQ 15.578125 40.375 12.03125 44.71875 \r\nQ 8.5 49.078125 8.5 55.328125 \r\nQ 8.5 64.0625 14.71875 69.140625 \r\nQ 20.953125 74.21875 31.78125 74.21875 \r\nQ 42.671875 74.21875 48.875 69.140625 \r\nQ 55.078125 64.0625 55.078125 55.328125 \r\nQ 55.078125 49.078125 51.53125 44.71875 \r\nQ 48 40.375 41.703125 38.8125 \r\nQ 48.828125 37.15625 52.796875 32.3125 \r\nQ 56.78125 27.484375 56.78125 20.515625 \r\nQ 56.78125 9.90625 50.3125 4.234375 \r\nQ 43.84375 -1.421875 31.78125 -1.421875 \r\nQ 19.734375 -1.421875 13.25 4.234375 \r\nQ 6.78125 9.90625 6.78125 20.515625 \r\nQ 6.78125 27.484375 10.78125 32.3125 \r\nQ 14.796875 37.15625 21.921875 38.8125 \r\nz\r\nM 18.3125 54.390625 \r\nQ 18.3125 48.734375 21.84375 45.5625 \r\nQ 25.390625 42.390625 31.78125 42.390625 \r\nQ 38.140625 42.390625 41.71875 45.5625 \r\nQ 45.3125 48.734375 45.3125 54.390625 \r\nQ 45.3125 60.0625 41.71875 63.234375 \r\nQ 38.140625 66.40625 31.78125 66.40625 \r\nQ 25.390625 66.40625 21.84375 63.234375 \r\nQ 18.3125 60.0625 18.3125 54.390625 \r\nz\r\n\" id=\"DejaVuSans-56\"/>\r\n       </defs>\r\n       <use xlink:href=\"#DejaVuSans-56\"/>\r\n       <use x=\"63.623047\" xlink:href=\"#DejaVuSans-48\"/>\r\n       <use x=\"127.246094\" xlink:href=\"#DejaVuSans-48\"/>\r\n      </g>\r\n     </g>\r\n    </g>\r\n   </g>\r\n   <g id=\"matplotlib.axis_2\">\r\n    <g id=\"ytick_1\">\r\n     <g id=\"line2d_6\">\r\n      <defs>\r\n       <path d=\"M 0 0 \r\nL -3.5 0 \r\n\" id=\"m27b45f53fb\" style=\"stroke:#000000;stroke-width:0.8;\"/>\r\n      </defs>\r\n      <g>\r\n       <use style=\"stroke:#000000;stroke-width:0.8;\" x=\"33.2875\" xlink:href=\"#m27b45f53fb\" y=\"10.999219\"/>\r\n      </g>\r\n     </g>\r\n     <g id=\"text_6\">\r\n      <!-- 0 -->\r\n      <g transform=\"translate(19.925 14.798437)scale(0.1 -0.1)\">\r\n       <use xlink:href=\"#DejaVuSans-48\"/>\r\n      </g>\r\n     </g>\r\n    </g>\r\n    <g id=\"ytick_2\">\r\n     <g id=\"line2d_7\">\r\n      <g>\r\n       <use style=\"stroke:#000000;stroke-width:0.8;\" x=\"33.2875\" xlink:href=\"#m27b45f53fb\" y=\"66.799219\"/>\r\n      </g>\r\n     </g>\r\n     <g id=\"text_7\">\r\n      <!-- 100 -->\r\n      <g transform=\"translate(7.2 70.598437)scale(0.1 -0.1)\">\r\n       <defs>\r\n        <path d=\"M 12.40625 8.296875 \r\nL 28.515625 8.296875 \r\nL 28.515625 63.921875 \r\nL 10.984375 60.40625 \r\nL 10.984375 69.390625 \r\nL 28.421875 72.90625 \r\nL 38.28125 72.90625 \r\nL 38.28125 8.296875 \r\nL 54.390625 8.296875 \r\nL 54.390625 0 \r\nL 12.40625 0 \r\nz\r\n\" id=\"DejaVuSans-49\"/>\r\n       </defs>\r\n       <use xlink:href=\"#DejaVuSans-49\"/>\r\n       <use x=\"63.623047\" xlink:href=\"#DejaVuSans-48\"/>\r\n       <use x=\"127.246094\" xlink:href=\"#DejaVuSans-48\"/>\r\n      </g>\r\n     </g>\r\n    </g>\r\n    <g id=\"ytick_3\">\r\n     <g id=\"line2d_8\">\r\n      <g>\r\n       <use style=\"stroke:#000000;stroke-width:0.8;\" x=\"33.2875\" xlink:href=\"#m27b45f53fb\" y=\"122.599219\"/>\r\n      </g>\r\n     </g>\r\n     <g id=\"text_8\">\r\n      <!-- 200 -->\r\n      <g transform=\"translate(7.2 126.398437)scale(0.1 -0.1)\">\r\n       <use xlink:href=\"#DejaVuSans-50\"/>\r\n       <use x=\"63.623047\" xlink:href=\"#DejaVuSans-48\"/>\r\n       <use x=\"127.246094\" xlink:href=\"#DejaVuSans-48\"/>\r\n      </g>\r\n     </g>\r\n    </g>\r\n    <g id=\"ytick_4\">\r\n     <g id=\"line2d_9\">\r\n      <g>\r\n       <use style=\"stroke:#000000;stroke-width:0.8;\" x=\"33.2875\" xlink:href=\"#m27b45f53fb\" y=\"178.399219\"/>\r\n      </g>\r\n     </g>\r\n     <g id=\"text_9\">\r\n      <!-- 300 -->\r\n      <g transform=\"translate(7.2 182.198437)scale(0.1 -0.1)\">\r\n       <defs>\r\n        <path d=\"M 40.578125 39.3125 \r\nQ 47.65625 37.796875 51.625 33 \r\nQ 55.609375 28.21875 55.609375 21.1875 \r\nQ 55.609375 10.40625 48.1875 4.484375 \r\nQ 40.765625 -1.421875 27.09375 -1.421875 \r\nQ 22.515625 -1.421875 17.65625 -0.515625 \r\nQ 12.796875 0.390625 7.625 2.203125 \r\nL 7.625 11.71875 \r\nQ 11.71875 9.328125 16.59375 8.109375 \r\nQ 21.484375 6.890625 26.8125 6.890625 \r\nQ 36.078125 6.890625 40.9375 10.546875 \r\nQ 45.796875 14.203125 45.796875 21.1875 \r\nQ 45.796875 27.640625 41.28125 31.265625 \r\nQ 36.765625 34.90625 28.71875 34.90625 \r\nL 20.21875 34.90625 \r\nL 20.21875 43.015625 \r\nL 29.109375 43.015625 \r\nQ 36.375 43.015625 40.234375 45.921875 \r\nQ 44.09375 48.828125 44.09375 54.296875 \r\nQ 44.09375 59.90625 40.109375 62.90625 \r\nQ 36.140625 65.921875 28.71875 65.921875 \r\nQ 24.65625 65.921875 20.015625 65.03125 \r\nQ 15.375 64.15625 9.8125 62.3125 \r\nL 9.8125 71.09375 \r\nQ 15.4375 72.65625 20.34375 73.4375 \r\nQ 25.25 74.21875 29.59375 74.21875 \r\nQ 40.828125 74.21875 47.359375 69.109375 \r\nQ 53.90625 64.015625 53.90625 55.328125 \r\nQ 53.90625 49.265625 50.4375 45.09375 \r\nQ 46.96875 40.921875 40.578125 39.3125 \r\nz\r\n\" id=\"DejaVuSans-51\"/>\r\n       </defs>\r\n       <use xlink:href=\"#DejaVuSans-51\"/>\r\n       <use x=\"63.623047\" xlink:href=\"#DejaVuSans-48\"/>\r\n       <use x=\"127.246094\" xlink:href=\"#DejaVuSans-48\"/>\r\n      </g>\r\n     </g>\r\n    </g>\r\n    <g id=\"ytick_5\">\r\n     <g id=\"line2d_10\">\r\n      <g>\r\n       <use style=\"stroke:#000000;stroke-width:0.8;\" x=\"33.2875\" xlink:href=\"#m27b45f53fb\" y=\"234.199219\"/>\r\n      </g>\r\n     </g>\r\n     <g id=\"text_10\">\r\n      <!-- 400 -->\r\n      <g transform=\"translate(7.2 237.998437)scale(0.1 -0.1)\">\r\n       <use xlink:href=\"#DejaVuSans-52\"/>\r\n       <use x=\"63.623047\" xlink:href=\"#DejaVuSans-48\"/>\r\n       <use x=\"127.246094\" xlink:href=\"#DejaVuSans-48\"/>\r\n      </g>\r\n     </g>\r\n    </g>\r\n   </g>\r\n   <g id=\"patch_3\">\r\n    <path d=\"M 33.2875 289.720219 \r\nL 33.2875 10.720219 \r\n\" style=\"fill:none;stroke:#000000;stroke-linecap:square;stroke-linejoin:miter;stroke-width:0.8;\"/>\r\n   </g>\r\n   <g id=\"patch_4\">\r\n    <path d=\"M 591.2875 289.720219 \r\nL 591.2875 10.720219 \r\n\" style=\"fill:none;stroke:#000000;stroke-linecap:square;stroke-linejoin:miter;stroke-width:0.8;\"/>\r\n   </g>\r\n   <g id=\"patch_5\">\r\n    <path d=\"M 33.2875 289.720219 \r\nL 591.2875 289.720219 \r\n\" style=\"fill:none;stroke:#000000;stroke-linecap:square;stroke-linejoin:miter;stroke-width:0.8;\"/>\r\n   </g>\r\n   <g id=\"patch_6\">\r\n    <path d=\"M 33.2875 10.720219 \r\nL 591.2875 10.720219 \r\n\" style=\"fill:none;stroke:#000000;stroke-linecap:square;stroke-linejoin:miter;stroke-width:0.8;\"/>\r\n   </g>\r\n  </g>\r\n </g>\r\n <defs>\r\n  <clipPath id=\"pb57178ebe2\">\r\n   <rect height=\"279\" width=\"558\" x=\"33.2875\" y=\"10.720219\"/>\r\n  </clipPath>\r\n </defs>\r\n</svg>\r\n",
      "image/png": "[encoded data removed]"
     },
     "metadata": {
      "needs_background": "light"
     }
    }
   ],
   "source": [
    "#Word cloud for negative review words\n",
    "plt.figure(figsize=(10,10))\n",
    "negative_text=norm_train_reviews[115]\n",
    "WC=WordCloud(width=1000,height=500,max_words=500,min_font_size=5)\n",
    "negative_words=WC.generate(negative_text)\n",
    "plt.imshow(negative_words,interpolation='bilinear')\n",
    "plt.show"
   ]
  }
 ]
}