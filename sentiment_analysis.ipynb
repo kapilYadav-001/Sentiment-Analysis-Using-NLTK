{
 "metadata": {
  "language_info": {
   "codemirror_mode": {
    "name": "ipython",
    "version": 3
   },
   "file_extension": ".py",
   "mimetype": "text/x-python",
   "name": "python",
   "nbconvert_exporter": "python",
   "pygments_lexer": "ipython3",
   "version": "3.8.5"
  },
  "orig_nbformat": 4,
  "kernelspec": {
   "name": "python3",
   "display_name": "Python 3.8.5 64-bit ('base': conda)"
  },
  "interpreter": {
   "hash": "d862afd012e95032983128f7fd4d27e359bc69a4ee6e8634b060610de2918ea9"
  }
 },
 "nbformat": 4,
 "nbformat_minor": 2,
 "cells": [
  {
   "source": [
    "#importing necessary libraries"
   ],
   "cell_type": "markdown",
   "metadata": {}
  },
  {
   "cell_type": "code",
   "execution_count": 155,
   "metadata": {},
   "outputs": [
    {
     "output_type": "stream",
     "name": "stdout",
     "text": [
      "Collecting Textblob\n  Downloading textblob-0.15.3-py2.py3-none-any.whl (636 kB)\nRequirement already satisfied: nltk>=3.1 in c:\\users\\cnctk\\anaconda3\\lib\\site-packages (from Textblob) (3.6.2)\nRequirement already satisfied: click in c:\\users\\cnctk\\anaconda3\\lib\\site-packages (from nltk>=3.1->Textblob) (8.0.1)\nRequirement already satisfied: regex in c:\\users\\cnctk\\anaconda3\\lib\\site-packages (from nltk>=3.1->Textblob) (2021.4.4)\nRequirement already satisfied: tqdm in c:\\users\\cnctk\\anaconda3\\lib\\site-packages (from nltk>=3.1->Textblob) (4.61.1)\nRequirement already satisfied: joblib in c:\\users\\cnctk\\anaconda3\\lib\\site-packages (from nltk>=3.1->Textblob) (1.0.1)\nRequirement already satisfied: colorama in c:\\users\\cnctk\\anaconda3\\lib\\site-packages (from click->nltk>=3.1->Textblob) (0.4.4)\nInstalling collected packages: Textblob\nSuccessfully installed Textblob-0.15.3\nNote: you may need to restart the kernel to use updated packages.\n"
     ]
    }
   ],
   "source": [
    "pip install Textblob"
   ]
  },
  {
   "cell_type": "code",
   "execution_count": 71,
   "metadata": {},
   "outputs": [
    {
     "output_type": "stream",
     "name": "stdout",
     "text": [
      "showing info https://raw.githubusercontent.com/nltk/nltk_data/gh-pages/index.xml\n"
     ]
    },
    {
     "output_type": "execute_result",
     "data": {
      "text/plain": [
       "True"
      ]
     },
     "metadata": {},
     "execution_count": 71
    }
   ],
   "source": [
    "import nltk\n",
    "nltk.download()"
   ]
  },
  {
   "source": [
    "import numpy as np \n",
    "import pandas as pd \n",
    "import matplotlib.pyplot as plt \n",
    "import re"
   ],
   "cell_type": "code",
   "metadata": {},
   "execution_count": 112,
   "outputs": []
  },
  {
   "cell_type": "code",
   "execution_count": 123,
   "metadata": {},
   "outputs": [
    {
     "output_type": "stream",
     "name": "stderr",
     "text": [
      "[nltk_data] Downloading package punkt to\n[nltk_data]     C:\\Users\\cnctk\\AppData\\Roaming\\nltk_data...\n[nltk_data]   Package punkt is already up-to-date!\n[nltk_data] Downloading package stopwords to\n[nltk_data]     C:\\Users\\cnctk\\AppData\\Roaming\\nltk_data...\n[nltk_data]   Package stopwords is already up-to-date!\n[nltk_data] Downloading package wordnet to\n[nltk_data]     C:\\Users\\cnctk\\AppData\\Roaming\\nltk_data...\n[nltk_data]   Package wordnet is already up-to-date!\n"
     ]
    }
   ],
   "source": [
    "nltk.download('punkt')\n",
    "from nltk.tokenize import word_tokenize\n",
    "from nltk import pos_tag\n",
    "nltk.download('stopwords')\n",
    "from nltk.corpus import stopwords\n",
    "nltk.download('wordnet')\n",
    "from nltk.corpus import wordnet"
   ]
  },
  {
   "source": [
    "# File importing in pandas DataFrame and data arrangement"
   ],
   "cell_type": "code",
   "metadata": {},
   "execution_count": 73,
   "outputs": []
  },
  {
   "source": [
    "# data import from excel file\n",
    "data = pd.read_excel(r\"C:\\Users\\cnctk\\OneDrive\\Desktop\\project\\voo 2\\Data.xlsx\",dtype =str )\n",
    "df = pd.DataFrame(data)\n",
    "df.shape"
   ],
   "cell_type": "code",
   "metadata": {},
   "execution_count": 102,
   "outputs": [
    {
     "output_type": "execute_result",
     "data": {
      "text/plain": [
       "(6934, 6)"
      ]
     },
     "metadata": {},
     "execution_count": 102
    }
   ]
  },
  {
   "cell_type": "code",
   "execution_count": 103,
   "metadata": {},
   "outputs": [
    {
     "output_type": "stream",
     "name": "stdout",
     "text": [
      "(6894, 6)\n"
     ]
    }
   ],
   "source": [
    "df.drop_duplicates(keep='first',inplace = True)\n",
    "print(df.shape)\n"
   ]
  },
  {
   "cell_type": "code",
   "execution_count": 104,
   "metadata": {},
   "outputs": [
    {
     "output_type": "stream",
     "name": "stdout",
     "text": [
      "(150, 6)\n"
     ]
    }
   ],
   "source": [
    "cancelled_orders = df.loc[df['Order Status']=='CANCELLED']\n",
    "print(cancelled_orders.shape)"
   ]
  },
  {
   "cell_type": "code",
   "execution_count": 107,
   "metadata": {},
   "outputs": [
    {
     "output_type": "stream",
     "name": "stdout",
     "text": [
      "       Order Id Order Status  \\\n4  107022708087    DELIVERED   \n\n                                           Item Name Item Quantity Rating  \\\n4  Voosh Paneer Premium Thali with Sweet, Butter ...             1    NaN   \n\n  Feedback  \n4      NaN  \n(6744, 6)\n"
     ]
    }
   ],
   "source": [
    "# dropping the cancelled order\n",
    "df.drop(df[df['Order Status'] == 'CANCELLED'].index, inplace = True)\n",
    "print(df.head(1))\n",
    "print(df.shape)"
   ]
  },
  {
   "cell_type": "code",
   "execution_count": 108,
   "metadata": {},
   "outputs": [
    {
     "output_type": "stream",
     "name": "stdout",
     "text": [
      "(231, 6)\n"
     ]
    }
   ],
   "source": [
    "df = df.dropna()\n",
    "print(df.shape)"
   ]
  },
  {
   "cell_type": "code",
   "execution_count": 109,
   "metadata": {},
   "outputs": [
    {
     "output_type": "stream",
     "name": "stdout",
     "text": [
      "          Order Id Order Status                                 Item Name  \\\n18     10701530888    DELIVERED         Homely Dal Tadka Thali with Sweet   \n19     10701530888    DELIVERED      Dal Tadka Rice Bowl with Butter Milk   \n33    106989449753    DELIVERED    Homely Chicken Masala Thali with Sweet   \n49    106762961007    DELIVERED     Homely Bhindi Masala Thali with Sweet   \n50    106762961007    DELIVERED                       Butter Milk(300 ml)   \n...            ...          ...                                       ...   \n6597  107269473678    DELIVERED  2 Aloo Onion Paratha, Curd & Pickle Meal   \n6598  107269473678    DELIVERED                             Bhindi Masala   \n6715  107276758050    DELIVERED            Set of Chapatis (4 - Chapatis)   \n6716  107276758050    DELIVERED                             Bhindi Masala   \n6864  108040595774    DELIVERED                       Veg & Cheese Panini   \n\n     Item Quantity      Rating  \\\n18               1  1 VERY BAD   \n19               1  1 VERY BAD   \n33               1  5 LOVED IT   \n49               1       2 BAD   \n50               1       2 BAD   \n...            ...         ...   \n6597             1   3 AVERAGE   \n6598             1   3 AVERAGE   \n6715             1   3 AVERAGE   \n6716             1   3 AVERAGE   \n6864             1  1 VERY BAD   \n\n                                               Feedback  \n18    I don't think it's delivery guy fault but pack...  \n19    I don't think it's delivery guy fault but pack...  \n33      I liked the quantity of the food and the taste.  \n49    Bhindi was very raw, butter milk had a foul smell  \n50    Bhindi was very raw, butter milk had a foul smell  \n...                                                 ...  \n6597  No sweet delivered, paratha was maida tandoori...  \n6598  No sweet delivered, paratha was maida tandoori...  \n6715  Not given adequate quantity of dish as said it...  \n6716  Not given adequate quantity of dish as said it...  \n6864                              Wrong items deluvered  \n\n[231 rows x 6 columns]\n"
     ]
    }
   ],
   "source": [
    "print(df)"
   ]
  },
  {
   "source": [
    "# Performing Sentiment Analysis"
   ],
   "cell_type": "markdown",
   "metadata": {}
  },
  {
   "cell_type": "code",
   "execution_count": 118,
   "metadata": {
    "tags": []
   },
   "outputs": [
    {
     "output_type": "stream",
     "name": "stdout",
     "text": [
      "<bound method DataFrame.info of                                                Feedback\n18    I don't think it's delivery guy fault but pack...\n19    I don't think it's delivery guy fault but pack...\n33      I liked the quantity of the food and the taste.\n49    Bhindi was very raw, butter milk had a foul smell\n50    Bhindi was very raw, butter milk had a foul smell\n...                                                 ...\n6597  No sweet delivered, paratha was maida tandoori...\n6598  No sweet delivered, paratha was maida tandoori...\n6715  Not given adequate quantity of dish as said it...\n6716  Not given adequate quantity of dish as said it...\n6864                              Wrong items deluvered\n\n[231 rows x 1 columns]>\n"
     ]
    }
   ],
   "source": [
    "\n",
    "feedback = pd.DataFrame(df['Feedback'])\n",
    "\n",
    "print(feedback.info)"
   ]
  },
  {
   "cell_type": "code",
   "execution_count": 120,
   "metadata": {},
   "outputs": [],
   "source": [
    "# Data Cleaning removing unwanted data\n",
    "def unwanted(t):\n",
    "    t = re.sub('[^A-Za-z]+', ' ', t)\n",
    "    return t\n",
    "\n",
    "feedback['cleaned'] = feedback['Feedback'].apply(unwanted)"
   ]
  },
  {
   "cell_type": "code",
   "execution_count": 122,
   "metadata": {},
   "outputs": [
    {
     "output_type": "execute_result",
     "data": {
      "text/plain": [
       "                                               Feedback  \\\n",
       "18    I don't think it's delivery guy fault but pack...   \n",
       "19    I don't think it's delivery guy fault but pack...   \n",
       "33      I liked the quantity of the food and the taste.   \n",
       "49    Bhindi was very raw, butter milk had a foul smell   \n",
       "50    Bhindi was very raw, butter milk had a foul smell   \n",
       "...                                                 ...   \n",
       "6597  No sweet delivered, paratha was maida tandoori...   \n",
       "6598  No sweet delivered, paratha was maida tandoori...   \n",
       "6715  Not given adequate quantity of dish as said it...   \n",
       "6716  Not given adequate quantity of dish as said it...   \n",
       "6864                              Wrong items deluvered   \n",
       "\n",
       "                                                cleaned  \n",
       "18    I don t think it s delivery guy fault but pack...  \n",
       "19    I don t think it s delivery guy fault but pack...  \n",
       "33      I liked the quantity of the food and the taste   \n",
       "49     Bhindi was very raw butter milk had a foul smell  \n",
       "50     Bhindi was very raw butter milk had a foul smell  \n",
       "...                                                 ...  \n",
       "6597  No sweet delivered paratha was maida tandoori ...  \n",
       "6598  No sweet delivered paratha was maida tandoori ...  \n",
       "6715  Not given adequate quantity of dish as said it...  \n",
       "6716  Not given adequate quantity of dish as said it...  \n",
       "6864                              Wrong items deluvered  \n",
       "\n",
       "[231 rows x 2 columns]"
      ],
      "text/html": "<div>\n<style scoped>\n    .dataframe tbody tr th:only-of-type {\n        vertical-align: middle;\n    }\n\n    .dataframe tbody tr th {\n        vertical-align: top;\n    }\n\n    .dataframe thead th {\n        text-align: right;\n    }\n</style>\n<table border=\"1\" class=\"dataframe\">\n  <thead>\n    <tr style=\"text-align: right;\">\n      <th></th>\n      <th>Feedback</th>\n      <th>cleaned</th>\n    </tr>\n  </thead>\n  <tbody>\n    <tr>\n      <th>18</th>\n      <td>I don't think it's delivery guy fault but pack...</td>\n      <td>I don t think it s delivery guy fault but pack...</td>\n    </tr>\n    <tr>\n      <th>19</th>\n      <td>I don't think it's delivery guy fault but pack...</td>\n      <td>I don t think it s delivery guy fault but pack...</td>\n    </tr>\n    <tr>\n      <th>33</th>\n      <td>I liked the quantity of the food and the taste.</td>\n      <td>I liked the quantity of the food and the taste</td>\n    </tr>\n    <tr>\n      <th>49</th>\n      <td>Bhindi was very raw, butter milk had a foul smell</td>\n      <td>Bhindi was very raw butter milk had a foul smell</td>\n    </tr>\n    <tr>\n      <th>50</th>\n      <td>Bhindi was very raw, butter milk had a foul smell</td>\n      <td>Bhindi was very raw butter milk had a foul smell</td>\n    </tr>\n    <tr>\n      <th>...</th>\n      <td>...</td>\n      <td>...</td>\n    </tr>\n    <tr>\n      <th>6597</th>\n      <td>No sweet delivered, paratha was maida tandoori...</td>\n      <td>No sweet delivered paratha was maida tandoori ...</td>\n    </tr>\n    <tr>\n      <th>6598</th>\n      <td>No sweet delivered, paratha was maida tandoori...</td>\n      <td>No sweet delivered paratha was maida tandoori ...</td>\n    </tr>\n    <tr>\n      <th>6715</th>\n      <td>Not given adequate quantity of dish as said it...</td>\n      <td>Not given adequate quantity of dish as said it...</td>\n    </tr>\n    <tr>\n      <th>6716</th>\n      <td>Not given adequate quantity of dish as said it...</td>\n      <td>Not given adequate quantity of dish as said it...</td>\n    </tr>\n    <tr>\n      <th>6864</th>\n      <td>Wrong items deluvered</td>\n      <td>Wrong items deluvered</td>\n    </tr>\n  </tbody>\n</table>\n<p>231 rows × 2 columns</p>\n</div>"
     },
     "metadata": {},
     "execution_count": 122
    }
   ],
   "source": [
    "feedback"
   ]
  },
  {
   "source": [
    "tokenize"
   ],
   "cell_type": "markdown",
   "metadata": {}
  },
  {
   "cell_type": "code",
   "execution_count": 126,
   "metadata": {},
   "outputs": [],
   "source": [
    "words = [w for w in nltk.corpus.state_union.words() if w.isalpha()]\n",
    "\n",
    "stopwords = nltk.corpus.stopwords.words(\"english\")\n",
    "\n",
    "words = [w for w in words if w.lower() not in stopwords]"
   ]
  },
  {
   "cell_type": "code",
   "execution_count": 132,
   "metadata": {},
   "outputs": [],
   "source": [
    "from nltk.tokenize import word_tokenize\n",
    "feedback['tokenized'] = feedback['cleaned'].apply(word_tokenize)\n"
   ]
  },
  {
   "cell_type": "code",
   "execution_count": 134,
   "metadata": {},
   "outputs": [
    {
     "output_type": "execute_result",
     "data": {
      "text/plain": [
       "                                               Feedback  \\\n",
       "18    I don't think it's delivery guy fault but pack...   \n",
       "19    I don't think it's delivery guy fault but pack...   \n",
       "33      I liked the quantity of the food and the taste.   \n",
       "49    Bhindi was very raw, butter milk had a foul smell   \n",
       "50    Bhindi was very raw, butter milk had a foul smell   \n",
       "...                                                 ...   \n",
       "6597  No sweet delivered, paratha was maida tandoori...   \n",
       "6598  No sweet delivered, paratha was maida tandoori...   \n",
       "6715  Not given adequate quantity of dish as said it...   \n",
       "6716  Not given adequate quantity of dish as said it...   \n",
       "6864                              Wrong items deluvered   \n",
       "\n",
       "                                                cleaned  \\\n",
       "18    I don t think it s delivery guy fault but pack...   \n",
       "19    I don t think it s delivery guy fault but pack...   \n",
       "33      I liked the quantity of the food and the taste    \n",
       "49     Bhindi was very raw butter milk had a foul smell   \n",
       "50     Bhindi was very raw butter milk had a foul smell   \n",
       "...                                                 ...   \n",
       "6597  No sweet delivered paratha was maida tandoori ...   \n",
       "6598  No sweet delivered paratha was maida tandoori ...   \n",
       "6715  Not given adequate quantity of dish as said it...   \n",
       "6716  Not given adequate quantity of dish as said it...   \n",
       "6864                              Wrong items deluvered   \n",
       "\n",
       "                                              tokenized  \\\n",
       "18    [I, don, t, think, it, s, delivery, guy, fault...   \n",
       "19    [I, don, t, think, it, s, delivery, guy, fault...   \n",
       "33    [I, liked, the, quantity, of, the, food, and, ...   \n",
       "49    [Bhindi, was, very, raw, butter, milk, had, a,...   \n",
       "50    [Bhindi, was, very, raw, butter, milk, had, a,...   \n",
       "...                                                 ...   \n",
       "6597  [No, sweet, delivered, paratha, was, maida, ta...   \n",
       "6598  [No, sweet, delivered, paratha, was, maida, ta...   \n",
       "6715  [Not, given, adequate, quantity, of, dish, as,...   \n",
       "6716  [Not, given, adequate, quantity, of, dish, as,...   \n",
       "6864                          [Wrong, items, deluvered]   \n",
       "\n",
       "                                                pos_tag  \n",
       "18    [(I, PRP), (don, VBP), (t, JJ), (think, VBP), ...  \n",
       "19    [(I, PRP), (don, VBP), (t, JJ), (think, VBP), ...  \n",
       "33    [(I, PRP), (liked, VBD), (the, DT), (quantity,...  \n",
       "49    [(Bhindi, NNP), (was, VBD), (very, RB), (raw, ...  \n",
       "50    [(Bhindi, NNP), (was, VBD), (very, RB), (raw, ...  \n",
       "...                                                 ...  \n",
       "6597  [(No, DT), (sweet, JJ), (delivered, VBD), (par...  \n",
       "6598  [(No, DT), (sweet, JJ), (delivered, VBD), (par...  \n",
       "6715  [(Not, RB), (given, VBN), (adequate, JJ), (qua...  \n",
       "6716  [(Not, RB), (given, VBN), (adequate, JJ), (qua...  \n",
       "6864      [(Wrong, JJ), (items, NNS), (deluvered, VBD)]  \n",
       "\n",
       "[231 rows x 4 columns]"
      ],
      "text/html": "<div>\n<style scoped>\n    .dataframe tbody tr th:only-of-type {\n        vertical-align: middle;\n    }\n\n    .dataframe tbody tr th {\n        vertical-align: top;\n    }\n\n    .dataframe thead th {\n        text-align: right;\n    }\n</style>\n<table border=\"1\" class=\"dataframe\">\n  <thead>\n    <tr style=\"text-align: right;\">\n      <th></th>\n      <th>Feedback</th>\n      <th>cleaned</th>\n      <th>tokenized</th>\n      <th>pos_tag</th>\n    </tr>\n  </thead>\n  <tbody>\n    <tr>\n      <th>18</th>\n      <td>I don't think it's delivery guy fault but pack...</td>\n      <td>I don t think it s delivery guy fault but pack...</td>\n      <td>[I, don, t, think, it, s, delivery, guy, fault...</td>\n      <td>[(I, PRP), (don, VBP), (t, JJ), (think, VBP), ...</td>\n    </tr>\n    <tr>\n      <th>19</th>\n      <td>I don't think it's delivery guy fault but pack...</td>\n      <td>I don t think it s delivery guy fault but pack...</td>\n      <td>[I, don, t, think, it, s, delivery, guy, fault...</td>\n      <td>[(I, PRP), (don, VBP), (t, JJ), (think, VBP), ...</td>\n    </tr>\n    <tr>\n      <th>33</th>\n      <td>I liked the quantity of the food and the taste.</td>\n      <td>I liked the quantity of the food and the taste</td>\n      <td>[I, liked, the, quantity, of, the, food, and, ...</td>\n      <td>[(I, PRP), (liked, VBD), (the, DT), (quantity,...</td>\n    </tr>\n    <tr>\n      <th>49</th>\n      <td>Bhindi was very raw, butter milk had a foul smell</td>\n      <td>Bhindi was very raw butter milk had a foul smell</td>\n      <td>[Bhindi, was, very, raw, butter, milk, had, a,...</td>\n      <td>[(Bhindi, NNP), (was, VBD), (very, RB), (raw, ...</td>\n    </tr>\n    <tr>\n      <th>50</th>\n      <td>Bhindi was very raw, butter milk had a foul smell</td>\n      <td>Bhindi was very raw butter milk had a foul smell</td>\n      <td>[Bhindi, was, very, raw, butter, milk, had, a,...</td>\n      <td>[(Bhindi, NNP), (was, VBD), (very, RB), (raw, ...</td>\n    </tr>\n    <tr>\n      <th>...</th>\n      <td>...</td>\n      <td>...</td>\n      <td>...</td>\n      <td>...</td>\n    </tr>\n    <tr>\n      <th>6597</th>\n      <td>No sweet delivered, paratha was maida tandoori...</td>\n      <td>No sweet delivered paratha was maida tandoori ...</td>\n      <td>[No, sweet, delivered, paratha, was, maida, ta...</td>\n      <td>[(No, DT), (sweet, JJ), (delivered, VBD), (par...</td>\n    </tr>\n    <tr>\n      <th>6598</th>\n      <td>No sweet delivered, paratha was maida tandoori...</td>\n      <td>No sweet delivered paratha was maida tandoori ...</td>\n      <td>[No, sweet, delivered, paratha, was, maida, ta...</td>\n      <td>[(No, DT), (sweet, JJ), (delivered, VBD), (par...</td>\n    </tr>\n    <tr>\n      <th>6715</th>\n      <td>Not given adequate quantity of dish as said it...</td>\n      <td>Not given adequate quantity of dish as said it...</td>\n      <td>[Not, given, adequate, quantity, of, dish, as,...</td>\n      <td>[(Not, RB), (given, VBN), (adequate, JJ), (qua...</td>\n    </tr>\n    <tr>\n      <th>6716</th>\n      <td>Not given adequate quantity of dish as said it...</td>\n      <td>Not given adequate quantity of dish as said it...</td>\n      <td>[Not, given, adequate, quantity, of, dish, as,...</td>\n      <td>[(Not, RB), (given, VBN), (adequate, JJ), (qua...</td>\n    </tr>\n    <tr>\n      <th>6864</th>\n      <td>Wrong items deluvered</td>\n      <td>Wrong items deluvered</td>\n      <td>[Wrong, items, deluvered]</td>\n      <td>[(Wrong, JJ), (items, NNS), (deluvered, VBD)]</td>\n    </tr>\n  </tbody>\n</table>\n<p>231 rows × 4 columns</p>\n</div>"
     },
     "metadata": {},
     "execution_count": 134
    }
   ],
   "source": [
    "feedback['pos_tag']= feedback['tokenized'].apply(pos_tag)\n",
    "feedback"
   ]
  },
  {
   "cell_type": "code",
   "execution_count": 144,
   "metadata": {},
   "outputs": [],
   "source": [
    "f1 = pd.DataFrame(feedback)\n",
    "import nltk\n",
    "nltk.download('punkt')\n",
    "from nltk.tokenize import word_tokenize\n",
    "\n",
    "from nltk import pos_tag\n",
    "nltk.download('stopwords')\n",
    "from nltk.corpus import stopwords\n",
    "nltk.download('wordnet')\n",
    "from nltk.corpus import wordnet\n",
    "\n",
    "# POS tagger dictionary\n",
    "pos_dict = {'J':wordnet.ADJ, 'V':wordnet.VERB, 'N':wordnet.NOUN, 'R':wordnet.ADV}\n",
    "def token_stop_pos(text):\n",
    "    tags = pos_tag(word_tokenize(text))\n",
    "    newlist = []\n",
    "    for word, tag in tags:\n",
    "        if word.lower() not in set(stopwords.words('english')):\n",
    "        newlist.append(tuple([word, pos_dict.get(tag[0])]))\n",
    "    return newlist\n",
    "\n",
    "mydata['POS tagged'] = mydata['Cleaned Reviews'].apply(token_stop_pos)\n",
    "mydata.head()\n"
   ]
  },
  {
   "cell_type": "code",
   "execution_count": 146,
   "metadata": {},
   "outputs": [
    {
     "output_type": "execute_result",
     "data": {
      "text/plain": [
       "                                               Feedback  \\\n",
       "18    I don't think it's delivery guy fault but pack...   \n",
       "19    I don't think it's delivery guy fault but pack...   \n",
       "33      I liked the quantity of the food and the taste.   \n",
       "49    Bhindi was very raw, butter milk had a foul smell   \n",
       "50    Bhindi was very raw, butter milk had a foul smell   \n",
       "...                                                 ...   \n",
       "6597  No sweet delivered, paratha was maida tandoori...   \n",
       "6598  No sweet delivered, paratha was maida tandoori...   \n",
       "6715  Not given adequate quantity of dish as said it...   \n",
       "6716  Not given adequate quantity of dish as said it...   \n",
       "6864                              Wrong items deluvered   \n",
       "\n",
       "                                                cleaned  \\\n",
       "18    I don t think it s delivery guy fault but pack...   \n",
       "19    I don t think it s delivery guy fault but pack...   \n",
       "33      I liked the quantity of the food and the taste    \n",
       "49     Bhindi was very raw butter milk had a foul smell   \n",
       "50     Bhindi was very raw butter milk had a foul smell   \n",
       "...                                                 ...   \n",
       "6597  No sweet delivered paratha was maida tandoori ...   \n",
       "6598  No sweet delivered paratha was maida tandoori ...   \n",
       "6715  Not given adequate quantity of dish as said it...   \n",
       "6716  Not given adequate quantity of dish as said it...   \n",
       "6864                              Wrong items deluvered   \n",
       "\n",
       "                                              tokenized  \\\n",
       "18    [I, don, t, think, it, s, delivery, guy, fault...   \n",
       "19    [I, don, t, think, it, s, delivery, guy, fault...   \n",
       "33    [I, liked, the, quantity, of, the, food, and, ...   \n",
       "49    [Bhindi, was, very, raw, butter, milk, had, a,...   \n",
       "50    [Bhindi, was, very, raw, butter, milk, had, a,...   \n",
       "...                                                 ...   \n",
       "6597  [No, sweet, delivered, paratha, was, maida, ta...   \n",
       "6598  [No, sweet, delivered, paratha, was, maida, ta...   \n",
       "6715  [Not, given, adequate, quantity, of, dish, as,...   \n",
       "6716  [Not, given, adequate, quantity, of, dish, as,...   \n",
       "6864                          [Wrong, items, deluvered]   \n",
       "\n",
       "                                                pos_tag  \\\n",
       "18    [(I, PRP), (don, VBP), (t, JJ), (think, VBP), ...   \n",
       "19    [(I, PRP), (don, VBP), (t, JJ), (think, VBP), ...   \n",
       "33    [(I, PRP), (liked, VBD), (the, DT), (quantity,...   \n",
       "49    [(Bhindi, NNP), (was, VBD), (very, RB), (raw, ...   \n",
       "50    [(Bhindi, NNP), (was, VBD), (very, RB), (raw, ...   \n",
       "...                                                 ...   \n",
       "6597  [(No, DT), (sweet, JJ), (delivered, VBD), (par...   \n",
       "6598  [(No, DT), (sweet, JJ), (delivered, VBD), (par...   \n",
       "6715  [(Not, RB), (given, VBN), (adequate, JJ), (qua...   \n",
       "6716  [(Not, RB), (given, VBN), (adequate, JJ), (qua...   \n",
       "6864      [(Wrong, JJ), (items, NNS), (deluvered, VBD)]   \n",
       "\n",
       "                                              stopwords  \\\n",
       "18    [(think, v), (delivery, n), (guy, n), (fault, ...   \n",
       "19    [(think, v), (delivery, n), (guy, n), (fault, ...   \n",
       "33    [(liked, v), (quantity, n), (food, n), (taste,...   \n",
       "49    [(Bhindi, n), (raw, a), (butter, n), (milk, n)...   \n",
       "50    [(Bhindi, n), (raw, a), (butter, n), (milk, n)...   \n",
       "...                                                 ...   \n",
       "6597  [(sweet, a), (delivered, v), (paratha, n), (ma...   \n",
       "6598  [(sweet, a), (delivered, v), (paratha, n), (ma...   \n",
       "6715  [(given, v), (adequate, a), (quantity, n), (di...   \n",
       "6716  [(given, v), (adequate, a), (quantity, n), (di...   \n",
       "6864           [(Wrong, a), (items, n), (deluvered, v)]   \n",
       "\n",
       "                                                  Lemma  \n",
       "18      think delivery guy fault packet break due le...  \n",
       "19      think delivery guy fault packet break due le...  \n",
       "33      think delivery guy fault packet break due le...  \n",
       "49      think delivery guy fault packet break due le...  \n",
       "50      think delivery guy fault packet break due le...  \n",
       "...                                                 ...  \n",
       "6597    think delivery guy fault packet break due le...  \n",
       "6598    think delivery guy fault packet break due le...  \n",
       "6715    think delivery guy fault packet break due le...  \n",
       "6716    think delivery guy fault packet break due le...  \n",
       "6864    think delivery guy fault packet break due le...  \n",
       "\n",
       "[231 rows x 6 columns]"
      ],
      "text/html": "<div>\n<style scoped>\n    .dataframe tbody tr th:only-of-type {\n        vertical-align: middle;\n    }\n\n    .dataframe tbody tr th {\n        vertical-align: top;\n    }\n\n    .dataframe thead th {\n        text-align: right;\n    }\n</style>\n<table border=\"1\" class=\"dataframe\">\n  <thead>\n    <tr style=\"text-align: right;\">\n      <th></th>\n      <th>Feedback</th>\n      <th>cleaned</th>\n      <th>tokenized</th>\n      <th>pos_tag</th>\n      <th>stopwords</th>\n      <th>Lemma</th>\n    </tr>\n  </thead>\n  <tbody>\n    <tr>\n      <th>18</th>\n      <td>I don't think it's delivery guy fault but pack...</td>\n      <td>I don t think it s delivery guy fault but pack...</td>\n      <td>[I, don, t, think, it, s, delivery, guy, fault...</td>\n      <td>[(I, PRP), (don, VBP), (t, JJ), (think, VBP), ...</td>\n      <td>[(think, v), (delivery, n), (guy, n), (fault, ...</td>\n      <td>think delivery guy fault packet break due le...</td>\n    </tr>\n    <tr>\n      <th>19</th>\n      <td>I don't think it's delivery guy fault but pack...</td>\n      <td>I don t think it s delivery guy fault but pack...</td>\n      <td>[I, don, t, think, it, s, delivery, guy, fault...</td>\n      <td>[(I, PRP), (don, VBP), (t, JJ), (think, VBP), ...</td>\n      <td>[(think, v), (delivery, n), (guy, n), (fault, ...</td>\n      <td>think delivery guy fault packet break due le...</td>\n    </tr>\n    <tr>\n      <th>33</th>\n      <td>I liked the quantity of the food and the taste.</td>\n      <td>I liked the quantity of the food and the taste</td>\n      <td>[I, liked, the, quantity, of, the, food, and, ...</td>\n      <td>[(I, PRP), (liked, VBD), (the, DT), (quantity,...</td>\n      <td>[(liked, v), (quantity, n), (food, n), (taste,...</td>\n      <td>think delivery guy fault packet break due le...</td>\n    </tr>\n    <tr>\n      <th>49</th>\n      <td>Bhindi was very raw, butter milk had a foul smell</td>\n      <td>Bhindi was very raw butter milk had a foul smell</td>\n      <td>[Bhindi, was, very, raw, butter, milk, had, a,...</td>\n      <td>[(Bhindi, NNP), (was, VBD), (very, RB), (raw, ...</td>\n      <td>[(Bhindi, n), (raw, a), (butter, n), (milk, n)...</td>\n      <td>think delivery guy fault packet break due le...</td>\n    </tr>\n    <tr>\n      <th>50</th>\n      <td>Bhindi was very raw, butter milk had a foul smell</td>\n      <td>Bhindi was very raw butter milk had a foul smell</td>\n      <td>[Bhindi, was, very, raw, butter, milk, had, a,...</td>\n      <td>[(Bhindi, NNP), (was, VBD), (very, RB), (raw, ...</td>\n      <td>[(Bhindi, n), (raw, a), (butter, n), (milk, n)...</td>\n      <td>think delivery guy fault packet break due le...</td>\n    </tr>\n    <tr>\n      <th>...</th>\n      <td>...</td>\n      <td>...</td>\n      <td>...</td>\n      <td>...</td>\n      <td>...</td>\n      <td>...</td>\n    </tr>\n    <tr>\n      <th>6597</th>\n      <td>No sweet delivered, paratha was maida tandoori...</td>\n      <td>No sweet delivered paratha was maida tandoori ...</td>\n      <td>[No, sweet, delivered, paratha, was, maida, ta...</td>\n      <td>[(No, DT), (sweet, JJ), (delivered, VBD), (par...</td>\n      <td>[(sweet, a), (delivered, v), (paratha, n), (ma...</td>\n      <td>think delivery guy fault packet break due le...</td>\n    </tr>\n    <tr>\n      <th>6598</th>\n      <td>No sweet delivered, paratha was maida tandoori...</td>\n      <td>No sweet delivered paratha was maida tandoori ...</td>\n      <td>[No, sweet, delivered, paratha, was, maida, ta...</td>\n      <td>[(No, DT), (sweet, JJ), (delivered, VBD), (par...</td>\n      <td>[(sweet, a), (delivered, v), (paratha, n), (ma...</td>\n      <td>think delivery guy fault packet break due le...</td>\n    </tr>\n    <tr>\n      <th>6715</th>\n      <td>Not given adequate quantity of dish as said it...</td>\n      <td>Not given adequate quantity of dish as said it...</td>\n      <td>[Not, given, adequate, quantity, of, dish, as,...</td>\n      <td>[(Not, RB), (given, VBN), (adequate, JJ), (qua...</td>\n      <td>[(given, v), (adequate, a), (quantity, n), (di...</td>\n      <td>think delivery guy fault packet break due le...</td>\n    </tr>\n    <tr>\n      <th>6716</th>\n      <td>Not given adequate quantity of dish as said it...</td>\n      <td>Not given adequate quantity of dish as said it...</td>\n      <td>[Not, given, adequate, quantity, of, dish, as,...</td>\n      <td>[(Not, RB), (given, VBN), (adequate, JJ), (qua...</td>\n      <td>[(given, v), (adequate, a), (quantity, n), (di...</td>\n      <td>think delivery guy fault packet break due le...</td>\n    </tr>\n    <tr>\n      <th>6864</th>\n      <td>Wrong items deluvered</td>\n      <td>Wrong items deluvered</td>\n      <td>[Wrong, items, deluvered]</td>\n      <td>[(Wrong, JJ), (items, NNS), (deluvered, VBD)]</td>\n      <td>[(Wrong, a), (items, n), (deluvered, v)]</td>\n      <td>think delivery guy fault packet break due le...</td>\n    </tr>\n  </tbody>\n</table>\n<p>231 rows × 6 columns</p>\n</div>"
     },
     "metadata": {},
     "execution_count": 146
    }
   ],
   "source": [
    "posdict = {'J':wordnet.ADJ, 'V':wordnet.VERB, 'N':wordnet.NOUN, 'R':wordnet.ADV}\n",
    "#lst =[]\n",
    "#unwanted = nltk.corpus.stopwords.words(\"english\")\n",
    "\n",
    "def stopwords_data(t):\n",
    "    lst =[]\n",
    "    for word, tag in t:\n",
    "            if word.lower() not in set(nltk.corpus.stopwords.words(\"english\")):\n",
    "                lst.append(tuple([word, posdict.get(tag[0])]))\n",
    "    return lst\n",
    "feedback['stopwords']= feedback['pos_tag'].apply(stopwords_data)\n",
    "feedback"
   ]
  },
  {
   "cell_type": "code",
   "execution_count": 147,
   "metadata": {},
   "outputs": [
    {
     "output_type": "execute_result",
     "data": {
      "text/plain": [
       "                                               Feedback  \\\n",
       "18    I don't think it's delivery guy fault but pack...   \n",
       "19    I don't think it's delivery guy fault but pack...   \n",
       "33      I liked the quantity of the food and the taste.   \n",
       "49    Bhindi was very raw, butter milk had a foul smell   \n",
       "50    Bhindi was very raw, butter milk had a foul smell   \n",
       "...                                                 ...   \n",
       "6597  No sweet delivered, paratha was maida tandoori...   \n",
       "6598  No sweet delivered, paratha was maida tandoori...   \n",
       "6715  Not given adequate quantity of dish as said it...   \n",
       "6716  Not given adequate quantity of dish as said it...   \n",
       "6864                              Wrong items deluvered   \n",
       "\n",
       "                                                cleaned  \\\n",
       "18    I don t think it s delivery guy fault but pack...   \n",
       "19    I don t think it s delivery guy fault but pack...   \n",
       "33      I liked the quantity of the food and the taste    \n",
       "49     Bhindi was very raw butter milk had a foul smell   \n",
       "50     Bhindi was very raw butter milk had a foul smell   \n",
       "...                                                 ...   \n",
       "6597  No sweet delivered paratha was maida tandoori ...   \n",
       "6598  No sweet delivered paratha was maida tandoori ...   \n",
       "6715  Not given adequate quantity of dish as said it...   \n",
       "6716  Not given adequate quantity of dish as said it...   \n",
       "6864                              Wrong items deluvered   \n",
       "\n",
       "                                              tokenized  \\\n",
       "18    [I, don, t, think, it, s, delivery, guy, fault...   \n",
       "19    [I, don, t, think, it, s, delivery, guy, fault...   \n",
       "33    [I, liked, the, quantity, of, the, food, and, ...   \n",
       "49    [Bhindi, was, very, raw, butter, milk, had, a,...   \n",
       "50    [Bhindi, was, very, raw, butter, milk, had, a,...   \n",
       "...                                                 ...   \n",
       "6597  [No, sweet, delivered, paratha, was, maida, ta...   \n",
       "6598  [No, sweet, delivered, paratha, was, maida, ta...   \n",
       "6715  [Not, given, adequate, quantity, of, dish, as,...   \n",
       "6716  [Not, given, adequate, quantity, of, dish, as,...   \n",
       "6864                          [Wrong, items, deluvered]   \n",
       "\n",
       "                                                pos_tag  \\\n",
       "18    [(I, PRP), (don, VBP), (t, JJ), (think, VBP), ...   \n",
       "19    [(I, PRP), (don, VBP), (t, JJ), (think, VBP), ...   \n",
       "33    [(I, PRP), (liked, VBD), (the, DT), (quantity,...   \n",
       "49    [(Bhindi, NNP), (was, VBD), (very, RB), (raw, ...   \n",
       "50    [(Bhindi, NNP), (was, VBD), (very, RB), (raw, ...   \n",
       "...                                                 ...   \n",
       "6597  [(No, DT), (sweet, JJ), (delivered, VBD), (par...   \n",
       "6598  [(No, DT), (sweet, JJ), (delivered, VBD), (par...   \n",
       "6715  [(Not, RB), (given, VBN), (adequate, JJ), (qua...   \n",
       "6716  [(Not, RB), (given, VBN), (adequate, JJ), (qua...   \n",
       "6864      [(Wrong, JJ), (items, NNS), (deluvered, VBD)]   \n",
       "\n",
       "                                              stopwords  \\\n",
       "18    [(think, v), (delivery, n), (guy, n), (fault, ...   \n",
       "19    [(think, v), (delivery, n), (guy, n), (fault, ...   \n",
       "33    [(liked, v), (quantity, n), (food, n), (taste,...   \n",
       "49    [(Bhindi, n), (raw, a), (butter, n), (milk, n)...   \n",
       "50    [(Bhindi, n), (raw, a), (butter, n), (milk, n)...   \n",
       "...                                                 ...   \n",
       "6597  [(sweet, a), (delivered, v), (paratha, n), (ma...   \n",
       "6598  [(sweet, a), (delivered, v), (paratha, n), (ma...   \n",
       "6715  [(given, v), (adequate, a), (quantity, n), (di...   \n",
       "6716  [(given, v), (adequate, a), (quantity, n), (di...   \n",
       "6864           [(Wrong, a), (items, n), (deluvered, v)]   \n",
       "\n",
       "                                                  Lemma  \n",
       "18      think delivery guy fault packet break due le...  \n",
       "19      think delivery guy fault packet break due le...  \n",
       "33                             like quantity food taste  \n",
       "49                    Bhindi raw butter milk foul smell  \n",
       "50                    Bhindi raw butter milk foul smell  \n",
       "...                                                 ...  \n",
       "6597    sweet deliver paratha maida tandoori look li...  \n",
       "6598    sweet deliver paratha maida tandoori look li...  \n",
       "6715            give adequate quantity dish say provide  \n",
       "6716            give adequate quantity dish say provide  \n",
       "6864                               Wrong item deluvered  \n",
       "\n",
       "[231 rows x 6 columns]"
      ],
      "text/html": "<div>\n<style scoped>\n    .dataframe tbody tr th:only-of-type {\n        vertical-align: middle;\n    }\n\n    .dataframe tbody tr th {\n        vertical-align: top;\n    }\n\n    .dataframe thead th {\n        text-align: right;\n    }\n</style>\n<table border=\"1\" class=\"dataframe\">\n  <thead>\n    <tr style=\"text-align: right;\">\n      <th></th>\n      <th>Feedback</th>\n      <th>cleaned</th>\n      <th>tokenized</th>\n      <th>pos_tag</th>\n      <th>stopwords</th>\n      <th>Lemma</th>\n    </tr>\n  </thead>\n  <tbody>\n    <tr>\n      <th>18</th>\n      <td>I don't think it's delivery guy fault but pack...</td>\n      <td>I don t think it s delivery guy fault but pack...</td>\n      <td>[I, don, t, think, it, s, delivery, guy, fault...</td>\n      <td>[(I, PRP), (don, VBP), (t, JJ), (think, VBP), ...</td>\n      <td>[(think, v), (delivery, n), (guy, n), (fault, ...</td>\n      <td>think delivery guy fault packet break due le...</td>\n    </tr>\n    <tr>\n      <th>19</th>\n      <td>I don't think it's delivery guy fault but pack...</td>\n      <td>I don t think it s delivery guy fault but pack...</td>\n      <td>[I, don, t, think, it, s, delivery, guy, fault...</td>\n      <td>[(I, PRP), (don, VBP), (t, JJ), (think, VBP), ...</td>\n      <td>[(think, v), (delivery, n), (guy, n), (fault, ...</td>\n      <td>think delivery guy fault packet break due le...</td>\n    </tr>\n    <tr>\n      <th>33</th>\n      <td>I liked the quantity of the food and the taste.</td>\n      <td>I liked the quantity of the food and the taste</td>\n      <td>[I, liked, the, quantity, of, the, food, and, ...</td>\n      <td>[(I, PRP), (liked, VBD), (the, DT), (quantity,...</td>\n      <td>[(liked, v), (quantity, n), (food, n), (taste,...</td>\n      <td>like quantity food taste</td>\n    </tr>\n    <tr>\n      <th>49</th>\n      <td>Bhindi was very raw, butter milk had a foul smell</td>\n      <td>Bhindi was very raw butter milk had a foul smell</td>\n      <td>[Bhindi, was, very, raw, butter, milk, had, a,...</td>\n      <td>[(Bhindi, NNP), (was, VBD), (very, RB), (raw, ...</td>\n      <td>[(Bhindi, n), (raw, a), (butter, n), (milk, n)...</td>\n      <td>Bhindi raw butter milk foul smell</td>\n    </tr>\n    <tr>\n      <th>50</th>\n      <td>Bhindi was very raw, butter milk had a foul smell</td>\n      <td>Bhindi was very raw butter milk had a foul smell</td>\n      <td>[Bhindi, was, very, raw, butter, milk, had, a,...</td>\n      <td>[(Bhindi, NNP), (was, VBD), (very, RB), (raw, ...</td>\n      <td>[(Bhindi, n), (raw, a), (butter, n), (milk, n)...</td>\n      <td>Bhindi raw butter milk foul smell</td>\n    </tr>\n    <tr>\n      <th>...</th>\n      <td>...</td>\n      <td>...</td>\n      <td>...</td>\n      <td>...</td>\n      <td>...</td>\n      <td>...</td>\n    </tr>\n    <tr>\n      <th>6597</th>\n      <td>No sweet delivered, paratha was maida tandoori...</td>\n      <td>No sweet delivered paratha was maida tandoori ...</td>\n      <td>[No, sweet, delivered, paratha, was, maida, ta...</td>\n      <td>[(No, DT), (sweet, JJ), (delivered, VBD), (par...</td>\n      <td>[(sweet, a), (delivered, v), (paratha, n), (ma...</td>\n      <td>sweet deliver paratha maida tandoori look li...</td>\n    </tr>\n    <tr>\n      <th>6598</th>\n      <td>No sweet delivered, paratha was maida tandoori...</td>\n      <td>No sweet delivered paratha was maida tandoori ...</td>\n      <td>[No, sweet, delivered, paratha, was, maida, ta...</td>\n      <td>[(No, DT), (sweet, JJ), (delivered, VBD), (par...</td>\n      <td>[(sweet, a), (delivered, v), (paratha, n), (ma...</td>\n      <td>sweet deliver paratha maida tandoori look li...</td>\n    </tr>\n    <tr>\n      <th>6715</th>\n      <td>Not given adequate quantity of dish as said it...</td>\n      <td>Not given adequate quantity of dish as said it...</td>\n      <td>[Not, given, adequate, quantity, of, dish, as,...</td>\n      <td>[(Not, RB), (given, VBN), (adequate, JJ), (qua...</td>\n      <td>[(given, v), (adequate, a), (quantity, n), (di...</td>\n      <td>give adequate quantity dish say provide</td>\n    </tr>\n    <tr>\n      <th>6716</th>\n      <td>Not given adequate quantity of dish as said it...</td>\n      <td>Not given adequate quantity of dish as said it...</td>\n      <td>[Not, given, adequate, quantity, of, dish, as,...</td>\n      <td>[(Not, RB), (given, VBN), (adequate, JJ), (qua...</td>\n      <td>[(given, v), (adequate, a), (quantity, n), (di...</td>\n      <td>give adequate quantity dish say provide</td>\n    </tr>\n    <tr>\n      <th>6864</th>\n      <td>Wrong items deluvered</td>\n      <td>Wrong items deluvered</td>\n      <td>[Wrong, items, deluvered]</td>\n      <td>[(Wrong, JJ), (items, NNS), (deluvered, VBD)]</td>\n      <td>[(Wrong, a), (items, n), (deluvered, v)]</td>\n      <td>Wrong item deluvered</td>\n    </tr>\n  </tbody>\n</table>\n<p>231 rows × 6 columns</p>\n</div>"
     },
     "metadata": {},
     "execution_count": 147
    }
   ],
   "source": [
    "from nltk.stem import WordNetLemmatizer\n",
    "\n",
    "wordnet_lemmatizer = WordNetLemmatizer()\n",
    "\n",
    "def lemmatize(data):\n",
    "    lemma_rew = \" \"\n",
    "\n",
    "    for word, pos in data:\n",
    "        if not pos:\n",
    "            lemma = word\n",
    "            lemma_rew = lemma_rew + \" \" + lemma\n",
    "        else:\n",
    "            lemma = wordnet_lemmatizer.lemmatize(word, pos=pos)\n",
    "            lemma_rew = lemma_rew + \" \" + lemma\n",
    "            \n",
    "    return lemma_rew\n",
    "\n",
    "feedback['Lemma'] = feedback['stopwords'].apply(lemmatize)\n",
    "feedback"
   ]
  },
  {
   "cell_type": "code",
   "execution_count": 148,
   "metadata": {},
   "outputs": [],
   "source": [
    "final_data = pd.DataFrame(feedback[['Feedback', 'Lemma']])"
   ]
  },
  {
   "cell_type": "code",
   "execution_count": 158,
   "metadata": {},
   "outputs": [],
   "source": [
    "from textblob import TextBlob\n",
    "# function to calculate subjectivity\n",
    "def getSubjectivity(review):\n",
    "    return TextBlob(review).sentiment.subjectivity\n",
    "    # function to calculate polarity\n",
    "def getPolarity(review):\n",
    "    return TextBlob(review).sentiment.polarity\n",
    "\n",
    "# function to analyze the reviews\n",
    "def analysis(score):\n",
    "    if score < 0:\n",
    "       return 'Negative'\n",
    "    elif score == 0:\n",
    "        return 'Neutral'\n",
    "    else:\n",
    "        return 'Positive'"
   ]
  },
  {
   "cell_type": "code",
   "execution_count": 159,
   "metadata": {},
   "outputs": [
    {
     "output_type": "execute_result",
     "data": {
      "text/plain": [
       "                                             Feedback  \\\n",
       "18  I don't think it's delivery guy fault but pack...   \n",
       "19  I don't think it's delivery guy fault but pack...   \n",
       "33    I liked the quantity of the food and the taste.   \n",
       "49  Bhindi was very raw, butter milk had a foul smell   \n",
       "50  Bhindi was very raw, butter milk had a foul smell   \n",
       "\n",
       "                                                Lemma  Subjectivity  Polarity  \\\n",
       "18    think delivery guy fault packet break due le...      0.375000 -0.125000   \n",
       "19    think delivery guy fault packet break due le...      0.375000 -0.125000   \n",
       "33                           like quantity food taste      0.000000  0.000000   \n",
       "49                  Bhindi raw butter milk foul smell      0.461538 -0.230769   \n",
       "50                  Bhindi raw butter milk foul smell      0.461538 -0.230769   \n",
       "\n",
       "    Analysis  \n",
       "18  Negative  \n",
       "19  Negative  \n",
       "33   Neutral  \n",
       "49  Negative  \n",
       "50  Negative  "
      ],
      "text/html": "<div>\n<style scoped>\n    .dataframe tbody tr th:only-of-type {\n        vertical-align: middle;\n    }\n\n    .dataframe tbody tr th {\n        vertical-align: top;\n    }\n\n    .dataframe thead th {\n        text-align: right;\n    }\n</style>\n<table border=\"1\" class=\"dataframe\">\n  <thead>\n    <tr style=\"text-align: right;\">\n      <th></th>\n      <th>Feedback</th>\n      <th>Lemma</th>\n      <th>Subjectivity</th>\n      <th>Polarity</th>\n      <th>Analysis</th>\n    </tr>\n  </thead>\n  <tbody>\n    <tr>\n      <th>18</th>\n      <td>I don't think it's delivery guy fault but pack...</td>\n      <td>think delivery guy fault packet break due le...</td>\n      <td>0.375000</td>\n      <td>-0.125000</td>\n      <td>Negative</td>\n    </tr>\n    <tr>\n      <th>19</th>\n      <td>I don't think it's delivery guy fault but pack...</td>\n      <td>think delivery guy fault packet break due le...</td>\n      <td>0.375000</td>\n      <td>-0.125000</td>\n      <td>Negative</td>\n    </tr>\n    <tr>\n      <th>33</th>\n      <td>I liked the quantity of the food and the taste.</td>\n      <td>like quantity food taste</td>\n      <td>0.000000</td>\n      <td>0.000000</td>\n      <td>Neutral</td>\n    </tr>\n    <tr>\n      <th>49</th>\n      <td>Bhindi was very raw, butter milk had a foul smell</td>\n      <td>Bhindi raw butter milk foul smell</td>\n      <td>0.461538</td>\n      <td>-0.230769</td>\n      <td>Negative</td>\n    </tr>\n    <tr>\n      <th>50</th>\n      <td>Bhindi was very raw, butter milk had a foul smell</td>\n      <td>Bhindi raw butter milk foul smell</td>\n      <td>0.461538</td>\n      <td>-0.230769</td>\n      <td>Negative</td>\n    </tr>\n  </tbody>\n</table>\n</div>"
     },
     "metadata": {},
     "execution_count": 159
    }
   ],
   "source": [
    "final_data['Subjectivity'] = final_data['Lemma'].apply(getSubjectivity) \n",
    "final_data['Polarity'] = final_data['Lemma'].apply(getPolarity) \n",
    "final_data['Analysis'] = final_data['Polarity'].apply(analysis)\n",
    "final_data.head()"
   ]
  },
  {
   "cell_type": "code",
   "execution_count": 160,
   "metadata": {},
   "outputs": [],
   "source": [
    "final_data.to_csv('final.csv')"
   ]
  }
 ]
}